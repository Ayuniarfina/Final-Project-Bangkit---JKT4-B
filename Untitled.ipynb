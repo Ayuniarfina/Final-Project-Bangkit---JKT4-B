{
  "nbformat": 4,
  "nbformat_minor": 0,
  "metadata": {
    "kernelspec": {
      "display_name": "Python 3",
      "language": "python",
      "name": "python3"
    },
    "language_info": {
      "codemirror_mode": {
        "name": "ipython",
        "version": 3
      },
      "file_extension": ".py",
      "mimetype": "text/x-python",
      "name": "python",
      "nbconvert_exporter": "python",
      "pygments_lexer": "ipython3",
      "version": "3.7.4"
    },
    "colab": {
      "name": "Untitled.ipynb",
      "provenance": [],
      "toc_visible": true
    },
    "accelerator": "GPU"
  },
  "cells": [
    {
      "cell_type": "code",
      "metadata": {
        "id": "N40H6I8Sfa9Z",
        "colab_type": "code",
        "colab": {}
      },
      "source": [
        "import csv\n",
        "import zipfile\n",
        "import numpy as np\n",
        "import tensorflow as tf"
      ],
      "execution_count": 0,
      "outputs": []
    },
    {
      "cell_type": "code",
      "metadata": {
        "id": "BQdu7Cbgfdjd",
        "colab_type": "code",
        "outputId": "5d825d59-6427-4f24-d1db-704b29f0ffc2",
        "colab": {
          "base_uri": "https://localhost:8080/",
          "height": 118
        }
      },
      "source": [
        "from google.colab import drive\n",
        "drive.mount('/content/gdrive')"
      ],
      "execution_count": 2,
      "outputs": [
        {
          "output_type": "stream",
          "text": [
            "Go to this URL in a browser: https://accounts.google.com/o/oauth2/auth?client_id=947318989803-6bn6qk8qdgf4n4g3pfee6491hc0brc4i.apps.googleusercontent.com&redirect_uri=urn%3aietf%3awg%3aoauth%3a2.0%3aoob&response_type=code&scope=email%20https%3a%2f%2fwww.googleapis.com%2fauth%2fdocs.test%20https%3a%2f%2fwww.googleapis.com%2fauth%2fdrive%20https%3a%2f%2fwww.googleapis.com%2fauth%2fdrive.photos.readonly%20https%3a%2f%2fwww.googleapis.com%2fauth%2fpeopleapi.readonly\n",
            "\n",
            "Enter your authorization code:\n",
            "··········\n",
            "Mounted at /content/gdrive\n"
          ],
          "name": "stdout"
        }
      ]
    },
    {
      "cell_type": "code",
      "metadata": {
        "id": "bjgIFWDkfdmj",
        "colab_type": "code",
        "colab": {}
      },
      "source": [
        "zipref = zipfile.ZipFile('/content/gdrive/My Drive/Data Colab/31050_39603_bundle_archive.zip')\n",
        "zipref.extractall('/tmp/dataset')"
      ],
      "execution_count": 0,
      "outputs": []
    },
    {
      "cell_type": "code",
      "metadata": {
        "id": "fjYRyOhttXqn",
        "colab_type": "code",
        "colab": {}
      },
      "source": [
        "# All dataset\n",
        "def getData(filname):\n",
        "    # images are 48x48\n",
        "    # N = 35887\n",
        "    Y1 = []\n",
        "    X1 = []\n",
        "    Y2 = []\n",
        "    X2 = []\n",
        "    Y3 = []\n",
        "    X3 = []\n",
        "    first = True\n",
        "\n",
        "    #Expression yang mau diikut sertakan\n",
        "    #Exp: [0: 'Anger', 1: 'Disgust', 2: 'Fear', 3: 'Happy', 4: 'Sad', 5: 'Surprise', 6: 'Neutral']\n",
        "    expression = ['0','1','2','3','4','5','6']\n",
        "\n",
        "    for line in open(filname):\n",
        "      if first:\n",
        "        first = False\n",
        "      else:\n",
        "        row = line.split(',')\n",
        "        if row[0] in expression:\n",
        "          if 'Training' in row[2]:\n",
        "            Y1.append(int(row[0]))\n",
        "            X1.append([int(p) for p in row[1].split()])\n",
        "          if 'PrivateTest' in row[2]:\n",
        "            Y2.append(int(row[0]))\n",
        "            X2.append([int(p) for p in row[1].split()])\n",
        "          if 'PublicTest' in row[2]:\n",
        "            Y3.append(int(row[0]))\n",
        "            X3.append([int(p) for p in row[1].split()])\n",
        "        else:\n",
        "          test=1\n",
        "    X1, Y1 = np.array(X1) / 255.0, np.array(Y1)\n",
        "    X2, Y2 = np.array(X2) / 255.0, np.array(Y2)\n",
        "    X3, Y3 = np.array(X3) / 255.0, np.array(Y3)\n",
        "\n",
        "    def berubah(x):\n",
        "      N, D = x.shape\n",
        "      return x.reshape(N, 48, 48,1)\n",
        "\n",
        "    return berubah(X1), Y1, berubah(X2), Y2, berubah(X3), Y3"
      ],
      "execution_count": 0,
      "outputs": []
    },
    {
      "cell_type": "code",
      "metadata": {
        "id": "2U-92Hxom6N2",
        "colab_type": "code",
        "colab": {}
      },
      "source": [
        "sourcelink = '/tmp/dataset/fer2013.csv'\n",
        "train_x, train_y, privatetest_x, privatetest_y, publictest_x, publictest_y = getData(sourcelink)"
      ],
      "execution_count": 0,
      "outputs": []
    },
    {
      "cell_type": "code",
      "metadata": {
        "id": "E6gOHzS6DcXk",
        "colab_type": "code",
        "colab": {
          "base_uri": "https://localhost:8080/",
          "height": 50
        },
        "outputId": "133bbd1a-b8cf-4ace-edb6-42881f5cd036"
      },
      "source": [
        "#Check Histogram\n",
        "np.histogram(train_y, bins=[0,1,2,3,4,5,6,7])"
      ],
      "execution_count": 6,
      "outputs": [
        {
          "output_type": "execute_result",
          "data": {
            "text/plain": [
              "(array([3995,  436, 4097, 7215, 4830, 3171,    0]),\n",
              " array([0, 1, 2, 3, 4, 5, 6, 7]))"
            ]
          },
          "metadata": {
            "tags": []
          },
          "execution_count": 6
        }
      ]
    },
    {
      "cell_type": "code",
      "metadata": {
        "id": "Kp_bmyRUH-Yr",
        "colab_type": "code",
        "colab": {}
      },
      "source": [
        "# Create Grayscale RGB\n",
        "train_x_rgb= tf.image.grayscale_to_rgb(tf.convert_to_tensor(train_x))\n",
        "privatetest_x_rgb = tf.image.grayscale_to_rgb(tf.convert_to_tensor(privatetest_x))\n",
        "publictest_x_rgb = tf.image.grayscale_to_rgb(tf.convert_to_tensor(publictest_x))"
      ],
      "execution_count": 0,
      "outputs": []
    },
    {
      "cell_type": "code",
      "metadata": {
        "id": "uejpD1lzovC6",
        "colab_type": "code",
        "colab": {}
      },
      "source": [
        "#train_x_rgb_rez = tf.image.resize(train_x_rgb, [150,150])\n",
        "#privatetest_x_rgb_rez = tf.image.resize(privatetest_x_rgb, [150,150])\n",
        "#publictest_x_rgb_rez = tf.image.resize(publictest_x_rgb, [150,150])"
      ],
      "execution_count": 0,
      "outputs": []
    },
    {
      "cell_type": "code",
      "metadata": {
        "id": "bYN8blqEo-vB",
        "colab_type": "code",
        "colab": {}
      },
      "source": [
        "#privatetest_x_rgb_rez.shape"
      ],
      "execution_count": 0,
      "outputs": []
    },
    {
      "cell_type": "code",
      "metadata": {
        "id": "pOcwEsiPoqg5",
        "colab_type": "code",
        "colab": {}
      },
      "source": [
        "#Check jumlah data\n",
        "#print('train_x shape & size:', train_x.shape , '&', len(train_x))\n",
        "#print('train_y shape & size:', train_y.shape, '&', len(train_x))\n",
        "#print('privatetest_x shape & size:', privatetest_x.shape,  '&', len(privatetest_x))\n",
        "#print('privatetest_y shape & size:', privatetest_y.shape,  '&', len(privatetest_y))\n",
        "#print('publictest_x shape & size:', publictest_x.shape,  '&', len(publictest_x))\n",
        "#print('publictest_y shape & size:', publictest_y.shape,  '&', len(publictest_y))"
      ],
      "execution_count": 0,
      "outputs": []
    },
    {
      "cell_type": "code",
      "metadata": {
        "id": "njq2Akz-aeBq",
        "colab_type": "code",
        "colab": {}
      },
      "source": [
        "datagen = tf.keras.preprocessing.image.ImageDataGenerator(\n",
        "      rotation_range=20,\n",
        "      width_shift_range=0.2,\n",
        "      height_shift_range=0.2,\n",
        "      shear_range=0.2,\n",
        "      zoom_range=0.2,\n",
        "      horizontal_flip=True,\n",
        "      fill_mode='nearest')"
      ],
      "execution_count": 0,
      "outputs": []
    },
    {
      "cell_type": "code",
      "metadata": {
        "id": "flApMiJFu5tr",
        "colab_type": "code",
        "outputId": "d52c63f2-09b9-4000-d091-fafe000ebd00",
        "colab": {
          "base_uri": "https://localhost:8080/",
          "height": 472
        }
      },
      "source": [
        "# Model 1\n",
        "\n",
        "expression = [0,1,2,3,4,5,6]\n",
        "\n",
        "model = tf.keras.models.Sequential([\n",
        "  tf.keras.layers.Conv2D(16,(3,3),activation='relu',input_shape=(48,48,3)),\n",
        "  tf.keras.layers.Conv2D(32,(3,3),activation='relu'),\n",
        "  tf.keras.layers.MaxPooling2D(2,2),\n",
        "  tf.keras.layers.Conv2D(32,(3,3),activation='relu'),\n",
        "  tf.keras.layers.Conv2D(64,(3,3),activation='relu'),\n",
        "  tf.keras.layers.MaxPooling2D(2,2),          \n",
        "  tf.keras.layers.Flatten(),\n",
        "  tf.keras.layers.Dense(32, activation='relu'),\n",
        "  tf.keras.layers.Dropout(0.5),\n",
        "  tf.keras.layers.Dense((len(expression)), activation='softmax')\n",
        "])\n",
        "\n",
        "model.summary()"
      ],
      "execution_count": 9,
      "outputs": [
        {
          "output_type": "stream",
          "text": [
            "Model: \"sequential\"\n",
            "_________________________________________________________________\n",
            "Layer (type)                 Output Shape              Param #   \n",
            "=================================================================\n",
            "conv2d (Conv2D)              (None, 46, 46, 16)        448       \n",
            "_________________________________________________________________\n",
            "conv2d_1 (Conv2D)            (None, 44, 44, 32)        4640      \n",
            "_________________________________________________________________\n",
            "max_pooling2d (MaxPooling2D) (None, 22, 22, 32)        0         \n",
            "_________________________________________________________________\n",
            "conv2d_2 (Conv2D)            (None, 20, 20, 32)        9248      \n",
            "_________________________________________________________________\n",
            "conv2d_3 (Conv2D)            (None, 18, 18, 64)        18496     \n",
            "_________________________________________________________________\n",
            "max_pooling2d_1 (MaxPooling2 (None, 9, 9, 64)          0         \n",
            "_________________________________________________________________\n",
            "flatten (Flatten)            (None, 5184)              0         \n",
            "_________________________________________________________________\n",
            "dense (Dense)                (None, 32)                165920    \n",
            "_________________________________________________________________\n",
            "dropout (Dropout)            (None, 32)                0         \n",
            "_________________________________________________________________\n",
            "dense_1 (Dense)              (None, 6)                 198       \n",
            "=================================================================\n",
            "Total params: 198,950\n",
            "Trainable params: 198,950\n",
            "Non-trainable params: 0\n",
            "_________________________________________________________________\n"
          ],
          "name": "stdout"
        }
      ]
    },
    {
      "cell_type": "code",
      "metadata": {
        "id": "VzyajucMv7U1",
        "colab_type": "code",
        "outputId": "d083bd1c-ea09-46db-b986-4d5774d4c1fd",
        "colab": {
          "base_uri": "https://localhost:8080/",
          "height": 667
        }
      },
      "source": [
        "model.compile(optimizer='adam', loss='sparse_categorical_crossentropy', metrics=['acc'])\n",
        "history = model.fit_generator(datagen.flow(train_x_rgb, train_y, batch_size=32), validation_data=(privatetest_x_rgb, privatetest_y), epochs=20)\n",
        "#history = model.fit(train_x_rgb, train_y, validation_data=(privatetest_x_rgb, privatetest_y), epochs=20 )"
      ],
      "execution_count": 11,
      "outputs": [
        {
          "output_type": "stream",
          "text": [
            "Epoch 1/20\n",
            "742/742 [==============================] - 26s 35ms/step - loss: 1.3034 - acc: 0.4760 - val_loss: 1.1583 - val_acc: 0.5370\n",
            "Epoch 2/20\n",
            "742/742 [==============================] - 26s 35ms/step - loss: 1.2897 - acc: 0.4806 - val_loss: 1.1528 - val_acc: 0.5316\n",
            "Epoch 3/20\n",
            "742/742 [==============================] - 26s 35ms/step - loss: 1.2833 - acc: 0.4816 - val_loss: 1.1912 - val_acc: 0.5265\n",
            "Epoch 4/20\n",
            "742/742 [==============================] - 26s 35ms/step - loss: 1.2788 - acc: 0.4828 - val_loss: 1.1330 - val_acc: 0.5424\n",
            "Epoch 5/20\n",
            "742/742 [==============================] - 26s 35ms/step - loss: 1.2787 - acc: 0.4810 - val_loss: 1.1309 - val_acc: 0.5386\n",
            "Epoch 6/20\n",
            "742/742 [==============================] - 26s 35ms/step - loss: 1.2748 - acc: 0.4869 - val_loss: 1.1367 - val_acc: 0.5322\n",
            "Epoch 7/20\n",
            "742/742 [==============================] - 26s 35ms/step - loss: 1.2640 - acc: 0.4892 - val_loss: 1.1403 - val_acc: 0.5363\n",
            "Epoch 8/20\n",
            "742/742 [==============================] - 26s 35ms/step - loss: 1.2557 - acc: 0.4896 - val_loss: 1.1281 - val_acc: 0.5430\n",
            "Epoch 9/20\n",
            "742/742 [==============================] - 26s 35ms/step - loss: 1.2620 - acc: 0.4901 - val_loss: 1.1371 - val_acc: 0.5353\n",
            "Epoch 10/20\n",
            "742/742 [==============================] - 26s 35ms/step - loss: 1.2498 - acc: 0.4931 - val_loss: 1.1170 - val_acc: 0.5420\n",
            "Epoch 11/20\n",
            "742/742 [==============================] - 26s 35ms/step - loss: 1.2451 - acc: 0.4970 - val_loss: 1.1187 - val_acc: 0.5454\n",
            "Epoch 12/20\n",
            "742/742 [==============================] - 26s 36ms/step - loss: 1.2409 - acc: 0.4997 - val_loss: 1.0929 - val_acc: 0.5545\n",
            "Epoch 13/20\n",
            "742/742 [==============================] - 27s 36ms/step - loss: 1.2364 - acc: 0.5013 - val_loss: 1.1247 - val_acc: 0.5538\n",
            "Epoch 14/20\n",
            "742/742 [==============================] - 26s 35ms/step - loss: 1.2286 - acc: 0.5051 - val_loss: 1.0924 - val_acc: 0.5582\n",
            "Epoch 15/20\n",
            "742/742 [==============================] - 26s 36ms/step - loss: 1.2312 - acc: 0.5049 - val_loss: 1.0999 - val_acc: 0.5694\n",
            "Epoch 16/20\n",
            "742/742 [==============================] - 26s 35ms/step - loss: 1.2272 - acc: 0.5085 - val_loss: 1.1045 - val_acc: 0.5565\n",
            "Epoch 17/20\n",
            "742/742 [==============================] - 26s 35ms/step - loss: 1.2249 - acc: 0.5092 - val_loss: 1.1400 - val_acc: 0.5535\n",
            "Epoch 18/20\n",
            "742/742 [==============================] - 26s 34ms/step - loss: 1.2112 - acc: 0.5145 - val_loss: 1.0763 - val_acc: 0.5754\n",
            "Epoch 19/20\n",
            "742/742 [==============================] - 26s 35ms/step - loss: 1.2133 - acc: 0.5135 - val_loss: 1.0901 - val_acc: 0.5660\n",
            "Epoch 20/20\n",
            "742/742 [==============================] - 26s 35ms/step - loss: 1.2036 - acc: 0.5193 - val_loss: 1.0954 - val_acc: 0.5660\n"
          ],
          "name": "stdout"
        }
      ]
    },
    {
      "cell_type": "code",
      "metadata": {
        "id": "xyV17pA1wHVU",
        "colab_type": "code",
        "outputId": "5ce838cc-471c-42e8-c93d-f301164a6a1a",
        "colab": {
          "base_uri": "https://localhost:8080/",
          "height": 545
        }
      },
      "source": [
        "import matplotlib.pyplot as plt\n",
        "acc = history.history['acc']\n",
        "val_acc = history.history['val_acc']\n",
        "loss = history.history['loss']\n",
        "val_loss = history.history['val_loss']\n",
        "\n",
        "epochs = range(len(acc))\n",
        "\n",
        "plt.plot(epochs, acc, 'bo', label='Training accuracy')\n",
        "plt.plot(epochs, val_acc, 'b', label='Validation accuracy')\n",
        "plt.title('Training and validation accuracy')\n",
        "\n",
        "plt.figure()\n",
        "\n",
        "plt.plot(epochs, loss, 'bo', label='Training Loss')\n",
        "plt.plot(epochs, val_loss, 'b', label='Validation Loss')\n",
        "plt.title('Training and validation loss')\n",
        "plt.legend()\n",
        "\n",
        "plt.show()"
      ],
      "execution_count": 21,
      "outputs": [
        {
          "output_type": "display_data",
          "data": {
            "image/png": "[encoded data removed]",
            "text/plain": [
              "<Figure size 432x288 with 1 Axes>"
            ]
          },
          "metadata": {
            "tags": [],
            "needs_background": "light"
          }
        },
        {
          "output_type": "display_data",
          "data": {
            "image/png": "[encoded data removed]",
            "text/plain": [
              "<Figure size 432x288 with 1 Axes>"
            ]
          },
          "metadata": {
            "tags": [],
            "needs_background": "light"
          }
        }
      ]
    },
    {
      "cell_type": "code",
      "metadata": {
        "id": "IQGZeKlywHbN",
        "colab_type": "code",
        "colab": {}
      },
      "source": [
        "del history"
      ],
      "execution_count": 0,
      "outputs": []
    }
  ]
}