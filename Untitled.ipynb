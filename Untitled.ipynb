{
 "cells": [
  {
   "cell_type": "code",
   "execution_count": 5,
   "metadata": {},
   "outputs": [],
   "source": [
    "import os\n",
    "import zipfile\n",
    "import random\n",
    "import shutil\n",
    "import tensorflow as tf\n",
    "from tensorflow.keras.optimizers import RMSprop\n",
    "from tensorflow.keras.preprocessing.image import ImageDataGenerator\n",
    "from shutil import copyfile\n",
    "from os import getcwd\n"
   ]
  },
  {
   "cell_type": "code",
   "execution_count": 6,
   "metadata": {},
   "outputs": [
    {
     "name": "stdout",
     "output_type": "stream",
     "text": [
      "hellooooooooooooooo\n"
     ]
    }
   ],
   "source": [
    "print('hellooooooooooooooo')"
   ]
  },
  {
   "cell_type": "code",
   "execution_count": 30,
   "metadata": {},
   "outputs": [],
   "source": [
    "angry_train_dir = \"images/images/train/angry\"\n",
    "disgust_train_dir = \"images/images/train/disgust\"\n",
    "fear_train_dir = \"images/images/train/fear\"\n",
    "happy_train_dir = \"images/images/train/happy\"\n",
    "neutral_train_dir = \"images/images/train/neutral\"\n",
    "sad_train_dir = \"images/images/train/sad\"\n",
    "surprise_train_dir = \"images/images/train/surprise\"\n",
    "train_dir_list = [angry_train_dir\n",
    "             ,disgust_train_dir\n",
    "             ,fear_train_dir\n",
    "             ,happy_train_dir\n",
    "             ,neutral_train_dir\n",
    "             ,sad_train_dir\n",
    "             ,surprise_train_dir]\n",
    "\n",
    "angry_validation_dir = \"images/images/validation/angry\"\n",
    "disgust_validation_dir = \"images/images/validation/disgust\"\n",
    "fear_validation_dir = \"images/images/validation/fear\"\n",
    "happy_validation_dir = \"images/images/validation/happy\"\n",
    "neutral_validation_dir = \"images/images/validation/neutral\"\n",
    "sad_validation_dir = \"images/images/validation/sad\"\n",
    "surprise_validation_dir = \"images/images/validation/surprise\"\n",
    "validation_dir_list = [angry_validation_dir\n",
    "                  ,disgust_validation_dir\n",
    "                  ,fear_validation_dir\n",
    "                  ,happy_validation_dir\n",
    "                  ,neutral_validation_dir\n",
    "                  ,sad_validation_dir\n",
    "                  ,surprise_validation_dir]"
   ]
  },
  {
   "cell_type": "code",
   "execution_count": 64,
   "metadata": {},
   "outputs": [
    {
     "name": "stdout",
     "output_type": "stream",
     "text": [
      "[3993, 436, 4103, 7164, 4982, 4938, 3205]\n",
      "[960, 111, 1018, 1825, 1216, 1139, 797]\n"
     ]
    }
   ],
   "source": [
    "jumlah_train=[]\n",
    "jumlah_validation=[]\n",
    "\n",
    "for i in train_dir_list:\n",
    "    jumlah_train.append(len(os.listdir(i)))\n",
    "    #print('train',len(os.listdir(i)))\n",
    "\n",
    "for i in validation_dir_list:\n",
    "    jumlah_validation.append(len(os.listdir(i)))\n",
    "    #print('validation',len(os.listdir(i)))\n",
    "\n",
    "print(jumlah_train)\n",
    "print(jumlah_validation)"
   ]
  },
  {
   "cell_type": "code",
   "execution_count": 65,
   "metadata": {},
   "outputs": [
    {
     "name": "stdout",
     "output_type": "stream",
     "text": [
      "48\n",
      "48\n",
      "0\n",
      "227\n"
     ]
    }
   ],
   "source": [
    "from PIL import Image\n",
    "\n",
    "filename = \"images/images/validation/angry/10065.jpg\"\n",
    "with Image.open(filename) as image: \n",
    "    width, height = image.size\n",
    "with Image.open(filename) as image:\n",
    "    min, max = Image.Image.getextrema(im)\n",
    "    \n",
    "print(width)\n",
    "print(height)\n",
    "print(min)\n",
    "print(max)"
   ]
  },
  {
   "cell_type": "code",
   "execution_count": 72,
   "metadata": {},
   "outputs": [
    {
     "name": "stdout",
     "output_type": "stream",
     "text": [
      "Found 28821 images belonging to 7 classes.\n",
      "Found 28821 images belonging to 7 classes.\n"
     ]
    }
   ],
   "source": [
    "training_dir=\"images/images/train\"\n",
    "validation_dir=\"images/images/validation\"\n",
    "\n",
    "train_datagen = ImageDataGenerator(rescale=1/227)\n",
    "train_generator = train_datagen.flow_from_directory(\n",
    "    training_dir,\n",
    "    target_size=(48,48),\n",
    "    batch_size=20,\n",
    "    class_mode='categorical')\n",
    "\n",
    "validation_datagen = ImageDataGenerator(rescale=1/227)\n",
    "validation_generator = validation_datagen.flow_from_directory(\n",
    "    training_dir,\n",
    "    target_size=(48,48),\n",
    "    batch_size=20,\n",
    "    class_mode='categorical')"
   ]
  },
  {
   "cell_type": "code",
   "execution_count": 75,
   "metadata": {},
   "outputs": [],
   "source": [
    "#Create Model\n",
    "model = tf.keras.models.Sequential([\n",
    "    tf.keras.layers.Conv2D(16, (3,3), activation='relu', input_shape=(48,48,3)),\n",
    "    tf.keras.layers.MaxPooling2D(2, 2),\n",
    "    tf.keras.layers.Conv2D(32, (3,3), activation='relu'),\n",
    "    tf.keras.layers.MaxPooling2D(2, 2),\n",
    "    tf.keras.layers.Flatten(),\n",
    "    tf.keras.layers.Dense(512, activation='relu'),\n",
    "    tf.keras.layers.Dense(7, activation='softmax')\n",
    "])\n",
    "\n",
    "# Compile Model. \n",
    "model.compile(optimizer='adam',\n",
    "              loss='categorical_crossentropy',\n",
    "              metrics=['accuracy']) # Your Code Here)"
   ]
  },
  {
   "cell_type": "code",
   "execution_count": 76,
   "metadata": {},
   "outputs": [
    {
     "name": "stdout",
     "output_type": "stream",
     "text": [
      "WARNING:tensorflow:sample_weight modes were coerced from\n",
      "  ...\n",
      "    to  \n",
      "  ['...']\n",
      "WARNING:tensorflow:sample_weight modes were coerced from\n",
      "  ...\n",
      "    to  \n",
      "  ['...']\n",
      "Train for 100 steps, validate for 1442 steps\n",
      "Epoch 1/2\n",
      "100/100 [==============================] - 1378s 14s/step - loss: 1.8416 - accuracy: 0.2322 - val_loss: 1.7746 - val_accuracy: 0.3104\n",
      "Epoch 2/2\n",
      "100/100 [==============================] - 77s 774ms/step - loss: 1.7303 - accuracy: 0.3110 - val_loss: 1.6682 - val_accuracy: 0.3517\n"
     ]
    }
   ],
   "source": [
    "# Train the Model\n",
    "history = model.fit_generator(train_generator,\n",
    "                              steps_per_epoch=100,\n",
    "                              epochs=2,\n",
    "                              validation_data=validation_generator)"
   ]
  },
  {
   "cell_type": "code",
   "execution_count": null,
   "metadata": {},
   "outputs": [],
   "source": []
  }
 ],
 "metadata": {
  "kernelspec": {
   "display_name": "Python 3",
   "language": "python",
   "name": "python3"
  },
  "language_info": {
   "codemirror_mode": {
    "name": "ipython",
    "version": 3
   },
   "file_extension": ".py",
   "mimetype": "text/x-python",
   "name": "python",
   "nbconvert_exporter": "python",
   "pygments_lexer": "ipython3",
   "version": "3.7.4"
  }
 },
 "nbformat": 4,
 "nbformat_minor": 4
}
