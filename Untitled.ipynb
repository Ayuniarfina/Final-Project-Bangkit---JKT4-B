{
  "nbformat": 4,
  "nbformat_minor": 0,
  "metadata": {
    "kernelspec": {
      "display_name": "Python 3",
      "language": "python",
      "name": "python3"
    },
    "language_info": {
      "codemirror_mode": {
        "name": "ipython",
        "version": 3
      },
      "file_extension": ".py",
      "mimetype": "text/x-python",
      "name": "python",
      "nbconvert_exporter": "python",
      "pygments_lexer": "ipython3",
      "version": "3.7.4"
    },
    "colab": {
      "name": "Untitled.ipynb",
      "provenance": []
    }
  },
  "cells": [
    {
      "cell_type": "code",
      "metadata": {
        "id": "IYqrKLlbe2tf",
        "colab_type": "code",
        "colab": {}
      },
      "source": [
        "import os\n",
        "import zipfile\n",
        "import random\n",
        "import shutil\n",
        "import tensorflow as tf\n",
        "from tensorflow.keras.optimizers import RMSprop\n",
        "from tensorflow.keras.preprocessing.image import ImageDataGenerator\n",
        "from shutil import copyfile\n",
        "from os import getcwd\n"
      ],
      "execution_count": 0,
      "outputs": []
    },
    {
      "cell_type": "code",
      "metadata": {
        "id": "epItpeDTe2tq",
        "colab_type": "code",
        "colab": {},
        "outputId": "15cebf9c-acb5-4d42-8a8d-9cfb0d11f934"
      },
      "source": [
        "print('hellooooooooooooooo')\n",
        "print('hai')"
      ],
      "execution_count": 0,
      "outputs": [
        {
          "output_type": "stream",
          "text": [
            "hellooooooooooooooo\n"
          ],
          "name": "stdout"
        }
      ]
    },
    {
      "cell_type": "code",
      "metadata": {
        "id": "bmVcuvVGe2tw",
        "colab_type": "code",
        "colab": {}
      },
      "source": [
        "angry_train_dir = \"images/images/train/angry\"\n",
        "disgust_train_dir = \"images/images/train/disgust\"\n",
        "fear_train_dir = \"images/images/train/fear\"\n",
        "happy_train_dir = \"images/images/train/happy\"\n",
        "neutral_train_dir = \"images/images/train/neutral\"\n",
        "sad_train_dir = \"images/images/train/sad\"\n",
        "surprise_train_dir = \"images/images/train/surprise\"\n",
        "train_dir_list = [angry_train_dir\n",
        "             ,disgust_train_dir\n",
        "             ,fear_train_dir\n",
        "             ,happy_train_dir\n",
        "             ,neutral_train_dir\n",
        "             ,sad_train_dir\n",
        "             ,surprise_train_dir]\n",
        "\n",
        "angry_validation_dir = \"images/images/validation/angry\"\n",
        "disgust_validation_dir = \"images/images/validation/disgust\"\n",
        "fear_validation_dir = \"images/images/validation/fear\"\n",
        "happy_validation_dir = \"images/images/validation/happy\"\n",
        "neutral_validation_dir = \"images/images/validation/neutral\"\n",
        "sad_validation_dir = \"images/images/validation/sad\"\n",
        "surprise_validation_dir = \"images/images/validation/surprise\"\n",
        "validation_dir_list = [angry_validation_dir\n",
        "                  ,disgust_validation_dir\n",
        "                  ,fear_validation_dir\n",
        "                  ,happy_validation_dir\n",
        "                  ,neutral_validation_dir\n",
        "                  ,sad_validation_dir\n",
        "                  ,surprise_validation_dir]"
      ],
      "execution_count": 0,
      "outputs": []
    },
    {
      "cell_type": "code",
      "metadata": {
        "id": "xCLT_Bfte2t1",
        "colab_type": "code",
        "colab": {},
        "outputId": "8d73fb93-56e8-4095-c1db-0ecebbcc421a"
      },
      "source": [
        "jumlah_train=[]\n",
        "jumlah_validation=[]\n",
        "\n",
        "for i in train_dir_list:\n",
        "    jumlah_train.append(len(os.listdir(i)))\n",
        "    #print('train',len(os.listdir(i)))\n",
        "\n",
        "for i in validation_dir_list:\n",
        "    jumlah_validation.append(len(os.listdir(i)))\n",
        "    #print('validation',len(os.listdir(i)))\n",
        "\n",
        "print(jumlah_train)\n",
        "print(jumlah_validation)"
      ],
      "execution_count": 0,
      "outputs": [
        {
          "output_type": "stream",
          "text": [
            "[3993, 436, 4103, 7164, 4982, 4938, 3205]\n",
            "[960, 111, 1018, 1825, 1216, 1139, 797]\n"
          ],
          "name": "stdout"
        }
      ]
    },
    {
      "cell_type": "code",
      "metadata": {
        "id": "FlYhjIQoe2t6",
        "colab_type": "code",
        "colab": {},
        "outputId": "29950d50-11ad-4c35-9ec3-3967d5e041e3"
      },
      "source": [
        "from PIL import Image\n",
        "\n",
        "filename = \"images/images/validation/angry/10065.jpg\"\n",
        "with Image.open(filename) as image: \n",
        "    width, height = image.size\n",
        "with Image.open(filename) as image:\n",
        "    min, max = Image.Image.getextrema(im)\n",
        "    \n",
        "print(width)\n",
        "print(height)\n",
        "print(min)\n",
        "print(max)"
      ],
      "execution_count": 0,
      "outputs": [
        {
          "output_type": "stream",
          "text": [
            "48\n",
            "48\n",
            "0\n",
            "227\n"
          ],
          "name": "stdout"
        }
      ]
    },
    {
      "cell_type": "code",
      "metadata": {
        "id": "-TaDzuc-e2t9",
        "colab_type": "code",
        "colab": {},
        "outputId": "ab1baa19-1190-4551-f232-afa7dd1c137b"
      },
      "source": [
        "training_dir=\"images/train\"\n",
        "validation_dir=\"images/validation\"\n",
        "\n",
        "train_datagen = ImageDataGenerator(rescale=1/227)\n",
        "train_generator = train_datagen.flow_from_directory(\n",
        "    training_dir,\n",
        "    target_size=(48,48),\n",
        "    batch_size=20,\n",
        "    class_mode='categorical')\n",
        "\n",
        "validation_datagen = ImageDataGenerator(rescale=1/227)\n",
        "validation_generator = validation_datagen.flow_from_directory(\n",
        "    training_dir,\n",
        "    target_size=(48,48),\n",
        "    batch_size=20,\n",
        "    class_mode='categorical')"
      ],
      "execution_count": 0,
      "outputs": [
        {
          "output_type": "stream",
          "text": [
            "Found 28822 images belonging to 7 classes.\n",
            "Found 28822 images belonging to 7 classes.\n"
          ],
          "name": "stdout"
        }
      ]
    },
    {
      "cell_type": "code",
      "metadata": {
        "id": "cBK78zsKe2uB",
        "colab_type": "code",
        "colab": {}
      },
      "source": [
        "#Create Model\n",
        "model = tf.keras.models.Sequential([\n",
        "    tf.keras.layers.Conv2D(16, (3,3), activation='relu', input_shape=(48,48,3)),\n",
        "    tf.keras.layers.MaxPooling2D(2, 2),\n",
        "    tf.keras.layers.Conv2D(32, (3,3), activation='relu'),\n",
        "    tf.keras.layers.MaxPooling2D(2, 2),\n",
        "    tf.keras.layers.Flatten(),\n",
        "    tf.keras.layers.Dense(512, activation='relu'),\n",
        "    tf.keras.layers.Dense(7, activation='softmax')\n",
        "])\n",
        "\n",
        "# Compile Model. \n",
        "model.compile(optimizer='adam',\n",
        "              loss='categorical_crossentropy',\n",
        "              metrics=['accuracy']) # Your Code Here)"
      ],
      "execution_count": 0,
      "outputs": []
    },
    {
      "cell_type": "code",
      "metadata": {
        "id": "tyGkye5Ve2uG",
        "colab_type": "code",
        "colab": {},
        "outputId": "beb30e2b-997f-47e2-8e3b-4c6865812fe1"
      },
      "source": [
        "# Train the Model\n",
        "history = model.fit_generator(train_generator,\n",
        "                              steps_per_epoch=100,\n",
        "                              epochs=2,\n",
        "                              validation_data=validation_generator)"
      ],
      "execution_count": 0,
      "outputs": [
        {
          "output_type": "stream",
          "text": [
            "WARNING:tensorflow:sample_weight modes were coerced from\n",
            "  ...\n",
            "    to  \n",
            "  ['...']\n",
            "WARNING:tensorflow:sample_weight modes were coerced from\n",
            "  ...\n",
            "    to  \n",
            "  ['...']\n",
            "Train for 100 steps, validate for 1442 steps\n",
            "Epoch 1/2\n",
            "100/100 [==============================] - 1378s 14s/step - loss: 1.8416 - accuracy: 0.2322 - val_loss: 1.7746 - val_accuracy: 0.3104\n",
            "Epoch 2/2\n",
            "100/100 [==============================] - 77s 774ms/step - loss: 1.7303 - accuracy: 0.3110 - val_loss: 1.6682 - val_accuracy: 0.3517\n"
          ],
          "name": "stdout"
        }
      ]
    },
    {
      "cell_type": "code",
      "metadata": {
        "id": "xpAcwDide2uL",
        "colab_type": "code",
        "colab": {}
      },
      "source": [
        ""
      ],
      "execution_count": 0,
      "outputs": []
    }
  ]
}