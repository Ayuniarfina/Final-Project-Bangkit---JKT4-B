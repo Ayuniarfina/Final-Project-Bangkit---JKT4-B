{
  "nbformat": 4,
  "nbformat_minor": 0,
  "metadata": {
    "kernelspec": {
      "display_name": "Python 3",
      "language": "python",
      "name": "python3"
    },
    "language_info": {
      "codemirror_mode": {
        "name": "ipython",
        "version": 3
      },
      "file_extension": ".py",
      "mimetype": "text/x-python",
      "name": "python",
      "nbconvert_exporter": "python",
      "pygments_lexer": "ipython3",
      "version": "3.7.4"
    },
    "colab": {
      "name": "Untitled.ipynb",
      "provenance": [],
      "include_colab_link": true
    },
    "accelerator": "GPU"
  },
  "cells": [
    {
      "cell_type": "markdown",
      "metadata": {
        "id": "view-in-github",
        "colab_type": "text"
      },
      "source": [
        "<a href=\"https://colab.research.google.com/github/Ayuniarfina/Final-Project-Bangkit---JKT4-B/blob/Deni-branch/Untitled.ipynb\" target=\"_parent\"><img src=\"https://colab.research.google.com/assets/colab-badge.svg\" alt=\"Open In Colab\"/></a>"
      ]
    },
    {
      "cell_type": "code",
      "metadata": {
        "id": "N40H6I8Sfa9Z",
        "colab_type": "code",
        "colab": {}
      },
      "source": [
        "import csv\n",
        "import zipfile\n",
        "import numpy as np\n",
        "import tensorflow as tf"
      ],
      "execution_count": 0,
      "outputs": []
    },
    {
      "cell_type": "code",
      "metadata": {
        "id": "BQdu7Cbgfdjd",
        "colab_type": "code",
        "colab": {
          "base_uri": "https://localhost:8080/",
          "height": 118
        },
        "outputId": "243dede2-09e0-4748-c553-39feb90fd81d"
      },
      "source": [
        "from google.colab import drive\n",
        "drive.mount('/content/gdrive')"
      ],
      "execution_count": 1,
      "outputs": [
        {
          "output_type": "stream",
          "text": [
            "Go to this URL in a browser: https://accounts.google.com/o/oauth2/auth?client_id=947318989803-6bn6qk8qdgf4n4g3pfee6491hc0brc4i.apps.googleusercontent.com&redirect_uri=urn%3aietf%3awg%3aoauth%3a2.0%3aoob&response_type=code&scope=email%20https%3a%2f%2fwww.googleapis.com%2fauth%2fdocs.test%20https%3a%2f%2fwww.googleapis.com%2fauth%2fdrive%20https%3a%2f%2fwww.googleapis.com%2fauth%2fdrive.photos.readonly%20https%3a%2f%2fwww.googleapis.com%2fauth%2fpeopleapi.readonly\n",
            "\n",
            "Enter your authorization code:\n",
            "··········\n",
            "Mounted at /content/gdrive\n"
          ],
          "name": "stdout"
        }
      ]
    },
    {
      "cell_type": "code",
      "metadata": {
        "id": "bjgIFWDkfdmj",
        "colab_type": "code",
        "colab": {}
      },
      "source": [
        "zipref = zipfile.ZipFile('/content/gdrive/My Drive/Data Colab/31050_39603_bundle_archive.zip')\n",
        "zipref.extractall('/tmp/dataset')"
      ],
      "execution_count": 0,
      "outputs": []
    },
    {
      "cell_type": "code",
      "metadata": {
        "id": "LlgOvOM9sFnR",
        "colab_type": "code",
        "colab": {}
      },
      "source": [
        "def getData(filname):\n",
        "    # images are 48x48\n",
        "    # N = 35887\n",
        "    Y1 = []\n",
        "    X1 = []\n",
        "    Y2 = []\n",
        "    X2 = []\n",
        "    Y3 = []\n",
        "    X3 = []\n",
        "    first = True\n",
        "    for line in open(filname):\n",
        "      if first:\n",
        "        first = False\n",
        "      else:\n",
        "        row = line.split(',')\n",
        "        if 'Training' in row[2]:\n",
        "          Y1.append(int(row[0]))\n",
        "          X1.append([int(p) for p in row[1].split()])\n",
        "        if 'PrivateTest' in row[2]:\n",
        "          Y2.append(int(row[0]))\n",
        "          X2.append([int(p) for p in row[1].split()])\n",
        "        if 'PublicTest' in row[2]:\n",
        "          Y3.append(int(row[0]))\n",
        "          X3.append([int(p) for p in row[1].split()])\n",
        "    X1, Y1 = np.array(X1) / 255.0, np.array(Y1)\n",
        "    X2, Y2 = np.array(X2) / 255.0, np.array(Y2)\n",
        "    X3, Y3 = np.array(X3) / 255.0, np.array(Y3)\n",
        "\n",
        "    def berubah(x):\n",
        "      N, D = x.shape\n",
        "      return x.reshape(N, 48,48,1)\n",
        "\n",
        "    return berubah(X1), Y1, berubah(X2), Y2, berubah(X3), Y3"
      ],
      "execution_count": 0,
      "outputs": []
    },
    {
      "cell_type": "code",
      "metadata": {
        "id": "2U-92Hxom6N2",
        "colab_type": "code",
        "colab": {}
      },
      "source": [
        "sourcelink = '/tmp/dataset/fer2013.csv'\n",
        "train_x, train_y, privatetest_x, privatetest_y, publictest_x, publictest_y = getData(sourcelink)"
      ],
      "execution_count": 0,
      "outputs": []
    },
    {
      "cell_type": "code",
      "metadata": {
        "id": "jcw4L81E5NsC",
        "colab_type": "code",
        "colab": {
          "base_uri": "https://localhost:8080/",
          "height": 33
        },
        "outputId": "7affffd3-b1cc-4d36-f52c-ea15700ea2c0"
      },
      "source": [
        "print(len(train_y))"
      ],
      "execution_count": 49,
      "outputs": [
        {
          "output_type": "stream",
          "text": [
            "28709\n"
          ],
          "name": "stdout"
        }
      ]
    },
    {
      "cell_type": "code",
      "metadata": {
        "id": "jaAeyREh1lRJ",
        "colab_type": "code",
        "colab": {
          "base_uri": "https://localhost:8080/",
          "height": 33
        },
        "outputId": "73cf01f1-cdf2-48a7-b5e3-539f442c5148"
      },
      "source": [
        "np.histogram(train_y, bins =[0,1,2,3,4,5,6])"
      ],
      "execution_count": 26,
      "outputs": [
        {
          "output_type": "execute_result",
          "data": {
            "text/plain": [
              "(array([3995,  436, 4097, 7215, 4830, 8136]), array([0, 1, 2, 3, 4, 5, 6]))"
            ]
          },
          "metadata": {
            "tags": []
          },
          "execution_count": 26
        }
      ]
    },
    {
      "cell_type": "code",
      "metadata": {
        "id": "l1AvPCvP09Cf",
        "colab_type": "code",
        "colab": {
          "base_uri": "https://localhost:8080/",
          "height": 33
        },
        "outputId": "e9d50562-01df-4ca0-b0a3-92b7349421a0"
      },
      "source": [
        "np.histogram(privatetest_y, bins =[0,1,2,3,4,5,6])"
      ],
      "execution_count": 24,
      "outputs": [
        {
          "output_type": "execute_result",
          "data": {
            "text/plain": [
              "(array([ 491,   55,  528,  879,  594, 1042]), array([0, 1, 2, 3, 4, 5, 6]))"
            ]
          },
          "metadata": {
            "tags": []
          },
          "execution_count": 24
        }
      ]
    },
    {
      "cell_type": "code",
      "metadata": {
        "id": "KcR4iVTE1dNW",
        "colab_type": "code",
        "colab": {
          "base_uri": "https://localhost:8080/",
          "height": 33
        },
        "outputId": "385c3d06-c069-493e-bf96-d6aa0d95dc6f"
      },
      "source": [
        "np.histogram(publictest_y, bins =[0,1,2,3,4,5,6])"
      ],
      "execution_count": 25,
      "outputs": [
        {
          "output_type": "execute_result",
          "data": {
            "text/plain": [
              "(array([ 467,   56,  496,  895,  653, 1022]), array([0, 1, 2, 3, 4, 5, 6]))"
            ]
          },
          "metadata": {
            "tags": []
          },
          "execution_count": 25
        }
      ]
    },
    {
      "cell_type": "code",
      "metadata": {
        "id": "pOcwEsiPoqg5",
        "colab_type": "code",
        "colab": {
          "base_uri": "https://localhost:8080/",
          "height": 115
        },
        "outputId": "33015135-186a-4cb6-9b9c-c1beac2a428b"
      },
      "source": [
        "print('train_x shape:', train_x.shape)\n",
        "print('train_y shape:', train_y.shape)\n",
        "print('privatetest_x shape:', privatetest_x.shape)\n",
        "print('privatetest_y shape:', privatetest_y.shape)\n",
        "print('publictest_x shape:', publictest_x.shape)\n",
        "print('publictest_y shape:', publictest_y.shape)"
      ],
      "execution_count": 7,
      "outputs": [
        {
          "output_type": "stream",
          "text": [
            "train_x shape: (28709, 48, 48, 1)\n",
            "train_y shape: (28709,)\n",
            "privatetest_x shape: (3589, 48, 48, 1)\n",
            "privatetest_y shape: (3589,)\n",
            "publictest_x shape: (3589, 48, 48, 1)\n",
            "publictest_y shape: (3589,)\n"
          ],
          "name": "stdout"
        }
      ]
    },
    {
      "cell_type": "code",
      "metadata": {
        "id": "flApMiJFu5tr",
        "colab_type": "code",
        "colab": {
          "base_uri": "https://localhost:8080/",
          "height": 472
        },
        "outputId": "3a8c3d17-23f3-4583-da60-83e209c32761"
      },
      "source": [
        "# Model 1\n",
        "model = tf.keras.models.Sequential([\n",
        "  tf.keras.layers.Conv2D(16,(3,3),activation='relu',input_shape=(48,48,1)),\n",
        "  tf.keras.layers.Conv2D(16,(3,3),activation='relu'),\n",
        "  tf.keras.layers.MaxPooling2D(2,2),\n",
        "  tf.keras.layers.Conv2D(16,(3,3),activation='relu'),\n",
        "  tf.keras.layers.Conv2D(16,(3,3),activation='relu'),\n",
        "  tf.keras.layers.MaxPooling2D(2,2),          \n",
        "  tf.keras.layers.Flatten(),\n",
        "  tf.keras.layers.Dense(8, activation='relu'),\n",
        "  tf.keras.layers.Dropout(0.2),\n",
        "  tf.keras.layers.Dense(7, activation='softmax')\n",
        "])\n",
        "\n",
        "model.summary()"
      ],
      "execution_count": 53,
      "outputs": [
        {
          "output_type": "stream",
          "text": [
            "Model: \"sequential_12\"\n",
            "_________________________________________________________________\n",
            "Layer (type)                 Output Shape              Param #   \n",
            "=================================================================\n",
            "conv2d_41 (Conv2D)           (None, 46, 46, 16)        160       \n",
            "_________________________________________________________________\n",
            "conv2d_42 (Conv2D)           (None, 44, 44, 16)        2320      \n",
            "_________________________________________________________________\n",
            "max_pooling2d_25 (MaxPooling (None, 22, 22, 16)        0         \n",
            "_________________________________________________________________\n",
            "conv2d_43 (Conv2D)           (None, 20, 20, 16)        2320      \n",
            "_________________________________________________________________\n",
            "conv2d_44 (Conv2D)           (None, 18, 18, 16)        2320      \n",
            "_________________________________________________________________\n",
            "max_pooling2d_26 (MaxPooling (None, 9, 9, 16)          0         \n",
            "_________________________________________________________________\n",
            "flatten_12 (Flatten)         (None, 1296)              0         \n",
            "_________________________________________________________________\n",
            "dense_24 (Dense)             (None, 8)                 10376     \n",
            "_________________________________________________________________\n",
            "dropout_10 (Dropout)         (None, 8)                 0         \n",
            "_________________________________________________________________\n",
            "dense_25 (Dense)             (None, 7)                 63        \n",
            "=================================================================\n",
            "Total params: 17,559\n",
            "Trainable params: 17,559\n",
            "Non-trainable params: 0\n",
            "_________________________________________________________________\n"
          ],
          "name": "stdout"
        }
      ]
    },
    {
      "cell_type": "code",
      "metadata": {
        "id": "VzyajucMv7U1",
        "colab_type": "code",
        "colab": {
          "base_uri": "https://localhost:8080/",
          "height": 1000
        },
        "outputId": "4c58de88-779b-4511-a398-8e1f350b0185"
      },
      "source": [
        "model.compile(optimizer='adam', loss='sparse_categorical_crossentropy', metrics=['acc'])\n",
        "history = model.fit(train_x, train_y, validation_data=(privatetest_x, privatetest_y), epochs=100)"
      ],
      "execution_count": 54,
      "outputs": [
        {
          "output_type": "stream",
          "text": [
            "Epoch 1/100\n",
            "898/898 [==============================] - 5s 5ms/step - loss: 1.7977 - acc: 0.2557 - val_loss: 1.7166 - val_acc: 0.2742\n",
            "Epoch 2/100\n",
            "898/898 [==============================] - 4s 5ms/step - loss: 1.6988 - acc: 0.2960 - val_loss: 1.6256 - val_acc: 0.3057\n",
            "Epoch 3/100\n",
            "898/898 [==============================] - 4s 5ms/step - loss: 1.6478 - acc: 0.3197 - val_loss: 1.5931 - val_acc: 0.3594\n",
            "Epoch 4/100\n",
            "898/898 [==============================] - 4s 5ms/step - loss: 1.6161 - acc: 0.3292 - val_loss: 1.5489 - val_acc: 0.3806\n",
            "Epoch 5/100\n",
            "898/898 [==============================] - 4s 5ms/step - loss: 1.5902 - acc: 0.3410 - val_loss: 1.5257 - val_acc: 0.4093\n",
            "Epoch 6/100\n",
            "898/898 [==============================] - 5s 5ms/step - loss: 1.5623 - acc: 0.3556 - val_loss: 1.4897 - val_acc: 0.4121\n",
            "Epoch 7/100\n",
            "898/898 [==============================] - 4s 5ms/step - loss: 1.5499 - acc: 0.3582 - val_loss: 1.4820 - val_acc: 0.4107\n",
            "Epoch 8/100\n",
            "898/898 [==============================] - 5s 5ms/step - loss: 1.5276 - acc: 0.3697 - val_loss: 1.4430 - val_acc: 0.4466\n",
            "Epoch 9/100\n",
            "898/898 [==============================] - 4s 5ms/step - loss: 1.4677 - acc: 0.4174 - val_loss: 1.4059 - val_acc: 0.4511\n",
            "Epoch 10/100\n",
            "898/898 [==============================] - 5s 5ms/step - loss: 1.4470 - acc: 0.4235 - val_loss: 1.3809 - val_acc: 0.4583\n",
            "Epoch 11/100\n",
            "898/898 [==============================] - 4s 5ms/step - loss: 1.4282 - acc: 0.4330 - val_loss: 1.3558 - val_acc: 0.4762\n",
            "Epoch 12/100\n",
            "898/898 [==============================] - 4s 5ms/step - loss: 1.3915 - acc: 0.4507 - val_loss: 1.3366 - val_acc: 0.4765\n",
            "Epoch 13/100\n",
            "898/898 [==============================] - 4s 5ms/step - loss: 1.3704 - acc: 0.4574 - val_loss: 1.3195 - val_acc: 0.4879\n",
            "Epoch 14/100\n",
            "898/898 [==============================] - 4s 5ms/step - loss: 1.3522 - acc: 0.4648 - val_loss: 1.3276 - val_acc: 0.4737\n",
            "Epoch 15/100\n",
            "898/898 [==============================] - 4s 5ms/step - loss: 1.3451 - acc: 0.4681 - val_loss: 1.3339 - val_acc: 0.4742\n",
            "Epoch 16/100\n",
            "898/898 [==============================] - 4s 5ms/step - loss: 1.3327 - acc: 0.4695 - val_loss: 1.3197 - val_acc: 0.4826\n",
            "Epoch 17/100\n",
            "898/898 [==============================] - 4s 5ms/step - loss: 1.3231 - acc: 0.4741 - val_loss: 1.3091 - val_acc: 0.4887\n",
            "Epoch 18/100\n",
            "898/898 [==============================] - 4s 5ms/step - loss: 1.3204 - acc: 0.4728 - val_loss: 1.3157 - val_acc: 0.4829\n",
            "Epoch 19/100\n",
            "898/898 [==============================] - 4s 5ms/step - loss: 1.3115 - acc: 0.4812 - val_loss: 1.3173 - val_acc: 0.4865\n",
            "Epoch 20/100\n",
            "898/898 [==============================] - 4s 5ms/step - loss: 1.2971 - acc: 0.4844 - val_loss: 1.3070 - val_acc: 0.4946\n",
            "Epoch 21/100\n",
            "898/898 [==============================] - 5s 5ms/step - loss: 1.2873 - acc: 0.4888 - val_loss: 1.3173 - val_acc: 0.4965\n",
            "Epoch 22/100\n",
            "898/898 [==============================] - 4s 5ms/step - loss: 1.2901 - acc: 0.4872 - val_loss: 1.3088 - val_acc: 0.4921\n",
            "Epoch 23/100\n",
            "898/898 [==============================] - 4s 5ms/step - loss: 1.2767 - acc: 0.4909 - val_loss: 1.3116 - val_acc: 0.4834\n",
            "Epoch 24/100\n",
            "898/898 [==============================] - 4s 5ms/step - loss: 1.2727 - acc: 0.4909 - val_loss: 1.3196 - val_acc: 0.4909\n",
            "Epoch 25/100\n",
            "898/898 [==============================] - 4s 5ms/step - loss: 1.2643 - acc: 0.4949 - val_loss: 1.3098 - val_acc: 0.4882\n",
            "Epoch 26/100\n",
            "898/898 [==============================] - 4s 5ms/step - loss: 1.2611 - acc: 0.4926 - val_loss: 1.3260 - val_acc: 0.4767\n",
            "Epoch 27/100\n",
            "898/898 [==============================] - 4s 5ms/step - loss: 1.2499 - acc: 0.5023 - val_loss: 1.3231 - val_acc: 0.4767\n",
            "Epoch 28/100\n",
            "898/898 [==============================] - 4s 5ms/step - loss: 1.2489 - acc: 0.4977 - val_loss: 1.3190 - val_acc: 0.4748\n",
            "Epoch 29/100\n",
            "898/898 [==============================] - 4s 5ms/step - loss: 1.2360 - acc: 0.5064 - val_loss: 1.3265 - val_acc: 0.4792\n",
            "Epoch 30/100\n",
            "898/898 [==============================] - 4s 5ms/step - loss: 1.2384 - acc: 0.5059 - val_loss: 1.3284 - val_acc: 0.4765\n",
            "Epoch 31/100\n",
            "898/898 [==============================] - 4s 5ms/step - loss: 1.2234 - acc: 0.5118 - val_loss: 1.3437 - val_acc: 0.4859\n",
            "Epoch 32/100\n",
            "898/898 [==============================] - 4s 5ms/step - loss: 1.2344 - acc: 0.5047 - val_loss: 1.3365 - val_acc: 0.4801\n",
            "Epoch 33/100\n",
            "898/898 [==============================] - 4s 5ms/step - loss: 1.2218 - acc: 0.5123 - val_loss: 1.3337 - val_acc: 0.4820\n",
            "Epoch 34/100\n",
            "898/898 [==============================] - 4s 5ms/step - loss: 1.2135 - acc: 0.5128 - val_loss: 1.3443 - val_acc: 0.4781\n",
            "Epoch 35/100\n",
            "898/898 [==============================] - 4s 5ms/step - loss: 1.2085 - acc: 0.5146 - val_loss: 1.3594 - val_acc: 0.4684\n",
            "Epoch 36/100\n",
            "898/898 [==============================] - 4s 5ms/step - loss: 1.2110 - acc: 0.5163 - val_loss: 1.3485 - val_acc: 0.4770\n",
            "Epoch 37/100\n",
            "898/898 [==============================] - 4s 5ms/step - loss: 1.1986 - acc: 0.5157 - val_loss: 1.3585 - val_acc: 0.4792\n",
            "Epoch 38/100\n",
            "898/898 [==============================] - 4s 5ms/step - loss: 1.2023 - acc: 0.5157 - val_loss: 1.3430 - val_acc: 0.4809\n",
            "Epoch 39/100\n",
            "898/898 [==============================] - 4s 5ms/step - loss: 1.2009 - acc: 0.5156 - val_loss: 1.3520 - val_acc: 0.4753\n",
            "Epoch 40/100\n",
            "898/898 [==============================] - 4s 5ms/step - loss: 1.1867 - acc: 0.5246 - val_loss: 1.3601 - val_acc: 0.4714\n",
            "Epoch 41/100\n",
            "898/898 [==============================] - 4s 5ms/step - loss: 1.1856 - acc: 0.5252 - val_loss: 1.3632 - val_acc: 0.4753\n",
            "Epoch 42/100\n",
            "898/898 [==============================] - 4s 5ms/step - loss: 1.1897 - acc: 0.5226 - val_loss: 1.3769 - val_acc: 0.4692\n",
            "Epoch 43/100\n",
            "898/898 [==============================] - 4s 5ms/step - loss: 1.1788 - acc: 0.5253 - val_loss: 1.4014 - val_acc: 0.4795\n",
            "Epoch 44/100\n",
            "898/898 [==============================] - 4s 5ms/step - loss: 1.1750 - acc: 0.5255 - val_loss: 1.4027 - val_acc: 0.4765\n",
            "Epoch 45/100\n",
            "898/898 [==============================] - 4s 5ms/step - loss: 1.1797 - acc: 0.5258 - val_loss: 1.4231 - val_acc: 0.4770\n",
            "Epoch 46/100\n",
            "785/898 [=========================>....] - ETA: 0s - loss: 1.1769 - acc: 0.5283"
          ],
          "name": "stdout"
        },
        {
          "output_type": "error",
          "ename": "KeyboardInterrupt",
          "evalue": "ignored",
          "traceback": [
            "\u001b[0;31m---------------------------------------------------------------------------\u001b[0m",
            "\u001b[0;31mKeyboardInterrupt\u001b[0m                         Traceback (most recent call last)",
            "\u001b[0;32m<ipython-input-54-30e13a0bf660>\u001b[0m in \u001b[0;36m<module>\u001b[0;34m()\u001b[0m\n\u001b[1;32m      1\u001b[0m \u001b[0mmodel\u001b[0m\u001b[0;34m.\u001b[0m\u001b[0mcompile\u001b[0m\u001b[0;34m(\u001b[0m\u001b[0moptimizer\u001b[0m\u001b[0;34m=\u001b[0m\u001b[0;34m'adam'\u001b[0m\u001b[0;34m,\u001b[0m \u001b[0mloss\u001b[0m\u001b[0;34m=\u001b[0m\u001b[0;34m'sparse_categorical_crossentropy'\u001b[0m\u001b[0;34m,\u001b[0m \u001b[0mmetrics\u001b[0m\u001b[0;34m=\u001b[0m\u001b[0;34m[\u001b[0m\u001b[0;34m'acc'\u001b[0m\u001b[0;34m]\u001b[0m\u001b[0;34m)\u001b[0m\u001b[0;34m\u001b[0m\u001b[0;34m\u001b[0m\u001b[0m\n\u001b[0;32m----> 2\u001b[0;31m \u001b[0mhistory\u001b[0m \u001b[0;34m=\u001b[0m \u001b[0mmodel\u001b[0m\u001b[0;34m.\u001b[0m\u001b[0mfit\u001b[0m\u001b[0;34m(\u001b[0m\u001b[0mtrain_x\u001b[0m\u001b[0;34m,\u001b[0m \u001b[0mtrain_y\u001b[0m\u001b[0;34m,\u001b[0m \u001b[0mvalidation_data\u001b[0m\u001b[0;34m=\u001b[0m\u001b[0;34m(\u001b[0m\u001b[0mprivatetest_x\u001b[0m\u001b[0;34m,\u001b[0m \u001b[0mprivatetest_y\u001b[0m\u001b[0;34m)\u001b[0m\u001b[0;34m,\u001b[0m \u001b[0mepochs\u001b[0m\u001b[0;34m=\u001b[0m\u001b[0;36m100\u001b[0m\u001b[0;34m)\u001b[0m\u001b[0;34m\u001b[0m\u001b[0;34m\u001b[0m\u001b[0m\n\u001b[0m",
            "\u001b[0;32m/usr/local/lib/python3.6/dist-packages/tensorflow/python/keras/engine/training.py\u001b[0m in \u001b[0;36m_method_wrapper\u001b[0;34m(self, *args, **kwargs)\u001b[0m\n\u001b[1;32m     64\u001b[0m   \u001b[0;32mdef\u001b[0m \u001b[0m_method_wrapper\u001b[0m\u001b[0;34m(\u001b[0m\u001b[0mself\u001b[0m\u001b[0;34m,\u001b[0m \u001b[0;34m*\u001b[0m\u001b[0margs\u001b[0m\u001b[0;34m,\u001b[0m \u001b[0;34m**\u001b[0m\u001b[0mkwargs\u001b[0m\u001b[0;34m)\u001b[0m\u001b[0;34m:\u001b[0m\u001b[0;34m\u001b[0m\u001b[0;34m\u001b[0m\u001b[0m\n\u001b[1;32m     65\u001b[0m     \u001b[0;32mif\u001b[0m \u001b[0;32mnot\u001b[0m \u001b[0mself\u001b[0m\u001b[0;34m.\u001b[0m\u001b[0m_in_multi_worker_mode\u001b[0m\u001b[0;34m(\u001b[0m\u001b[0;34m)\u001b[0m\u001b[0;34m:\u001b[0m  \u001b[0;31m# pylint: disable=protected-access\u001b[0m\u001b[0;34m\u001b[0m\u001b[0;34m\u001b[0m\u001b[0m\n\u001b[0;32m---> 66\u001b[0;31m       \u001b[0;32mreturn\u001b[0m \u001b[0mmethod\u001b[0m\u001b[0;34m(\u001b[0m\u001b[0mself\u001b[0m\u001b[0;34m,\u001b[0m \u001b[0;34m*\u001b[0m\u001b[0margs\u001b[0m\u001b[0;34m,\u001b[0m \u001b[0;34m**\u001b[0m\u001b[0mkwargs\u001b[0m\u001b[0;34m)\u001b[0m\u001b[0;34m\u001b[0m\u001b[0;34m\u001b[0m\u001b[0m\n\u001b[0m\u001b[1;32m     67\u001b[0m \u001b[0;34m\u001b[0m\u001b[0m\n\u001b[1;32m     68\u001b[0m     \u001b[0;31m# Running inside `run_distribute_coordinator` already.\u001b[0m\u001b[0;34m\u001b[0m\u001b[0;34m\u001b[0m\u001b[0;34m\u001b[0m\u001b[0m\n",
            "\u001b[0;32m/usr/local/lib/python3.6/dist-packages/tensorflow/python/keras/engine/training.py\u001b[0m in \u001b[0;36mfit\u001b[0;34m(self, x, y, batch_size, epochs, verbose, callbacks, validation_split, validation_data, shuffle, class_weight, sample_weight, initial_epoch, steps_per_epoch, validation_steps, validation_batch_size, validation_freq, max_queue_size, workers, use_multiprocessing)\u001b[0m\n\u001b[1;32m    846\u001b[0m                 batch_size=batch_size):\n\u001b[1;32m    847\u001b[0m               \u001b[0mcallbacks\u001b[0m\u001b[0;34m.\u001b[0m\u001b[0mon_train_batch_begin\u001b[0m\u001b[0;34m(\u001b[0m\u001b[0mstep\u001b[0m\u001b[0;34m)\u001b[0m\u001b[0;34m\u001b[0m\u001b[0;34m\u001b[0m\u001b[0m\n\u001b[0;32m--> 848\u001b[0;31m               \u001b[0mtmp_logs\u001b[0m \u001b[0;34m=\u001b[0m \u001b[0mtrain_function\u001b[0m\u001b[0;34m(\u001b[0m\u001b[0miterator\u001b[0m\u001b[0;34m)\u001b[0m\u001b[0;34m\u001b[0m\u001b[0;34m\u001b[0m\u001b[0m\n\u001b[0m\u001b[1;32m    849\u001b[0m               \u001b[0;31m# Catch OutOfRangeError for Datasets of unknown size.\u001b[0m\u001b[0;34m\u001b[0m\u001b[0;34m\u001b[0m\u001b[0;34m\u001b[0m\u001b[0m\n\u001b[1;32m    850\u001b[0m               \u001b[0;31m# This blocks until the batch has finished executing.\u001b[0m\u001b[0;34m\u001b[0m\u001b[0;34m\u001b[0m\u001b[0;34m\u001b[0m\u001b[0m\n",
            "\u001b[0;32m/usr/local/lib/python3.6/dist-packages/tensorflow/python/eager/def_function.py\u001b[0m in \u001b[0;36m__call__\u001b[0;34m(self, *args, **kwds)\u001b[0m\n\u001b[1;32m    578\u001b[0m         \u001b[0mxla_context\u001b[0m\u001b[0;34m.\u001b[0m\u001b[0mExit\u001b[0m\u001b[0;34m(\u001b[0m\u001b[0;34m)\u001b[0m\u001b[0;34m\u001b[0m\u001b[0;34m\u001b[0m\u001b[0m\n\u001b[1;32m    579\u001b[0m     \u001b[0;32melse\u001b[0m\u001b[0;34m:\u001b[0m\u001b[0;34m\u001b[0m\u001b[0;34m\u001b[0m\u001b[0m\n\u001b[0;32m--> 580\u001b[0;31m       \u001b[0mresult\u001b[0m \u001b[0;34m=\u001b[0m \u001b[0mself\u001b[0m\u001b[0;34m.\u001b[0m\u001b[0m_call\u001b[0m\u001b[0;34m(\u001b[0m\u001b[0;34m*\u001b[0m\u001b[0margs\u001b[0m\u001b[0;34m,\u001b[0m \u001b[0;34m**\u001b[0m\u001b[0mkwds\u001b[0m\u001b[0;34m)\u001b[0m\u001b[0;34m\u001b[0m\u001b[0;34m\u001b[0m\u001b[0m\n\u001b[0m\u001b[1;32m    581\u001b[0m \u001b[0;34m\u001b[0m\u001b[0m\n\u001b[1;32m    582\u001b[0m     \u001b[0;32mif\u001b[0m \u001b[0mtracing_count\u001b[0m \u001b[0;34m==\u001b[0m \u001b[0mself\u001b[0m\u001b[0;34m.\u001b[0m\u001b[0m_get_tracing_count\u001b[0m\u001b[0;34m(\u001b[0m\u001b[0;34m)\u001b[0m\u001b[0;34m:\u001b[0m\u001b[0;34m\u001b[0m\u001b[0;34m\u001b[0m\u001b[0m\n",
            "\u001b[0;32m/usr/local/lib/python3.6/dist-packages/tensorflow/python/eager/def_function.py\u001b[0m in \u001b[0;36m_call\u001b[0;34m(self, *args, **kwds)\u001b[0m\n\u001b[1;32m    609\u001b[0m       \u001b[0;31m# In this case we have created variables on the first call, so we run the\u001b[0m\u001b[0;34m\u001b[0m\u001b[0;34m\u001b[0m\u001b[0;34m\u001b[0m\u001b[0m\n\u001b[1;32m    610\u001b[0m       \u001b[0;31m# defunned version which is guaranteed to never create variables.\u001b[0m\u001b[0;34m\u001b[0m\u001b[0;34m\u001b[0m\u001b[0;34m\u001b[0m\u001b[0m\n\u001b[0;32m--> 611\u001b[0;31m       \u001b[0;32mreturn\u001b[0m \u001b[0mself\u001b[0m\u001b[0;34m.\u001b[0m\u001b[0m_stateless_fn\u001b[0m\u001b[0;34m(\u001b[0m\u001b[0;34m*\u001b[0m\u001b[0margs\u001b[0m\u001b[0;34m,\u001b[0m \u001b[0;34m**\u001b[0m\u001b[0mkwds\u001b[0m\u001b[0;34m)\u001b[0m  \u001b[0;31m# pylint: disable=not-callable\u001b[0m\u001b[0;34m\u001b[0m\u001b[0;34m\u001b[0m\u001b[0m\n\u001b[0m\u001b[1;32m    612\u001b[0m     \u001b[0;32melif\u001b[0m \u001b[0mself\u001b[0m\u001b[0;34m.\u001b[0m\u001b[0m_stateful_fn\u001b[0m \u001b[0;32mis\u001b[0m \u001b[0;32mnot\u001b[0m \u001b[0;32mNone\u001b[0m\u001b[0;34m:\u001b[0m\u001b[0;34m\u001b[0m\u001b[0;34m\u001b[0m\u001b[0m\n\u001b[1;32m    613\u001b[0m       \u001b[0;31m# Release the lock early so that multiple threads can perform the call\u001b[0m\u001b[0;34m\u001b[0m\u001b[0;34m\u001b[0m\u001b[0;34m\u001b[0m\u001b[0m\n",
            "\u001b[0;32m/usr/local/lib/python3.6/dist-packages/tensorflow/python/eager/function.py\u001b[0m in \u001b[0;36m__call__\u001b[0;34m(self, *args, **kwargs)\u001b[0m\n\u001b[1;32m   2418\u001b[0m     \u001b[0;32mwith\u001b[0m \u001b[0mself\u001b[0m\u001b[0;34m.\u001b[0m\u001b[0m_lock\u001b[0m\u001b[0;34m:\u001b[0m\u001b[0;34m\u001b[0m\u001b[0;34m\u001b[0m\u001b[0m\n\u001b[1;32m   2419\u001b[0m       \u001b[0mgraph_function\u001b[0m\u001b[0;34m,\u001b[0m \u001b[0margs\u001b[0m\u001b[0;34m,\u001b[0m \u001b[0mkwargs\u001b[0m \u001b[0;34m=\u001b[0m \u001b[0mself\u001b[0m\u001b[0;34m.\u001b[0m\u001b[0m_maybe_define_function\u001b[0m\u001b[0;34m(\u001b[0m\u001b[0margs\u001b[0m\u001b[0;34m,\u001b[0m \u001b[0mkwargs\u001b[0m\u001b[0;34m)\u001b[0m\u001b[0;34m\u001b[0m\u001b[0;34m\u001b[0m\u001b[0m\n\u001b[0;32m-> 2420\u001b[0;31m     \u001b[0;32mreturn\u001b[0m \u001b[0mgraph_function\u001b[0m\u001b[0;34m.\u001b[0m\u001b[0m_filtered_call\u001b[0m\u001b[0;34m(\u001b[0m\u001b[0margs\u001b[0m\u001b[0;34m,\u001b[0m \u001b[0mkwargs\u001b[0m\u001b[0;34m)\u001b[0m  \u001b[0;31m# pylint: disable=protected-access\u001b[0m\u001b[0;34m\u001b[0m\u001b[0;34m\u001b[0m\u001b[0m\n\u001b[0m\u001b[1;32m   2421\u001b[0m \u001b[0;34m\u001b[0m\u001b[0m\n\u001b[1;32m   2422\u001b[0m   \u001b[0;34m@\u001b[0m\u001b[0mproperty\u001b[0m\u001b[0;34m\u001b[0m\u001b[0;34m\u001b[0m\u001b[0m\n",
            "\u001b[0;32m/usr/local/lib/python3.6/dist-packages/tensorflow/python/eager/function.py\u001b[0m in \u001b[0;36m_filtered_call\u001b[0;34m(self, args, kwargs)\u001b[0m\n\u001b[1;32m   1663\u001b[0m          if isinstance(t, (ops.Tensor,\n\u001b[1;32m   1664\u001b[0m                            resource_variable_ops.BaseResourceVariable))),\n\u001b[0;32m-> 1665\u001b[0;31m         self.captured_inputs)\n\u001b[0m\u001b[1;32m   1666\u001b[0m \u001b[0;34m\u001b[0m\u001b[0m\n\u001b[1;32m   1667\u001b[0m   \u001b[0;32mdef\u001b[0m \u001b[0m_call_flat\u001b[0m\u001b[0;34m(\u001b[0m\u001b[0mself\u001b[0m\u001b[0;34m,\u001b[0m \u001b[0margs\u001b[0m\u001b[0;34m,\u001b[0m \u001b[0mcaptured_inputs\u001b[0m\u001b[0;34m,\u001b[0m \u001b[0mcancellation_manager\u001b[0m\u001b[0;34m=\u001b[0m\u001b[0;32mNone\u001b[0m\u001b[0;34m)\u001b[0m\u001b[0;34m:\u001b[0m\u001b[0;34m\u001b[0m\u001b[0;34m\u001b[0m\u001b[0m\n",
            "\u001b[0;32m/usr/local/lib/python3.6/dist-packages/tensorflow/python/eager/function.py\u001b[0m in \u001b[0;36m_call_flat\u001b[0;34m(self, args, captured_inputs, cancellation_manager)\u001b[0m\n\u001b[1;32m   1744\u001b[0m       \u001b[0;31m# No tape is watching; skip to running the function.\u001b[0m\u001b[0;34m\u001b[0m\u001b[0;34m\u001b[0m\u001b[0;34m\u001b[0m\u001b[0m\n\u001b[1;32m   1745\u001b[0m       return self._build_call_outputs(self._inference_function.call(\n\u001b[0;32m-> 1746\u001b[0;31m           ctx, args, cancellation_manager=cancellation_manager))\n\u001b[0m\u001b[1;32m   1747\u001b[0m     forward_backward = self._select_forward_and_backward_functions(\n\u001b[1;32m   1748\u001b[0m         \u001b[0margs\u001b[0m\u001b[0;34m,\u001b[0m\u001b[0;34m\u001b[0m\u001b[0;34m\u001b[0m\u001b[0m\n",
            "\u001b[0;32m/usr/local/lib/python3.6/dist-packages/tensorflow/python/eager/function.py\u001b[0m in \u001b[0;36mcall\u001b[0;34m(self, ctx, args, cancellation_manager)\u001b[0m\n\u001b[1;32m    596\u001b[0m               \u001b[0minputs\u001b[0m\u001b[0;34m=\u001b[0m\u001b[0margs\u001b[0m\u001b[0;34m,\u001b[0m\u001b[0;34m\u001b[0m\u001b[0;34m\u001b[0m\u001b[0m\n\u001b[1;32m    597\u001b[0m               \u001b[0mattrs\u001b[0m\u001b[0;34m=\u001b[0m\u001b[0mattrs\u001b[0m\u001b[0;34m,\u001b[0m\u001b[0;34m\u001b[0m\u001b[0;34m\u001b[0m\u001b[0m\n\u001b[0;32m--> 598\u001b[0;31m               ctx=ctx)\n\u001b[0m\u001b[1;32m    599\u001b[0m         \u001b[0;32melse\u001b[0m\u001b[0;34m:\u001b[0m\u001b[0;34m\u001b[0m\u001b[0;34m\u001b[0m\u001b[0m\n\u001b[1;32m    600\u001b[0m           outputs = execute.execute_with_cancellation(\n",
            "\u001b[0;32m/usr/local/lib/python3.6/dist-packages/tensorflow/python/eager/execute.py\u001b[0m in \u001b[0;36mquick_execute\u001b[0;34m(op_name, num_outputs, inputs, attrs, ctx, name)\u001b[0m\n\u001b[1;32m     58\u001b[0m     \u001b[0mctx\u001b[0m\u001b[0;34m.\u001b[0m\u001b[0mensure_initialized\u001b[0m\u001b[0;34m(\u001b[0m\u001b[0;34m)\u001b[0m\u001b[0;34m\u001b[0m\u001b[0;34m\u001b[0m\u001b[0m\n\u001b[1;32m     59\u001b[0m     tensors = pywrap_tfe.TFE_Py_Execute(ctx._handle, device_name, op_name,\n\u001b[0;32m---> 60\u001b[0;31m                                         inputs, attrs, num_outputs)\n\u001b[0m\u001b[1;32m     61\u001b[0m   \u001b[0;32mexcept\u001b[0m \u001b[0mcore\u001b[0m\u001b[0;34m.\u001b[0m\u001b[0m_NotOkStatusException\u001b[0m \u001b[0;32mas\u001b[0m \u001b[0me\u001b[0m\u001b[0;34m:\u001b[0m\u001b[0;34m\u001b[0m\u001b[0;34m\u001b[0m\u001b[0m\n\u001b[1;32m     62\u001b[0m     \u001b[0;32mif\u001b[0m \u001b[0mname\u001b[0m \u001b[0;32mis\u001b[0m \u001b[0;32mnot\u001b[0m \u001b[0;32mNone\u001b[0m\u001b[0;34m:\u001b[0m\u001b[0;34m\u001b[0m\u001b[0;34m\u001b[0m\u001b[0m\n",
            "\u001b[0;31mKeyboardInterrupt\u001b[0m: "
          ]
        }
      ]
    },
    {
      "cell_type": "code",
      "metadata": {
        "id": "9-Im-0392fW6",
        "colab_type": "code",
        "colab": {}
      },
      "source": [
        ""
      ],
      "execution_count": 0,
      "outputs": []
    },
    {
      "cell_type": "code",
      "metadata": {
        "id": "xyV17pA1wHVU",
        "colab_type": "code",
        "colab": {
          "base_uri": "https://localhost:8080/",
          "height": 545
        },
        "outputId": "d9fa28e7-e3ba-4719-cbfc-98ecd8205e9b"
      },
      "source": [
        "import matplotlib.pyplot as plt\n",
        "acc = history.history['acc']\n",
        "val_acc = history.history['val_acc']\n",
        "loss = history.history['loss']\n",
        "val_loss = history.history['val_loss']\n",
        "\n",
        "epochs = range(len(acc))\n",
        "\n",
        "plt.plot(epochs, acc, 'bo', label='Training accuracy')\n",
        "plt.plot(epochs, val_acc, 'b', label='Validation accuracy')\n",
        "plt.title('Training and validation accuracy')\n",
        "\n",
        "plt.figure()\n",
        "\n",
        "plt.plot(epochs, loss, 'bo', label='Training Loss')\n",
        "plt.plot(epochs, val_loss, 'b', label='Validation Loss')\n",
        "plt.title('Training and validation loss')\n",
        "plt.legend()\n",
        "\n",
        "plt.show()"
      ],
      "execution_count": 56,
      "outputs": [
        {
          "output_type": "display_data",
          "data": {
            "image/png": "[encoded data removed]",
            "text/plain": [
              "<Figure size 432x288 with 1 Axes>"
            ]
          },
          "metadata": {
            "tags": [],
            "needs_background": "light"
          }
        },
        {
          "output_type": "display_data",
          "data": {
            "image/png": "[encoded data removed]",
            "text/plain": [
              "<Figure size 432x288 with 1 Axes>"
            ]
          },
          "metadata": {
            "tags": [],
            "needs_background": "light"
          }
        }
      ]
    },
    {
      "cell_type": "code",
      "metadata": {
        "id": "IQGZeKlywHbN",
        "colab_type": "code",
        "colab": {}
      },
      "source": [
        "del history"
      ],
      "execution_count": 0,
      "outputs": []
    },
    {
      "cell_type": "code",
      "metadata": {
        "id": "zSmJE2d4wHYs",
        "colab_type": "code",
        "colab": {}
      },
      "source": [
        ""
      ],
      "execution_count": 0,
      "outputs": []
    },
    {
      "cell_type": "code",
      "metadata": {
        "id": "NJkqnz-h7iWt",
        "colab_type": "code",
        "colab": {
          "base_uri": "https://localhost:8080/",
          "height": 540
        },
        "outputId": "e7fdbe4b-2de1-4982-fb4a-f244a1fe0cb3"
      },
      "source": [
        "import os\n",
        "\n",
        "from tensorflow.keras import layers\n",
        "from tensorflow.keras import Model\n",
        "!wget --no-check-certificate \\\n",
        "    https://storage.googleapis.com/mledu-datasets/inception_v3_weights_tf_dim_ordering_tf_kernels_notop.h5 \\\n",
        "    -O /tmp/inception_v3_weights_tf_dim_ordering_tf_kernels_notop.h5\n",
        "  \n",
        "from tensorflow.keras.applications.inception_v3 import InceptionV3\n",
        "\n",
        "local_weights_file = '/tmp/inception_v3_weights_tf_dim_ordering_tf_kernels_notop.h5'\n",
        "\n",
        "pre_trained_model = InceptionV3(input_shape = (48, 48, 1), \n",
        "                                include_top = False, \n",
        "                                weights = True)\n",
        "\n",
        "#pre_trained_model.load_weights(local_weights_file)\n",
        "\n",
        "for layer in pre_trained_model.layers:\n",
        "  layer.trainable = False\n",
        "  \n",
        "pre_trained_model.summary()\n",
        "\n",
        "last_layer = pre_trained_model.get_layer('mixed7')\n",
        "print('last layer output shape: ', last_layer.output_shape)\n",
        "last_output = last_layer.output"
      ],
      "execution_count": 59,
      "outputs": [
        {
          "output_type": "stream",
          "text": [
            "--2020-06-13 18:30:26--  https://storage.googleapis.com/mledu-datasets/inception_v3_weights_tf_dim_ordering_tf_kernels_notop.h5\n",
            "Resolving storage.googleapis.com (storage.googleapis.com)... 172.217.7.240, 2607:f8b0:4004:808::2010\n",
            "Connecting to storage.googleapis.com (storage.googleapis.com)|172.217.7.240|:443... connected.\n",
            "HTTP request sent, awaiting response... 200 OK\n",
            "Length: 87910968 (84M) [application/x-hdf]\n",
            "Saving to: ‘/tmp/inception_v3_weights_tf_dim_ordering_tf_kernels_notop.h5’\n",
            "\n",
            "\r          /tmp/ince   0%[                    ]       0  --.-KB/s               \r         /tmp/incep  75%[==============>     ]  63.62M   318MB/s               \r/tmp/inception_v3_w 100%[===================>]  83.84M   342MB/s    in 0.2s    \n",
            "\n",
            "2020-06-13 18:30:26 (342 MB/s) - ‘/tmp/inception_v3_weights_tf_dim_ordering_tf_kernels_notop.h5’ saved [87910968/87910968]\n",
            "\n"
          ],
          "name": "stdout"
        },
        {
          "output_type": "error",
          "ename": "ValueError",
          "evalue": "ignored",
          "traceback": [
            "\u001b[0;31m---------------------------------------------------------------------------\u001b[0m",
            "\u001b[0;31mValueError\u001b[0m                                Traceback (most recent call last)",
            "\u001b[0;32m<ipython-input-59-6a1bb8d25f53>\u001b[0m in \u001b[0;36m<module>\u001b[0;34m()\u001b[0m\n\u001b[1;32m     11\u001b[0m pre_trained_model = InceptionV3(input_shape = (48, 48, 1), \n\u001b[1;32m     12\u001b[0m                                 \u001b[0minclude_top\u001b[0m \u001b[0;34m=\u001b[0m \u001b[0;32mFalse\u001b[0m\u001b[0;34m,\u001b[0m\u001b[0;34m\u001b[0m\u001b[0;34m\u001b[0m\u001b[0m\n\u001b[0;32m---> 13\u001b[0;31m                                 weights = True)\n\u001b[0m\u001b[1;32m     14\u001b[0m \u001b[0;34m\u001b[0m\u001b[0m\n\u001b[1;32m     15\u001b[0m \u001b[0;31m#pre_trained_model.load_weights(local_weights_file)\u001b[0m\u001b[0;34m\u001b[0m\u001b[0;34m\u001b[0m\u001b[0;34m\u001b[0m\u001b[0m\n",
            "\u001b[0;32m/usr/local/lib/python3.6/dist-packages/tensorflow/python/keras/applications/inception_v3.py\u001b[0m in \u001b[0;36mInceptionV3\u001b[0;34m(include_top, weights, input_tensor, input_shape, pooling, classes, classifier_activation)\u001b[0m\n\u001b[1;32m    126\u001b[0m       \u001b[0mdata_format\u001b[0m\u001b[0;34m=\u001b[0m\u001b[0mbackend\u001b[0m\u001b[0;34m.\u001b[0m\u001b[0mimage_data_format\u001b[0m\u001b[0;34m(\u001b[0m\u001b[0;34m)\u001b[0m\u001b[0;34m,\u001b[0m\u001b[0;34m\u001b[0m\u001b[0;34m\u001b[0m\u001b[0m\n\u001b[1;32m    127\u001b[0m       \u001b[0mrequire_flatten\u001b[0m\u001b[0;34m=\u001b[0m\u001b[0minclude_top\u001b[0m\u001b[0;34m,\u001b[0m\u001b[0;34m\u001b[0m\u001b[0;34m\u001b[0m\u001b[0m\n\u001b[0;32m--> 128\u001b[0;31m       weights=weights)\n\u001b[0m\u001b[1;32m    129\u001b[0m \u001b[0;34m\u001b[0m\u001b[0m\n\u001b[1;32m    130\u001b[0m   \u001b[0;32mif\u001b[0m \u001b[0minput_tensor\u001b[0m \u001b[0;32mis\u001b[0m \u001b[0;32mNone\u001b[0m\u001b[0;34m:\u001b[0m\u001b[0;34m\u001b[0m\u001b[0;34m\u001b[0m\u001b[0m\n",
            "\u001b[0;32m/usr/local/lib/python3.6/dist-packages/tensorflow/python/keras/applications/imagenet_utils.py\u001b[0m in \u001b[0;36mobtain_input_shape\u001b[0;34m(input_shape, default_size, min_size, data_format, require_flatten, weights)\u001b[0m\n\u001b[1;32m    360\u001b[0m           raise ValueError('Input size must be at least ' + str(min_size) +\n\u001b[1;32m    361\u001b[0m                            \u001b[0;34m'x'\u001b[0m \u001b[0;34m+\u001b[0m \u001b[0mstr\u001b[0m\u001b[0;34m(\u001b[0m\u001b[0mmin_size\u001b[0m\u001b[0;34m)\u001b[0m \u001b[0;34m+\u001b[0m \u001b[0;34m'; got `input_shape='\u001b[0m \u001b[0;34m+\u001b[0m\u001b[0;34m\u001b[0m\u001b[0;34m\u001b[0m\u001b[0m\n\u001b[0;32m--> 362\u001b[0;31m                            str(input_shape) + '`')\n\u001b[0m\u001b[1;32m    363\u001b[0m   \u001b[0;32melse\u001b[0m\u001b[0;34m:\u001b[0m\u001b[0;34m\u001b[0m\u001b[0;34m\u001b[0m\u001b[0m\n\u001b[1;32m    364\u001b[0m     \u001b[0;32mif\u001b[0m \u001b[0mrequire_flatten\u001b[0m\u001b[0;34m:\u001b[0m\u001b[0;34m\u001b[0m\u001b[0;34m\u001b[0m\u001b[0m\n",
            "\u001b[0;31mValueError\u001b[0m: Input size must be at least 75x75; got `input_shape=(48, 48, 1)`"
          ]
        }
      ]
    },
    {
      "cell_type": "code",
      "metadata": {
        "id": "laVumNyp7ibC",
        "colab_type": "code",
        "colab": {}
      },
      "source": [
        "from tensorflow.keras.optimizers import RMSprop\n",
        "\n",
        "# Flatten the output layer to 1 dimension\n",
        "x = layers.Flatten()(last_output)\n",
        "# Add a fully connected layer with 1,024 hidden units and ReLU activation\n",
        "x = layers.Dense(1024, activation='relu')(x)\n",
        "# Add a dropout rate of 0.2\n",
        "x = layers.Dropout(0.2)(x)                  \n",
        "# Add a final sigmoid layer for classification\n",
        "x = layers.Dense  (7, activation='softmax')(x)           \n",
        "\n",
        "model = Model( pre_trained_model.input, x) \n",
        "\n",
        "model.compile(optimizer = RMSprop(lr=0.0001), \n",
        "              loss = 'sparse_categorical_crossentropy', \n",
        "              metrics = ['acc'])"
      ],
      "execution_count": 0,
      "outputs": []
    },
    {
      "cell_type": "code",
      "metadata": {
        "id": "xXfNqjVO7im6",
        "colab_type": "code",
        "colab": {}
      },
      "source": [
        "history = model.fit(train_x,train_y, validation_data=(privatetest_x, privatetest_y, epochs=20, validation_steps=50, verbose =2)"
      ],
      "execution_count": 0,
      "outputs": []
    }
  ]
}