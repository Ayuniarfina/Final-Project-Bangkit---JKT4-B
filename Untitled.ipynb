{
  "nbformat": 4,
  "nbformat_minor": 0,
  "metadata": {
    "kernelspec": {
      "display_name": "Python 3",
      "language": "python",
      "name": "python3"
    },
    "language_info": {
      "codemirror_mode": {
        "name": "ipython",
        "version": 3
      },
      "file_extension": ".py",
      "mimetype": "text/x-python",
      "name": "python",
      "nbconvert_exporter": "python",
      "pygments_lexer": "ipython3",
      "version": "3.7.4"
    },
    "colab": {
      "name": "Untitled.ipynb",
      "provenance": [],
      "toc_visible": true
    },
    "accelerator": "GPU"
  },
  "cells": [
    {
      "cell_type": "code",
      "metadata": {
        "id": "N40H6I8Sfa9Z",
        "colab_type": "code",
        "colab": {}
      },
      "source": [
        "import csv\n",
        "import zipfile\n",
        "import numpy as np\n",
        "import tensorflow as tf"
      ],
      "execution_count": 0,
      "outputs": []
    },
    {
      "cell_type": "code",
      "metadata": {
        "id": "BQdu7Cbgfdjd",
        "colab_type": "code",
        "outputId": "044dafcb-fd2e-412b-a870-ab603936f59b",
        "colab": {
          "base_uri": "https://localhost:8080/",
          "height": 118
        }
      },
      "source": [
        "from google.colab import drive\n",
        "drive.mount('/content/gdrive')"
      ],
      "execution_count": 2,
      "outputs": [
        {
          "output_type": "stream",
          "text": [
            "Go to this URL in a browser: https://accounts.google.com/o/oauth2/auth?client_id=947318989803-6bn6qk8qdgf4n4g3pfee6491hc0brc4i.apps.googleusercontent.com&redirect_uri=urn%3aietf%3awg%3aoauth%3a2.0%3aoob&response_type=code&scope=email%20https%3a%2f%2fwww.googleapis.com%2fauth%2fdocs.test%20https%3a%2f%2fwww.googleapis.com%2fauth%2fdrive%20https%3a%2f%2fwww.googleapis.com%2fauth%2fdrive.photos.readonly%20https%3a%2f%2fwww.googleapis.com%2fauth%2fpeopleapi.readonly\n",
            "\n",
            "Enter your authorization code:\n",
            "··········\n",
            "Mounted at /content/gdrive\n"
          ],
          "name": "stdout"
        }
      ]
    },
    {
      "cell_type": "code",
      "metadata": {
        "id": "bjgIFWDkfdmj",
        "colab_type": "code",
        "colab": {}
      },
      "source": [
        "zipref = zipfile.ZipFile('/content/gdrive/My Drive/Data Colab/31050_39603_bundle_archive.zip')\n",
        "zipref.extractall('/tmp/dataset')"
      ],
      "execution_count": 0,
      "outputs": []
    },
    {
      "cell_type": "code",
      "metadata": {
        "id": "fjYRyOhttXqn",
        "colab_type": "code",
        "colab": {}
      },
      "source": [
        "# All dataset\n",
        "def getData(filname):\n",
        "    # images are 48x48\n",
        "    # N = 35887\n",
        "    Y1 = []\n",
        "    X1 = []\n",
        "    Y2 = []\n",
        "    X2 = []\n",
        "    Y3 = []\n",
        "    X3 = []\n",
        "    first = True\n",
        "\n",
        "    #Expression yang mau diikut sertakan\n",
        "    #Exp: [0: 'Anger', 1: 'Disgust', 2: 'Fear', 3: 'Happy', 4: 'Sad', 5: 'Surprise', 6: 'Neutral']\n",
        "    expression = ['0','1','2','3','4','5','6']\n",
        "\n",
        "    for line in open(filname):\n",
        "      if first:\n",
        "        first = False\n",
        "      else:\n",
        "        row = line.split(',')\n",
        "        if row[0] in expression:\n",
        "          if 'Training' in row[2]:\n",
        "            Y1.append(int(row[0]))\n",
        "            X1.append([int(p) for p in row[1].split()])\n",
        "          if 'PrivateTest' in row[2]:\n",
        "            Y2.append(int(row[0]))\n",
        "            X2.append([int(p) for p in row[1].split()])\n",
        "          if 'PublicTest' in row[2]:\n",
        "            Y3.append(int(row[0]))\n",
        "            X3.append([int(p) for p in row[1].split()])\n",
        "        else:\n",
        "          test=1\n",
        "    X1, Y1 = np.array(X1) / 255.0, np.array(Y1)\n",
        "    X2, Y2 = np.array(X2) / 255.0, np.array(Y2)\n",
        "    X3, Y3 = np.array(X3) / 255.0, np.array(Y3)\n",
        "\n",
        "    def berubah(x):\n",
        "      N, D = x.shape\n",
        "      return x.reshape(N, 48, 48,1)\n",
        "\n",
        "    return berubah(X1), Y1, berubah(X2), Y2, berubah(X3), Y3"
      ],
      "execution_count": 0,
      "outputs": []
    },
    {
      "cell_type": "code",
      "metadata": {
        "id": "2U-92Hxom6N2",
        "colab_type": "code",
        "colab": {}
      },
      "source": [
        "sourcelink = '/tmp/dataset/fer2013.csv'\n",
        "train_x, train_y, privatetest_x, privatetest_y, publictest_x, publictest_y = getData(sourcelink)"
      ],
      "execution_count": 0,
      "outputs": []
    },
    {
      "cell_type": "code",
      "metadata": {
        "id": "E6gOHzS6DcXk",
        "colab_type": "code",
        "colab": {
          "base_uri": "https://localhost:8080/",
          "height": 50
        },
        "outputId": "0dacdba3-283d-41fb-b95f-ea5457f747bf"
      },
      "source": [
        "#Check Histogram\n",
        "np.histogram(train_y, bins=[0,1,2,3,4,5,6,7])"
      ],
      "execution_count": 6,
      "outputs": [
        {
          "output_type": "execute_result",
          "data": {
            "text/plain": [
              "(array([3995,  436, 4097, 7215, 4830, 3171, 4965]),\n",
              " array([0, 1, 2, 3, 4, 5, 6, 7]))"
            ]
          },
          "metadata": {
            "tags": []
          },
          "execution_count": 6
        }
      ]
    },
    {
      "cell_type": "code",
      "metadata": {
        "id": "Kp_bmyRUH-Yr",
        "colab_type": "code",
        "colab": {}
      },
      "source": [
        "# Create Grayscale RGB\n",
        "train_x_rgb= tf.image.grayscale_to_rgb(tf.convert_to_tensor(train_x))\n",
        "privatetest_x_rgb = tf.image.grayscale_to_rgb(tf.convert_to_tensor(privatetest_x))\n",
        "publictest_x_rgb = tf.image.grayscale_to_rgb(tf.convert_to_tensor(publictest_x))"
      ],
      "execution_count": 0,
      "outputs": []
    },
    {
      "cell_type": "code",
      "metadata": {
        "id": "uejpD1lzovC6",
        "colab_type": "code",
        "colab": {}
      },
      "source": [
        "train_x_rgb_rez = tf.image.resize(train_x_rgb, [150,150])\n",
        "privatetest_x_rgb_rez = tf.image.resize(privatetest_x_rgb, [150,150])\n",
        "publictest_x_rgb_rez = tf.image.resize(publictest_x_rgb, [150,150])"
      ],
      "execution_count": 0,
      "outputs": []
    },
    {
      "cell_type": "code",
      "metadata": {
        "id": "bYN8blqEo-vB",
        "colab_type": "code",
        "colab": {
          "base_uri": "https://localhost:8080/",
          "height": 33
        },
        "outputId": "87d08718-3351-49d1-fa50-8ff07845441e"
      },
      "source": [
        "privatetest_x_rgb_rez.shape"
      ],
      "execution_count": 13,
      "outputs": [
        {
          "output_type": "execute_result",
          "data": {
            "text/plain": [
              "TensorShape([3589, 150, 150, 3])"
            ]
          },
          "metadata": {
            "tags": []
          },
          "execution_count": 13
        }
      ]
    },
    {
      "cell_type": "code",
      "metadata": {
        "id": "pOcwEsiPoqg5",
        "colab_type": "code",
        "colab": {}
      },
      "source": [
        "#Check jumlah data\n",
        "#print('train_x shape & size:', train_x.shape , '&', len(train_x))\n",
        "#print('train_y shape & size:', train_y.shape, '&', len(train_x))\n",
        "#print('privatetest_x shape & size:', privatetest_x.shape,  '&', len(privatetest_x))\n",
        "#print('privatetest_y shape & size:', privatetest_y.shape,  '&', len(privatetest_y))\n",
        "#print('publictest_x shape & size:', publictest_x.shape,  '&', len(publictest_x))\n",
        "#print('publictest_y shape & size:', publictest_y.shape,  '&', len(publictest_y))"
      ],
      "execution_count": 0,
      "outputs": []
    },
    {
      "cell_type": "code",
      "metadata": {
        "id": "njq2Akz-aeBq",
        "colab_type": "code",
        "colab": {}
      },
      "source": [
        "datagen = tf.keras.preprocessing.image.ImageDataGenerator(\n",
        "      rotation_range=40,\n",
        "      width_shift_range=0.2,\n",
        "      height_shift_range=0.2,\n",
        "      shear_range=0.2,\n",
        "      zoom_range=0.2,\n",
        "      horizontal_flip=True,\n",
        "      fill_mode='nearest')"
      ],
      "execution_count": 0,
      "outputs": []
    },
    {
      "cell_type": "code",
      "metadata": {
        "id": "flApMiJFu5tr",
        "colab_type": "code",
        "outputId": "e77f4217-ec6a-47a0-8c8d-d9eb6a561724",
        "colab": {
          "base_uri": "https://localhost:8080/",
          "height": 472
        }
      },
      "source": [
        "# Model 1\n",
        "\n",
        "expression = [0,1,2,3,4,5,6]\n",
        "\n",
        "model = tf.keras.models.Sequential([\n",
        "  tf.keras.layers.Conv2D(16,(3,3),activation='relu',input_shape=(150,150,3)),\n",
        "  tf.keras.layers.Conv2D(32,(3,3),activation='relu'),\n",
        "  tf.keras.layers.MaxPooling2D(2,2),\n",
        "  tf.keras.layers.Conv2D(32,(3,3),activation='relu'),\n",
        "  tf.keras.layers.Conv2D(64,(3,3),activation='relu'),\n",
        "  tf.keras.layers.MaxPooling2D(2,2),          \n",
        "  tf.keras.layers.Flatten(),\n",
        "  tf.keras.layers.Dense(32, activation='relu'),\n",
        "  tf.keras.layers.Dropout(0.5),\n",
        "  tf.keras.layers.Dense((len(expression)), activation='softmax')\n",
        "])\n",
        "\n",
        "model.summary()"
      ],
      "execution_count": 10,
      "outputs": [
        {
          "output_type": "stream",
          "text": [
            "Model: \"sequential\"\n",
            "_________________________________________________________________\n",
            "Layer (type)                 Output Shape              Param #   \n",
            "=================================================================\n",
            "conv2d (Conv2D)              (None, 148, 148, 16)      448       \n",
            "_________________________________________________________________\n",
            "conv2d_1 (Conv2D)            (None, 146, 146, 32)      4640      \n",
            "_________________________________________________________________\n",
            "max_pooling2d (MaxPooling2D) (None, 73, 73, 32)        0         \n",
            "_________________________________________________________________\n",
            "conv2d_2 (Conv2D)            (None, 71, 71, 32)        9248      \n",
            "_________________________________________________________________\n",
            "conv2d_3 (Conv2D)            (None, 69, 69, 64)        18496     \n",
            "_________________________________________________________________\n",
            "max_pooling2d_1 (MaxPooling2 (None, 34, 34, 64)        0         \n",
            "_________________________________________________________________\n",
            "flatten (Flatten)            (None, 73984)             0         \n",
            "_________________________________________________________________\n",
            "dense (Dense)                (None, 32)                2367520   \n",
            "_________________________________________________________________\n",
            "dropout (Dropout)            (None, 32)                0         \n",
            "_________________________________________________________________\n",
            "dense_1 (Dense)              (None, 7)                 231       \n",
            "=================================================================\n",
            "Total params: 2,400,583\n",
            "Trainable params: 2,400,583\n",
            "Non-trainable params: 0\n",
            "_________________________________________________________________\n"
          ],
          "name": "stdout"
        }
      ]
    },
    {
      "cell_type": "code",
      "metadata": {
        "id": "VzyajucMv7U1",
        "colab_type": "code",
        "colab": {}
      },
      "source": [
        "model.compile(optimizer='adam', loss='sparse_categorical_crossentropy', metrics=['acc'])\n",
        "history = model.fit_generator(datagen.flow(train_x_rgb_rez, train_y, batch_size=32), validation_data=(privatetest_x_rgb_rez, privatetest_y), epochs=20)"
      ],
      "execution_count": 0,
      "outputs": []
    },
    {
      "cell_type": "code",
      "metadata": {
        "id": "xyV17pA1wHVU",
        "colab_type": "code",
        "outputId": "b45d2a66-7e29-4dbe-b5a8-807b85f83e3a",
        "colab": {
          "base_uri": "https://localhost:8080/",
          "height": 545
        }
      },
      "source": [
        "import matplotlib.pyplot as plt\n",
        "acc = history.history['acc']\n",
        "val_acc = history.history['val_acc']\n",
        "loss = history.history['loss']\n",
        "val_loss = history.history['val_loss']\n",
        "\n",
        "epochs = range(len(acc))\n",
        "\n",
        "plt.plot(epochs, acc, 'bo', label='Training accuracy')\n",
        "plt.plot(epochs, val_acc, 'b', label='Validation accuracy')\n",
        "plt.title('Training and validation accuracy')\n",
        "\n",
        "plt.figure()\n",
        "\n",
        "plt.plot(epochs, loss, 'bo', label='Training Loss')\n",
        "plt.plot(epochs, val_loss, 'b', label='Validation Loss')\n",
        "plt.title('Training and validation loss')\n",
        "plt.legend()\n",
        "\n",
        "plt.show()"
      ],
      "execution_count": 22,
      "outputs": [
        {
          "output_type": "display_data",
          "data": {
            "image/png": "[encoded data removed]",
            "text/plain": [
              "<Figure size 432x288 with 1 Axes>"
            ]
          },
          "metadata": {
            "tags": [],
            "needs_background": "light"
          }
        },
        {
          "output_type": "display_data",
          "data": {
            "image/png": "[encoded data removed]",
            "text/plain": [
              "<Figure size 432x288 with 1 Axes>"
            ]
          },
          "metadata": {
            "tags": [],
            "needs_background": "light"
          }
        }
      ]
    },
    {
      "cell_type": "code",
      "metadata": {
        "id": "IQGZeKlywHbN",
        "colab_type": "code",
        "colab": {}
      },
      "source": [
        "del history"
      ],
      "execution_count": 0,
      "outputs": []
    },
    {
      "cell_type": "code",
      "metadata": {
        "id": "zSmJE2d4wHYs",
        "colab_type": "code",
        "colab": {}
      },
      "source": [
        "# All dataset\n",
        "def getData(filname):\n",
        "    # images are 48x48\n",
        "    # N = 35887\n",
        "    Y1 = []\n",
        "    X1 = []\n",
        "    Y2 = []\n",
        "    X2 = []\n",
        "    Y3 = []\n",
        "    X3 = []\n",
        "    first = True\n",
        "\n",
        "    #Expression yang mau diikut sertakan\n",
        "    #Exp: [0: 'Anger', 1: 'Disgust', 2: 'Fear', 3: 'Happy', 4: 'Sad', 5: 'Surprise', 6: 'Neutral']\n",
        "    expression = ['0','1','2','3','4','5','6']\n",
        "\n",
        "    for line in open(filname):\n",
        "      if first:\n",
        "        first = False\n",
        "      else:\n",
        "        row = line.split(',')\n",
        "        if row[0] in expression:\n",
        "          if 'Training' in row[2]:\n",
        "            Y1.append(int(row[0]))\n",
        "            X1.append([int(p) for p in row[1].split()])\n",
        "          if 'PrivateTest' in row[2]:\n",
        "            Y2.append(int(row[0]))\n",
        "            X2.append([int(p) for p in row[1].split()])\n",
        "          if 'PublicTest' in row[2]:\n",
        "            Y3.append(int(row[0]))\n",
        "            X3.append([int(p) for p in row[1].split()])\n",
        "        else:\n",
        "          test=1\n",
        "    X1, Y1 = np.array(X1) / 255.0, np.array(Y1)\n",
        "    X2, Y2 = np.array(X2) / 255.0, np.array(Y2)\n",
        "    X3, Y3 = np.array(X3) / 255.0, np.array(Y3)\n",
        "\n",
        "    def berubah(x):\n",
        "      N, D = x.shape\n",
        "      return x.reshape(N, 150,150,1)\n",
        "\n",
        "    return berubah(X1), Y1, berubah(X2), Y2, berubah(X3), Y3\n",
        "\n",
        "sourcelink = '/tmp/dataset/fer2013.csv'\n",
        "train_x, train_y, privatetest_x, privatetest_y, publictest_x, publictest_y = getData(sourcelink)"
      ],
      "execution_count": 0,
      "outputs": []
    },
    {
      "cell_type": "code",
      "metadata": {
        "id": "NJkqnz-h7iWt",
        "colab_type": "code",
        "outputId": "ed2251c8-b99c-4e5f-c751-1550990a5485",
        "colab": {
          "base_uri": "https://localhost:8080/",
          "height": 560
        }
      },
      "source": [
        "import os\n",
        "\n",
        "from tensorflow.keras import layers\n",
        "from tensorflow.keras import Model\n",
        "!wget --no-check-certificate \\\n",
        "    https://storage.googleapis.com/mledu-datasets/inception_v3_weights_tf_dim_ordering_tf_kernels_notop.h5 \\\n",
        "    -O /tmp/inception_v3_weights_tf_dim_ordering_tf_kernels_notop.h5\n",
        "  \n",
        "from tensorflow.keras.applications.inception_v3 import InceptionV3\n",
        "\n",
        "local_weights_file = '/tmp/inception_v3_weights_tf_dim_ordering_tf_kernels_notop.h5'\n",
        "\n",
        "pre_trained_model = InceptionV3(input_shape = (48, 48, 1), \n",
        "                                include_top = False, \n",
        "                                weights = True)\n",
        "\n",
        "#pre_trained_model.load_weights(local_weights_file)\n",
        "\n",
        "for layer in pre_trained_model.layers:\n",
        "  layer.trainable = False\n",
        "  \n",
        "pre_trained_model.summary()\n",
        "\n",
        "last_layer = pre_trained_model.get_layer('mixed7')\n",
        "print('last layer output shape: ', last_layer.output_shape)\n",
        "last_output = last_layer.output"
      ],
      "execution_count": 35,
      "outputs": [
        {
          "output_type": "stream",
          "text": [
            "--2020-06-14 14:08:47--  https://storage.googleapis.com/mledu-datasets/inception_v3_weights_tf_dim_ordering_tf_kernels_notop.h5\n",
            "Resolving storage.googleapis.com (storage.googleapis.com)... 74.125.203.128, 2404:6800:4008:c03::80\n",
            "Connecting to storage.googleapis.com (storage.googleapis.com)|74.125.203.128|:443... connected.\n",
            "HTTP request sent, awaiting response... 200 OK\n",
            "Length: 87910968 (84M) [application/x-hdf]\n",
            "Saving to: ‘/tmp/inception_v3_weights_tf_dim_ordering_tf_kernels_notop.h5’\n",
            "\n",
            "\r          /tmp/ince   0%[                    ]       0  --.-KB/s               \r         /tmp/incep  20%[===>                ]  16.98M  84.9MB/s               \r        /tmp/incept  56%[==========>         ]  47.06M   118MB/s               \r       /tmp/incepti  93%[=================>  ]  78.24M   130MB/s               \r/tmp/inception_v3_w 100%[===================>]  83.84M   132MB/s    in 0.6s    \n",
            "\n",
            "2020-06-14 14:08:48 (132 MB/s) - ‘/tmp/inception_v3_weights_tf_dim_ordering_tf_kernels_notop.h5’ saved [87910968/87910968]\n",
            "\n"
          ],
          "name": "stdout"
        },
        {
          "output_type": "error",
          "ename": "ValueError",
          "evalue": "ignored",
          "traceback": [
            "\u001b[0;31m---------------------------------------------------------------------------\u001b[0m",
            "\u001b[0;31mValueError\u001b[0m                                Traceback (most recent call last)",
            "\u001b[0;32m<ipython-input-35-6a1bb8d25f53>\u001b[0m in \u001b[0;36m<module>\u001b[0;34m()\u001b[0m\n\u001b[1;32m     11\u001b[0m pre_trained_model = InceptionV3(input_shape = (48, 48, 1), \n\u001b[1;32m     12\u001b[0m                                 \u001b[0minclude_top\u001b[0m \u001b[0;34m=\u001b[0m \u001b[0;32mFalse\u001b[0m\u001b[0;34m,\u001b[0m\u001b[0;34m\u001b[0m\u001b[0;34m\u001b[0m\u001b[0m\n\u001b[0;32m---> 13\u001b[0;31m                                 weights = True)\n\u001b[0m\u001b[1;32m     14\u001b[0m \u001b[0;34m\u001b[0m\u001b[0m\n\u001b[1;32m     15\u001b[0m \u001b[0;31m#pre_trained_model.load_weights(local_weights_file)\u001b[0m\u001b[0;34m\u001b[0m\u001b[0;34m\u001b[0m\u001b[0;34m\u001b[0m\u001b[0m\n",
            "\u001b[0;32m/usr/local/lib/python3.6/dist-packages/tensorflow/python/keras/applications/inception_v3.py\u001b[0m in \u001b[0;36mInceptionV3\u001b[0;34m(include_top, weights, input_tensor, input_shape, pooling, classes, classifier_activation)\u001b[0m\n\u001b[1;32m    126\u001b[0m       \u001b[0mdata_format\u001b[0m\u001b[0;34m=\u001b[0m\u001b[0mbackend\u001b[0m\u001b[0;34m.\u001b[0m\u001b[0mimage_data_format\u001b[0m\u001b[0;34m(\u001b[0m\u001b[0;34m)\u001b[0m\u001b[0;34m,\u001b[0m\u001b[0;34m\u001b[0m\u001b[0;34m\u001b[0m\u001b[0m\n\u001b[1;32m    127\u001b[0m       \u001b[0mrequire_flatten\u001b[0m\u001b[0;34m=\u001b[0m\u001b[0minclude_top\u001b[0m\u001b[0;34m,\u001b[0m\u001b[0;34m\u001b[0m\u001b[0;34m\u001b[0m\u001b[0m\n\u001b[0;32m--> 128\u001b[0;31m       weights=weights)\n\u001b[0m\u001b[1;32m    129\u001b[0m \u001b[0;34m\u001b[0m\u001b[0m\n\u001b[1;32m    130\u001b[0m   \u001b[0;32mif\u001b[0m \u001b[0minput_tensor\u001b[0m \u001b[0;32mis\u001b[0m \u001b[0;32mNone\u001b[0m\u001b[0;34m:\u001b[0m\u001b[0;34m\u001b[0m\u001b[0;34m\u001b[0m\u001b[0m\n",
            "\u001b[0;32m/usr/local/lib/python3.6/dist-packages/tensorflow/python/keras/applications/imagenet_utils.py\u001b[0m in \u001b[0;36mobtain_input_shape\u001b[0;34m(input_shape, default_size, min_size, data_format, require_flatten, weights)\u001b[0m\n\u001b[1;32m    360\u001b[0m           raise ValueError('Input size must be at least ' + str(min_size) +\n\u001b[1;32m    361\u001b[0m                            \u001b[0;34m'x'\u001b[0m \u001b[0;34m+\u001b[0m \u001b[0mstr\u001b[0m\u001b[0;34m(\u001b[0m\u001b[0mmin_size\u001b[0m\u001b[0;34m)\u001b[0m \u001b[0;34m+\u001b[0m \u001b[0;34m'; got `input_shape='\u001b[0m \u001b[0;34m+\u001b[0m\u001b[0;34m\u001b[0m\u001b[0;34m\u001b[0m\u001b[0m\n\u001b[0;32m--> 362\u001b[0;31m                            str(input_shape) + '`')\n\u001b[0m\u001b[1;32m    363\u001b[0m   \u001b[0;32melse\u001b[0m\u001b[0;34m:\u001b[0m\u001b[0;34m\u001b[0m\u001b[0;34m\u001b[0m\u001b[0m\n\u001b[1;32m    364\u001b[0m     \u001b[0;32mif\u001b[0m \u001b[0mrequire_flatten\u001b[0m\u001b[0;34m:\u001b[0m\u001b[0;34m\u001b[0m\u001b[0;34m\u001b[0m\u001b[0m\n",
            "\u001b[0;31mValueError\u001b[0m: Input size must be at least 75x75; got `input_shape=(48, 48, 1)`"
          ]
        }
      ]
    },
    {
      "cell_type": "code",
      "metadata": {
        "id": "laVumNyp7ibC",
        "colab_type": "code",
        "colab": {}
      },
      "source": [
        "from tensorflow.keras.optimizers import RMSprop\n",
        "\n",
        "# Flatten the output layer to 1 dimension\n",
        "x = layers.Flatten()(last_output)\n",
        "# Add a fully connected layer with 1,024 hidden units and ReLU activation\n",
        "x = layers.Dense(1024, activation='relu')(x)\n",
        "# Add a dropout rate of 0.2\n",
        "x = layers.Dropout(0.2)(x)                  \n",
        "# Add a final sigmoid layer for classification\n",
        "x = layers.Dense  (7, activation='softmax')(x)           \n",
        "\n",
        "model = Model( pre_trained_model.input, x) \n",
        "\n",
        "model.compile(optimizer = RMSprop(lr=0.0001), \n",
        "              loss = 'sparse_categorical_crossentropy', \n",
        "              metrics = ['acc'])"
      ],
      "execution_count": 0,
      "outputs": []
    },
    {
      "cell_type": "code",
      "metadata": {
        "id": "xXfNqjVO7im6",
        "colab_type": "code",
        "colab": {}
      },
      "source": [
        "history = model.fit(train_x,train_y, validation_data=(privatetest_x, privatetest_y, epochs=20, validation_steps=50, verbose =2)"
      ],
      "execution_count": 0,
      "outputs": []
    }
  ]
}