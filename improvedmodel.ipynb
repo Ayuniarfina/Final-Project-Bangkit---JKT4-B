{
  "nbformat": 4,
  "nbformat_minor": 0,
  "metadata": {
    "colab": {
      "name": "Untitled18.ipynb",
      "provenance": [],
      "authorship_tag": "ABX9TyMJkQfreJWc54lHkgkb5/Lp",
      "include_colab_link": true
    },
    "kernelspec": {
      "name": "python3",
      "display_name": "Python 3"
    },
    "accelerator": "GPU"
  },
  "cells": [
    {
      "cell_type": "markdown",
      "metadata": {
        "id": "view-in-github",
        "colab_type": "text"
      },
      "source": [
        "<a href=\"https://colab.research.google.com/github/Ayuniarfina/Final-Project-Bangkit---JKT4-B/blob/Deni-branch/improvedmodel.ipynb\" target=\"_parent\"><img src=\"https://colab.research.google.com/assets/colab-badge.svg\" alt=\"Open In Colab\"/></a>"
      ]
    },
    {
      "cell_type": "code",
      "metadata": {
        "id": "pNvjErkzVM08",
        "colab_type": "code",
        "colab": {}
      },
      "source": [
        "#Improved model"
      ],
      "execution_count": null,
      "outputs": []
    },
    {
      "cell_type": "code",
      "metadata": {
        "id": "f1I2F1BHWTR0",
        "colab_type": "code",
        "colab": {
          "base_uri": "https://localhost:8080/",
          "height": 34
        },
        "outputId": "81724061-3f65-45ae-82ca-aaeb5710ffa2"
      },
      "source": [
        "from google.colab import drive\n",
        "drive.mount('/content/gdrive')"
      ],
      "execution_count": 144,
      "outputs": [
        {
          "output_type": "stream",
          "text": [
            "Drive already mounted at /content/gdrive; to attempt to forcibly remount, call drive.mount(\"/content/gdrive\", force_remount=True).\n"
          ],
          "name": "stdout"
        }
      ]
    },
    {
      "cell_type": "code",
      "metadata": {
        "id": "KUG1i2JwWfM8",
        "colab_type": "code",
        "colab": {}
      },
      "source": [
        "import zipfile\n",
        "zipref = zipfile.ZipFile('/content/gdrive/My Drive/Data Colab/faceexp.zip')\n",
        "zipref.extractall('/tmp/dataset')"
      ],
      "execution_count": 255,
      "outputs": []
    },
    {
      "cell_type": "code",
      "metadata": {
        "id": "50bpEi8NYUrs",
        "colab_type": "code",
        "colab": {}
      },
      "source": [
        "import tensorflow as tf\n",
        "import collections\n",
        "import matplotlib.pyplot as plt"
      ],
      "execution_count": 256,
      "outputs": []
    },
    {
      "cell_type": "code",
      "metadata": {
        "id": "JymmBkGRXm6e",
        "colab_type": "code",
        "colab": {}
      },
      "source": [
        "import shutil\n",
        "#shutil.rmtree('/tmp/dataset')\n",
        "shutil.rmtree('/tmp/dataset/images/images/train/neutral')\n",
        "shutil.rmtree('/tmp/dataset/images/images/validation/neutral')"
      ],
      "execution_count": 257,
      "outputs": []
    },
    {
      "cell_type": "code",
      "metadata": {
        "id": "llS0CmOBXhQC",
        "colab_type": "code",
        "colab": {
          "base_uri": "https://localhost:8080/",
          "height": 52
        },
        "outputId": "fb5f9cca-b03e-4ba8-f6c0-62e2124e32f9"
      },
      "source": [
        "train_dir = ('/tmp/dataset/images/images/train')\n",
        "test_dir = ('/tmp/dataset/images/images/validation')\n",
        "\n",
        "train_datagen = tf.keras.preprocessing.image.ImageDataGenerator(rescale=1/255.0,\n",
        "  #rotation_range=40,\n",
        "  #width_shift_range=0.2,\n",
        "  #height_shift_range=0.2,\n",
        "  horizontal_flip=True,\n",
        "  #fill_mode='nearest' \n",
        ")\n",
        "\n",
        "test_datagen = tf.keras.preprocessing.image.ImageDataGenerator(rescale=1/255.0)\n",
        "\n",
        "traingenerator = train_datagen.flow_from_directory(\n",
        "    train_dir,\n",
        "    target_size=(150,150),\n",
        "    batch_size=32,\n",
        "    class_mode='categorical'\n",
        ")\n",
        "\n",
        "testgenerator = test_datagen.flow_from_directory(\n",
        "    test_dir,\n",
        "    target_size=(150,150),\n",
        "    class_mode='categorical',\n",
        "    shuffle=False\n",
        ")"
      ],
      "execution_count": 258,
      "outputs": [
        {
          "output_type": "stream",
          "text": [
            "Found 23839 images belonging to 6 classes.\n",
            "Found 5850 images belonging to 6 classes.\n"
          ],
          "name": "stdout"
        }
      ]
    },
    {
      "cell_type": "code",
      "metadata": {
        "id": "pK-9J1trsUU_",
        "colab_type": "code",
        "colab": {
          "base_uri": "https://localhost:8080/",
          "height": 34
        },
        "outputId": "1d10c1a0-6832-4a1a-f0a1-94b316446bda"
      },
      "source": [
        "print (traingenerator.class_indices)\n",
        "\n",
        "labels = '\\n'.join(sorted(traingenerator.class_indices.keys()))\n",
        "\n",
        "with open('labels.txt', 'w') as f:\n",
        "  f.write(labels)"
      ],
      "execution_count": 259,
      "outputs": [
        {
          "output_type": "stream",
          "text": [
            "{'angry': 0, 'disgust': 1, 'fear': 2, 'happy': 3, 'sad': 4, 'surprise': 5}\n"
          ],
          "name": "stdout"
        }
      ]
    },
    {
      "cell_type": "code",
      "metadata": {
        "id": "dHE_cNqBsYl_",
        "colab_type": "code",
        "colab": {
          "base_uri": "https://localhost:8080/",
          "height": 121
        },
        "outputId": "6a321deb-a01e-4055-cd15-abd8aad02813"
      },
      "source": [
        "!cat labels.txt"
      ],
      "execution_count": 260,
      "outputs": [
        {
          "output_type": "stream",
          "text": [
            "angry\n",
            "disgust\n",
            "fear\n",
            "happy\n",
            "sad\n",
            "surprise"
          ],
          "name": "stdout"
        }
      ]
    },
    {
      "cell_type": "code",
      "metadata": {
        "id": "MSGfWHq1EKW4",
        "colab_type": "code",
        "colab": {
          "base_uri": "https://localhost:8080/",
          "height": 382
        },
        "outputId": "91b742c5-c49b-4d55-d1e2-526ad6037184"
      },
      "source": [
        "trainset = collections.Counter(traingenerator.classes)\n",
        "plt.figure(figsize=(10,5))\n",
        "plt.bar(trainset.keys(), trainset.values())\n",
        "xlabel = ['angry','disgust','fear','happy','sad','surprise']\n",
        "plt.xticks(ticks=[0,1,2,3,4,5,6], labels=xlabel)\n",
        "plt.tick_params(axis=\"x\", labelsize=20)\n",
        "plt.tick_params(axis=\"y\", labelsize=15)\n",
        "plt.title('Expressions')\n",
        "plt.show()\n",
        "print(' ')\n",
        "print(trainset)"
      ],
      "execution_count": 261,
      "outputs": [
        {
          "output_type": "display_data",
          "data": {
            "image/png": "[encoded data removed]",
            "text/plain": [
              "<Figure size 720x360 with 1 Axes>"
            ]
          },
          "metadata": {
            "tags": []
          }
        },
        {
          "output_type": "stream",
          "text": [
            " \n",
            "Counter({3: 7164, 4: 4938, 2: 4103, 0: 3993, 5: 3205, 1: 436})\n"
          ],
          "name": "stdout"
        }
      ]
    },
    {
      "cell_type": "code",
      "metadata": {
        "id": "dS9ncTXmZAXj",
        "colab_type": "code",
        "colab": {}
      },
      "source": [
        "pre_trained_model = tf.keras.applications.inception_v3.InceptionV3(\n",
        "    include_top= False,\n",
        "    weights= 'imagenet',\n",
        "    input_shape= (150,150,3)\n",
        ")\n",
        "\n",
        "for layer in pre_trained_model.layers:\n",
        "  layer.trainable = False\n",
        "\n",
        "#pre_trained_model.summary()\n",
        "\n",
        "last_layer = pre_trained_model.get_layer('mixed7')\n",
        "last_output = last_layer.output\n",
        "\n",
        "x = tf.keras.layers.Flatten()(last_output)\n",
        "x= tf.keras.layers.Dense(128, activation='relu')(x)\n",
        "x= tf.keras.layers.Dropout(0.25)(x)\n",
        "x= tf.keras.layers.Dense(6, activation='softmax')(x)\n",
        "\n",
        "model = tf.keras.Model(pre_trained_model.input,x)\n",
        "#model.summary()"
      ],
      "execution_count": 262,
      "outputs": []
    },
    {
      "cell_type": "code",
      "metadata": {
        "id": "Y67-YGnWX2C3",
        "colab_type": "code",
        "colab": {
          "base_uri": "https://localhost:8080/",
          "height": 190
        },
        "outputId": "17b96815-c752-468b-9d04-3056b8ebe7f9"
      },
      "source": [
        "model.compile(optimizer='adam', loss='categorical_crossentropy', metrics=['acc'])\n",
        "history = model.fit(traingenerator, epochs=5, validation_data=testgenerator)"
      ],
      "execution_count": 263,
      "outputs": [
        {
          "output_type": "stream",
          "text": [
            "Epoch 1/5\n",
            "745/745 [==============================] - 61s 83ms/step - loss: 1.2595 - acc: 0.5139 - val_loss: 1.0744 - val_acc: 0.5836\n",
            "Epoch 2/5\n",
            "745/745 [==============================] - 61s 82ms/step - loss: 1.0636 - acc: 0.5832 - val_loss: 1.0126 - val_acc: 0.6070\n",
            "Epoch 3/5\n",
            "745/745 [==============================] - 61s 82ms/step - loss: 0.9933 - acc: 0.6056 - val_loss: 1.0101 - val_acc: 0.6068\n",
            "Epoch 4/5\n",
            "745/745 [==============================] - 62s 83ms/step - loss: 0.9321 - acc: 0.6297 - val_loss: 0.9666 - val_acc: 0.6202\n",
            "Epoch 5/5\n",
            "745/745 [==============================] - 61s 82ms/step - loss: 0.8893 - acc: 0.6448 - val_loss: 0.9812 - val_acc: 0.6234\n"
          ],
          "name": "stdout"
        }
      ]
    },
    {
      "cell_type": "code",
      "metadata": {
        "id": "LuAXr1m9apIP",
        "colab_type": "code",
        "colab": {
          "base_uri": "https://localhost:8080/",
          "height": 34
        },
        "outputId": "ec1f1351-e0d2-4f6e-a9f9-39128445f5d6"
      },
      "source": [
        "#Fine Tune Model\n",
        "for layer in pre_trained_model.layers:\n",
        "  layer.trainable = True\n",
        "\n",
        "print('Number of layers: ', len(pre_trained_model.layers))\n",
        "\n",
        "fine_tune_at = 200\n",
        "\n",
        "for layer in pre_trained_model.layers[:fine_tune_at]:\n",
        "  layer.trainable = False"
      ],
      "execution_count": 213,
      "outputs": [
        {
          "output_type": "stream",
          "text": [
            "Number of layers:  311\n"
          ],
          "name": "stdout"
        }
      ]
    },
    {
      "cell_type": "code",
      "metadata": {
        "id": "XBtH8XFUa_5j",
        "colab_type": "code",
        "colab": {
          "base_uri": "https://localhost:8080/",
          "height": 156
        },
        "outputId": "d5ff1877-b6fb-4627-bccc-d5aa41fbca94"
      },
      "source": [
        "model.compile(optimizer=tf.keras.optimizers.RMSprop(lr=0.0001), loss='categorical_crossentropy', metrics=['acc'])\n",
        "history_refined = model.fit_generator(traingenerator, epochs=6,initial_epoch= history.epoch[-1], validation_data=testgenerator)"
      ],
      "execution_count": 214,
      "outputs": [
        {
          "output_type": "stream",
          "text": [
            "Epoch 3/6\n",
            "745/745 [==============================] - 74s 100ms/step - loss: 0.7640 - acc: 0.7023 - val_loss: 0.9938 - val_acc: 0.6444\n",
            "Epoch 4/6\n",
            "745/745 [==============================] - 73s 98ms/step - loss: 0.6073 - acc: 0.7664 - val_loss: 0.9756 - val_acc: 0.6598\n",
            "Epoch 5/6\n",
            "745/745 [==============================] - 73s 98ms/step - loss: 0.4775 - acc: 0.8223 - val_loss: 1.0509 - val_acc: 0.6663\n",
            "Epoch 6/6\n",
            "745/745 [==============================] - 73s 98ms/step - loss: 0.3733 - acc: 0.8620 - val_loss: 1.0844 - val_acc: 0.6687\n"
          ],
          "name": "stdout"
        }
      ]
    },
    {
      "cell_type": "code",
      "metadata": {
        "id": "Io7TENA6a8in",
        "colab_type": "code",
        "colab": {
          "base_uri": "https://localhost:8080/",
          "height": 558
        },
        "outputId": "baef99e7-7c0c-4d60-bd1e-714aa47926a5"
      },
      "source": [
        "import matplotlib.pyplot as plt\n",
        "\n",
        "acc = history.history['acc']\n",
        "val_acc = history.history['val_acc']\n",
        "loss = history.history['loss']\n",
        "val_loss = history.history['val_loss']\n",
        "\n",
        "epochs = range(len(acc))\n",
        "\n",
        "plt.plot(epochs, acc, 'bo', label='Training accuracy')\n",
        "plt.plot(epochs, val_acc, 'b', label='Validation accuracy')\n",
        "plt.title('Training and validation accuracy')\n",
        "\n",
        "plt.figure()\n",
        "\n",
        "plt.plot(epochs, loss, 'bo', label='Training Loss')\n",
        "plt.plot(epochs, val_loss, 'b', label='Validation Loss')\n",
        "plt.plot(figsize=(10,5))\n",
        "plt.title('Training and validation loss')\n",
        "plt.legend()\n",
        "\n",
        "plt.show()"
      ],
      "execution_count": 215,
      "outputs": [
        {
          "output_type": "display_data",
          "data": {
            "image/png": "[encoded data removed]",
            "text/plain": [
              "<Figure size 432x288 with 1 Axes>"
            ]
          },
          "metadata": {
            "tags": []
          }
        },
        {
          "output_type": "display_data",
          "data": {
            "image/png": "[encoded data removed]",
            "text/plain": [
              "<Figure size 432x288 with 1 Axes>"
            ]
          },
          "metadata": {
            "tags": []
          }
        }
      ]
    },
    {
      "cell_type": "code",
      "metadata": {
        "id": "cn6M4cwTbX_P",
        "colab_type": "code",
        "colab": {}
      },
      "source": [
        "# Evaluate Model\n",
        "from sklearn.metrics import classification_report, confusion_matrix\n",
        "import numpy as np\n",
        "import random"
      ],
      "execution_count": 216,
      "outputs": []
    },
    {
      "cell_type": "code",
      "metadata": {
        "id": "gM2m9BM5ezK1",
        "colab_type": "code",
        "colab": {}
      },
      "source": [
        "# Using test generator dataset\n",
        "Y_pred = model.predict(testgenerator)\n",
        "y_pred = np.argmax(Y_pred, axis=1)\n",
        "\n",
        "actual = collections.Counter(testgenerator.classes)\n",
        "prediction = collections.Counter(y_pred)\n",
        "\n",
        "X = ['angry','disgust','fear','happy','sad','surprise']\n",
        "Y=[]\n",
        "Z=[]\n",
        "\n",
        "for i in range(len(xlabel)):\n",
        "  Y.append(actual[i])\n",
        "  Z.append(prediction[i])"
      ],
      "execution_count": 217,
      "outputs": []
    },
    {
      "cell_type": "code",
      "metadata": {
        "id": "NsbPbsYhOsoH",
        "colab_type": "code",
        "colab": {
          "base_uri": "https://localhost:8080/",
          "height": 52
        },
        "outputId": "610f8f84-3a37-4dd3-cf9b-964e5b808041"
      },
      "source": [
        "print('actual:',actual)\n",
        "print('prediction:',prediction)"
      ],
      "execution_count": 218,
      "outputs": [
        {
          "output_type": "stream",
          "text": [
            "actual: Counter({3: 1825, 4: 1139, 2: 1018, 0: 960, 5: 797, 1: 111})\n",
            "prediction: Counter({3: 1776, 2: 1294, 4: 1111, 0: 830, 5: 786, 1: 53})\n"
          ],
          "name": "stdout"
        }
      ]
    },
    {
      "cell_type": "code",
      "metadata": {
        "id": "e_UTJQMn1CRj",
        "colab_type": "code",
        "colab": {}
      },
      "source": [
        "# Plot Random N Missclassified Images\n",
        "import matplotlib.pyplot as plt\n",
        "import matplotlib.image as mpimg\n",
        "\n",
        "tes1 = testgenerator.classes\n",
        "tes2 = y_pred\n",
        "diff = tes1-tes2"
      ],
      "execution_count": 219,
      "outputs": []
    },
    {
      "cell_type": "code",
      "metadata": {
        "id": "lx_rvN7kF4ND",
        "colab_type": "code",
        "colab": {}
      },
      "source": [
        "#Initiatialize\n",
        "x=[]\n",
        "y=0\n",
        "labels = ['angry','disgust','fear','happy','sad','surprise']\n",
        "#Calculate False Prediction Location (x)\n",
        "for i in range(len(diff)):\n",
        "  if diff[i]>0 or diff[i]<0:\n",
        "    x.append(i)\n",
        "    y+=1"
      ],
      "execution_count": 220,
      "outputs": []
    },
    {
      "cell_type": "code",
      "metadata": {
        "id": "H6H8D59bIrJR",
        "colab_type": "code",
        "colab": {
          "base_uri": "https://localhost:8080/",
          "height": 325
        },
        "outputId": "a8e9c658-f4ac-4e46-b9e5-47c28e0cb9bd"
      },
      "source": [
        "def subcategorybar(X, vals, width=0.8):\n",
        "    n = len(vals)\n",
        "    _X = np.arange(len(X))\n",
        "    plt.figure(figsize=(10,5))\n",
        "    for i in range(n):\n",
        "        plt.bar(_X - width/2. + i/float(n)*width, vals[i], \n",
        "                width=width/float(n), align=\"edge\")   \n",
        "    plt.legend(['Actual', 'Prediction'])\n",
        "    plt.xticks(_X, X)\n",
        "    \n",
        "subcategorybar(X, [Y,Z])\n",
        "\n",
        "plt.show()"
      ],
      "execution_count": 221,
      "outputs": [
        {
          "output_type": "display_data",
          "data": {
            "image/png": "[encoded data removed]",
            "text/plain": [
              "<Figure size 720x360 with 1 Axes>"
            ]
          },
          "metadata": {
            "tags": []
          }
        }
      ]
    },
    {
      "cell_type": "code",
      "metadata": {
        "id": "mSjw8uqlm29z",
        "colab_type": "code",
        "colab": {
          "base_uri": "https://localhost:8080/",
          "height": 684
        },
        "outputId": "95021892-7489-4855-9d3d-34f09ba92b0a"
      },
      "source": [
        "import seaborn as sn\n",
        "import pandas as pd\n",
        "\n",
        "print('Total Images: ',len(tes1))\n",
        "print('Number of Images Missclassified: ',y)\n",
        "print(' ')\n",
        "\n",
        "\n",
        "array= confusion_matrix(testgenerator.classes,y_pred)\n",
        "\n",
        "plt.subplots(figsize=(10,10))\n",
        "df_cm=pd.DataFrame(array, range(6),range(6))\n",
        "sn.set(font_scale=1.2)\n",
        "sn.heatmap(df_cm, annot=True, fmt='g')\n",
        "plt.title('Heat Map')\n",
        "plt.xlabel('Prediction')\n",
        "plt.ylabel('Actual')\n",
        "plt.show()"
      ],
      "execution_count": 222,
      "outputs": [
        {
          "output_type": "stream",
          "text": [
            "Total Images:  5850\n",
            "Number of Images Missclassified:  1938\n",
            " \n"
          ],
          "name": "stdout"
        },
        {
          "output_type": "display_data",
          "data": {
            "image/png": "[encoded data removed]",
            "text/plain": [
              "<Figure size 720x720 with 2 Axes>"
            ]
          },
          "metadata": {
            "tags": []
          }
        }
      ]
    },
    {
      "cell_type": "code",
      "metadata": {
        "id": "ImlQtVadNWzt",
        "colab_type": "code",
        "colab": {
          "base_uri": "https://localhost:8080/",
          "height": 138
        },
        "outputId": "d82d50fc-df4e-46bb-ce6d-283a44191933"
      },
      "source": [
        "# Hitung Accuracy per class, manual\n",
        "#actual: Counter({3: 1825, 4: 1216, 5: 1139, 2: 1018, 0: 960, 6: 797, 1: 111})\n",
        "print('0: ', 254/960 )\n",
        "print('1: ', 34/111)\n",
        "print('2: ', 350/1018)\n",
        "print('3: ', 1465/1825)\n",
        "print('4: ', 520/1216)\n",
        "print('5: ', 478/1139)\n",
        "print('6: ', 503/797)"
      ],
      "execution_count": 223,
      "outputs": [
        {
          "output_type": "stream",
          "text": [
            "0:  0.26458333333333334\n",
            "1:  0.3063063063063063\n",
            "2:  0.343811394891945\n",
            "3:  0.8027397260273973\n",
            "4:  0.4276315789473684\n",
            "5:  0.4196663740122915\n",
            "6:  0.6311166875784191\n"
          ],
          "name": "stdout"
        }
      ]
    },
    {
      "cell_type": "code",
      "metadata": {
        "id": "MNJZyxVYhkZL",
        "colab_type": "code",
        "colab": {
          "base_uri": "https://localhost:8080/",
          "height": 242
        },
        "outputId": "3f0c708f-b11a-4982-e78e-7bd3f91c598d"
      },
      "source": [
        "# Classification Report\n",
        "\n",
        "target_names = ['angry','disgust','fear','happy','sad','surprise']\n",
        "print(classification_report(testgenerator.classes, y_pred, target_names=target_names))"
      ],
      "execution_count": 224,
      "outputs": [
        {
          "output_type": "stream",
          "text": [
            "              precision    recall  f1-score   support\n",
            "\n",
            "       angry       0.60      0.52      0.56       960\n",
            "     disgust       0.91      0.43      0.59       111\n",
            "        fear       0.46      0.58      0.51      1018\n",
            "       happy       0.86      0.84      0.85      1825\n",
            "         sad       0.58      0.56      0.57      1139\n",
            "    surprise       0.77      0.76      0.76       797\n",
            "\n",
            "    accuracy                           0.67      5850\n",
            "   macro avg       0.69      0.62      0.64      5850\n",
            "weighted avg       0.68      0.67      0.67      5850\n",
            "\n"
          ],
          "name": "stdout"
        }
      ]
    },
    {
      "cell_type": "code",
      "metadata": {
        "id": "cI9JpBLk80O3",
        "colab_type": "code",
        "colab": {}
      },
      "source": [
        "#Print N Random Misclassified Images (limit==N)\n",
        "limit=0\n",
        "dir = ('/tmp/dataset/images/images/validation')\n",
        "while True:\n",
        "  limit+=1\n",
        "  nomor = random.sample(x,1)\n",
        "  print(#testgenerator.filenames[(nomor[0])],\n",
        "        'actual:', labels[tes1[(nomor[0])]], '/ prediction:', labels[tes2[(nomor[0])]])\n",
        "  plt.imshow(mpimg.imread(dir+'/'+testgenerator.filenames[(nomor[0])]))\n",
        "  plt.show()\n",
        "\n",
        "  if limit == 20:\n",
        "    break"
      ],
      "execution_count": null,
      "outputs": []
    },
    {
      "cell_type": "code",
      "metadata": {
        "id": "av4DVV0jTsIY",
        "colab_type": "code",
        "colab": {}
      },
      "source": [
        "basedir = ('/tmp/dataset/images/images/validation/')\n",
        "expression = ('sad')\n",
        "nsample = 25\n",
        "import os\n",
        "listname = os.listdir(basedir+expression)\n",
        "test = random.sample(listname, nsample)\n",
        "tests=0\n",
        "for i in test:\n",
        "  plt.subplots(figsize=(4,4))\n",
        "  dir = basedir+expression+'/'+i\n",
        "  plt.imshow(mpimg.imread(dir),cmap='gray')\n",
        "plt.show()"
      ],
      "execution_count": null,
      "outputs": []
    },
    {
      "cell_type": "code",
      "metadata": {
        "id": "b2KskQJFMXYn",
        "colab_type": "code",
        "colab": {
          "base_uri": "https://localhost:8080/",
          "height": 106
        },
        "outputId": "840dd708-0fc9-42a1-e74c-1ece373c4d0b"
      },
      "source": [
        "#Save Model\n",
        "saved_model_dir = 'save/fine_tuning'\n",
        "tf.saved_model.save(model, saved_model_dir)\n",
        "\n",
        "converter = tf.lite.TFLiteConverter.from_saved_model(saved_model_dir)\n",
        "tflite_model = converter.convert()\n",
        "\n",
        "with open('model.tflite', 'wb') as f:\n",
        "  f.write(tflite_model)"
      ],
      "execution_count": 226,
      "outputs": [
        {
          "output_type": "stream",
          "text": [
            "WARNING:tensorflow:From /usr/local/lib/python3.6/dist-packages/tensorflow/python/ops/resource_variable_ops.py:1817: calling BaseResourceVariable.__init__ (from tensorflow.python.ops.resource_variable_ops) with constraint is deprecated and will be removed in a future version.\n",
            "Instructions for updating:\n",
            "If using Keras pass *_constraint arguments to layers.\n",
            "INFO:tensorflow:Assets written to: save/fine_tuning/assets\n"
          ],
          "name": "stdout"
        }
      ]
    },
    {
      "cell_type": "code",
      "metadata": {
        "id": "y3VkIEzSMXfc",
        "colab_type": "code",
        "colab": {}
      },
      "source": [
        "from google.colab import files\n",
        "\n",
        "files.download('model.tflite')"
      ],
      "execution_count": null,
      "outputs": []
    },
    {
      "cell_type": "code",
      "metadata": {
        "id": "P6Aiv8vrrMiU",
        "colab_type": "code",
        "colab": {}
      },
      "source": [
        "files.download('labels.txt')"
      ],
      "execution_count": 230,
      "outputs": []
    },
    {
      "cell_type": "code",
      "metadata": {
        "id": "wQ0B0VU9rMrc",
        "colab_type": "code",
        "colab": {}
      },
      "source": [
        ""
      ],
      "execution_count": null,
      "outputs": []
    },
    {
      "cell_type": "code",
      "metadata": {
        "id": "bcmwjcfYrM1H",
        "colab_type": "code",
        "colab": {}
      },
      "source": [
        ""
      ],
      "execution_count": null,
      "outputs": []
    },
    {
      "cell_type": "code",
      "metadata": {
        "id": "Xz2jgmochkcT",
        "colab_type": "code",
        "colab": {}
      },
      "source": [
        "tf.keras.backend.clear_session()"
      ],
      "execution_count": 252,
      "outputs": []
    },
    {
      "cell_type": "code",
      "metadata": {
        "id": "9VQiDL3lBTV0",
        "colab_type": "code",
        "colab": {}
      },
      "source": [
        "del history"
      ],
      "execution_count": 253,
      "outputs": []
    },
    {
      "cell_type": "code",
      "metadata": {
        "id": "ZeecGR2lAf31",
        "colab_type": "code",
        "colab": {}
      },
      "source": [
        ""
      ],
      "execution_count": null,
      "outputs": []
    }
  ]
}