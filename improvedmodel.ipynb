{
  "nbformat": 4,
  "nbformat_minor": 0,
  "metadata": {
    "colab": {
      "name": "Untitled18.ipynb",
      "provenance": [],
      "authorship_tag": "ABX9TyOxwg3d0pb+s60UAgM55QTk",
      "include_colab_link": true
    },
    "kernelspec": {
      "name": "python3",
      "display_name": "Python 3"
    },
    "accelerator": "GPU"
  },
  "cells": [
    {
      "cell_type": "markdown",
      "metadata": {
        "id": "view-in-github",
        "colab_type": "text"
      },
      "source": [
        "<a href=\"https://colab.research.google.com/github/Ayuniarfina/Final-Project-Bangkit---JKT4-B/blob/master/improvedmodel.ipynb\" target=\"_parent\"><img src=\"https://colab.research.google.com/assets/colab-badge.svg\" alt=\"Open In Colab\"/></a>"
      ]
    },
    {
      "cell_type": "code",
      "metadata": {
        "id": "pNvjErkzVM08",
        "colab_type": "code",
        "colab": {}
      },
      "source": [
        "#Improved model"
      ],
      "execution_count": null,
      "outputs": []
    },
    {
      "cell_type": "code",
      "metadata": {
        "id": "f1I2F1BHWTR0",
        "colab_type": "code",
        "colab": {
          "base_uri": "https://localhost:8080/",
          "height": 124
        },
        "outputId": "c81efb20-9e25-42d7-8eb5-518e3bb93f20"
      },
      "source": [
        "from google.colab import drive\n",
        "drive.mount('/content/gdrive')"
      ],
      "execution_count": 1,
      "outputs": [
        {
          "output_type": "stream",
          "text": [
            "Go to this URL in a browser: https://accounts.google.com/o/oauth2/auth?client_id=947318989803-6bn6qk8qdgf4n4g3pfee6491hc0brc4i.apps.googleusercontent.com&redirect_uri=urn%3aietf%3awg%3aoauth%3a2.0%3aoob&response_type=code&scope=email%20https%3a%2f%2fwww.googleapis.com%2fauth%2fdocs.test%20https%3a%2f%2fwww.googleapis.com%2fauth%2fdrive%20https%3a%2f%2fwww.googleapis.com%2fauth%2fdrive.photos.readonly%20https%3a%2f%2fwww.googleapis.com%2fauth%2fpeopleapi.readonly\n",
            "\n",
            "Enter your authorization code:\n",
            "··········\n",
            "Mounted at /content/gdrive\n"
          ],
          "name": "stdout"
        }
      ]
    },
    {
      "cell_type": "code",
      "metadata": {
        "id": "KUG1i2JwWfM8",
        "colab_type": "code",
        "colab": {}
      },
      "source": [
        "import zipfile\n",
        "zipref = zipfile.ZipFile('/content/gdrive/My Drive/Data Colab/faceexp.zip')\n",
        "zipref.extractall('/tmp/dataset')"
      ],
      "execution_count": 2,
      "outputs": []
    },
    {
      "cell_type": "code",
      "metadata": {
        "id": "50bpEi8NYUrs",
        "colab_type": "code",
        "colab": {}
      },
      "source": [
        "import tensorflow as tf\n",
        "import collections\n",
        "import matplotlib.pyplot as plt"
      ],
      "execution_count": 3,
      "outputs": []
    },
    {
      "cell_type": "code",
      "metadata": {
        "id": "JymmBkGRXm6e",
        "colab_type": "code",
        "colab": {}
      },
      "source": [
        "import shutil\n",
        "#shutil.rmtree('/tmp/dataset')\n",
        "shutil.rmtree('/tmp/dataset/images/images/train/neutral')\n",
        "shutil.rmtree('/tmp/dataset/images/images/validation/neutral')"
      ],
      "execution_count": 4,
      "outputs": []
    },
    {
      "cell_type": "code",
      "metadata": {
        "id": "llS0CmOBXhQC",
        "colab_type": "code",
        "colab": {
          "base_uri": "https://localhost:8080/",
          "height": 52
        },
        "outputId": "ee3b35ab-f049-4797-9fa0-3c432b86af4a"
      },
      "source": [
        "train_dir = ('/tmp/dataset/images/images/train')\n",
        "test_dir = ('/tmp/dataset/images/images/validation')\n",
        "\n",
        "train_datagen = tf.keras.preprocessing.image.ImageDataGenerator(rescale=1/255.0,\n",
        "  #rotation_range=40,\n",
        "  #width_shift_range=0.2,\n",
        "  #height_shift_range=0.2,\n",
        "  horizontal_flip=True,\n",
        "  #fill_mode='nearest' \n",
        ")\n",
        "\n",
        "test_datagen = tf.keras.preprocessing.image.ImageDataGenerator(rescale=1/255.0)\n",
        "\n",
        "traingenerator = train_datagen.flow_from_directory(\n",
        "    train_dir,\n",
        "    target_size=(150,150),\n",
        "    batch_size=32,\n",
        "    class_mode='categorical'\n",
        ")\n",
        "\n",
        "testgenerator = test_datagen.flow_from_directory(\n",
        "    test_dir,\n",
        "    target_size=(150,150),\n",
        "    class_mode='categorical',\n",
        "    shuffle=False\n",
        ")"
      ],
      "execution_count": 13,
      "outputs": [
        {
          "output_type": "stream",
          "text": [
            "Found 23839 images belonging to 6 classes.\n",
            "Found 5850 images belonging to 6 classes.\n"
          ],
          "name": "stdout"
        }
      ]
    },
    {
      "cell_type": "code",
      "metadata": {
        "id": "pK-9J1trsUU_",
        "colab_type": "code",
        "colab": {
          "base_uri": "https://localhost:8080/",
          "height": 34
        },
        "outputId": "2991f870-b60b-4a2b-c1db-0d7100f167a4"
      },
      "source": [
        "print (traingenerator.class_indices)\n",
        "\n",
        "labels = '\\n'.join(sorted(traingenerator.class_indices.keys()))\n",
        "\n",
        "with open('labels.txt', 'w') as f:\n",
        "  f.write(labels)"
      ],
      "execution_count": 14,
      "outputs": [
        {
          "output_type": "stream",
          "text": [
            "{'angry': 0, 'disgust': 1, 'fear': 2, 'happy': 3, 'sad': 4, 'surprise': 5}\n"
          ],
          "name": "stdout"
        }
      ]
    },
    {
      "cell_type": "code",
      "metadata": {
        "id": "dHE_cNqBsYl_",
        "colab_type": "code",
        "colab": {
          "base_uri": "https://localhost:8080/",
          "height": 121
        },
        "outputId": "0da1ec52-8dac-4a1d-dee5-a71f8f759041"
      },
      "source": [
        "!cat labels.txt"
      ],
      "execution_count": 15,
      "outputs": [
        {
          "output_type": "stream",
          "text": [
            "angry\n",
            "disgust\n",
            "fear\n",
            "happy\n",
            "sad\n",
            "surprise"
          ],
          "name": "stdout"
        }
      ]
    },
    {
      "cell_type": "code",
      "metadata": {
        "id": "MSGfWHq1EKW4",
        "colab_type": "code",
        "colab": {
          "base_uri": "https://localhost:8080/",
          "height": 373
        },
        "outputId": "6e3f8244-d177-4449-bd6c-de1013d1dfbb"
      },
      "source": [
        "trainset = collections.Counter(traingenerator.classes)\n",
        "plt.figure(figsize=(10,5))\n",
        "plt.bar(trainset.keys(), trainset.values())\n",
        "xlabel = ['angry','disgust','fear','happy','sad','surprise']\n",
        "plt.xticks(ticks=[0,1,2,3,4,5,6], labels=xlabel)\n",
        "plt.tick_params(axis=\"x\", labelsize=12)\n",
        "plt.tick_params(axis=\"y\", labelsize=12)\n",
        "plt.title('Expressions')\n",
        "plt.show()\n",
        "print(' ')\n",
        "print(trainset)"
      ],
      "execution_count": 16,
      "outputs": [
        {
          "output_type": "display_data",
          "data": {
            "image/png": "[encoded data removed]",
            "text/plain": [
              "<Figure size 720x360 with 1 Axes>"
            ]
          },
          "metadata": {
            "tags": [],
            "needs_background": "light"
          }
        },
        {
          "output_type": "stream",
          "text": [
            " \n",
            "Counter({3: 7164, 4: 4938, 2: 4103, 0: 3993, 5: 3205, 1: 436})\n"
          ],
          "name": "stdout"
        }
      ]
    },
    {
      "cell_type": "code",
      "metadata": {
        "id": "dS9ncTXmZAXj",
        "colab_type": "code",
        "colab": {}
      },
      "source": [
        "pre_trained_model = tf.keras.applications.inception_v3.InceptionV3(\n",
        "    include_top= False,\n",
        "    weights= 'imagenet',\n",
        "    input_shape= (150,150,3)\n",
        ")\n",
        "\n",
        "for layer in pre_trained_model.layers:\n",
        "  layer.trainable = False\n",
        "\n",
        "#pre_trained_model.summary()\n",
        "\n",
        "last_layer = pre_trained_model.get_layer('mixed7')\n",
        "last_output = last_layer.output\n",
        "\n",
        "x = tf.keras.layers.Flatten()(last_output)\n",
        "x= tf.keras.layers.Dense(128, activation='relu')(x)\n",
        "x= tf.keras.layers.Dropout(0.25)(x)\n",
        "x= tf.keras.layers.Dense(6, activation='softmax')(x)\n",
        "\n",
        "model = tf.keras.Model(pre_trained_model.input,x)\n",
        "#model.summary()"
      ],
      "execution_count": 17,
      "outputs": []
    },
    {
      "cell_type": "code",
      "metadata": {
        "id": "Y67-YGnWX2C3",
        "colab_type": "code",
        "colab": {
          "base_uri": "https://localhost:8080/",
          "height": 190
        },
        "outputId": "3ae25de3-9a85-468b-bc5a-4178eb87f1e1"
      },
      "source": [
        "model.compile(optimizer='adam', loss='categorical_crossentropy', metrics=['acc'])\n",
        "history = model.fit(traingenerator, epochs=5, validation_data=testgenerator)"
      ],
      "execution_count": 18,
      "outputs": [
        {
          "output_type": "stream",
          "text": [
            "Epoch 1/5\n",
            "745/745 [==============================] - 63s 85ms/step - loss: 1.2450 - acc: 0.5131 - val_loss: 1.0764 - val_acc: 0.5692\n",
            "Epoch 2/5\n",
            "745/745 [==============================] - 62s 83ms/step - loss: 1.0627 - acc: 0.5778 - val_loss: 1.0184 - val_acc: 0.6077\n",
            "Epoch 3/5\n",
            "745/745 [==============================] - 62s 83ms/step - loss: 0.9849 - acc: 0.6114 - val_loss: 1.0096 - val_acc: 0.6079\n",
            "Epoch 4/5\n",
            "745/745 [==============================] - 62s 83ms/step - loss: 0.9189 - acc: 0.6384 - val_loss: 0.9711 - val_acc: 0.6277\n",
            "Epoch 5/5\n",
            "745/745 [==============================] - 62s 83ms/step - loss: 0.8648 - acc: 0.6559 - val_loss: 0.9793 - val_acc: 0.6267\n"
          ],
          "name": "stdout"
        }
      ]
    },
    {
      "cell_type": "code",
      "metadata": {
        "id": "LuAXr1m9apIP",
        "colab_type": "code",
        "colab": {
          "base_uri": "https://localhost:8080/",
          "height": 34
        },
        "outputId": "6b6ca41c-96d8-4c08-8520-6e498f06d288"
      },
      "source": [
        "#Fine Tune Model\n",
        "for layer in pre_trained_model.layers:\n",
        "  layer.trainable = True\n",
        "\n",
        "print('Number of layers: ', len(pre_trained_model.layers))\n",
        "\n",
        "fine_tune_at = 200\n",
        "\n",
        "for layer in pre_trained_model.layers[:fine_tune_at]:\n",
        "  layer.trainable = False"
      ],
      "execution_count": 19,
      "outputs": [
        {
          "output_type": "stream",
          "text": [
            "Number of layers:  311\n"
          ],
          "name": "stdout"
        }
      ]
    },
    {
      "cell_type": "code",
      "metadata": {
        "id": "XBtH8XFUa_5j",
        "colab_type": "code",
        "colab": {
          "base_uri": "https://localhost:8080/",
          "height": 208
        },
        "outputId": "971339d2-ba0b-4375-f17c-d565f2afdadc"
      },
      "source": [
        "model.compile(optimizer=tf.keras.optimizers.RMSprop(lr=0.0001), loss='categorical_crossentropy', metrics=['acc'])\n",
        "history_refined = model.fit_generator(traingenerator, epochs=8,initial_epoch= history.epoch[-1], validation_data=testgenerator)"
      ],
      "execution_count": 20,
      "outputs": [
        {
          "output_type": "stream",
          "text": [
            "WARNING:tensorflow:From <ipython-input-20-aab78cadab7d>:2: Model.fit_generator (from tensorflow.python.keras.engine.training) is deprecated and will be removed in a future version.\n",
            "Instructions for updating:\n",
            "Please use Model.fit, which supports generators.\n",
            "Epoch 5/8\n",
            "745/745 [==============================] - 76s 102ms/step - loss: 0.8388 - acc: 0.6695 - val_loss: 0.9476 - val_acc: 0.6506\n",
            "Epoch 6/8\n",
            "745/745 [==============================] - 75s 101ms/step - loss: 0.7311 - acc: 0.7153 - val_loss: 0.9450 - val_acc: 0.6542\n",
            "Epoch 7/8\n",
            "745/745 [==============================] - 75s 101ms/step - loss: 0.6510 - acc: 0.7455 - val_loss: 0.9656 - val_acc: 0.6646\n",
            "Epoch 8/8\n",
            "745/745 [==============================] - 75s 101ms/step - loss: 0.5791 - acc: 0.7783 - val_loss: 0.9817 - val_acc: 0.6696\n"
          ],
          "name": "stdout"
        }
      ]
    },
    {
      "cell_type": "code",
      "metadata": {
        "id": "Io7TENA6a8in",
        "colab_type": "code",
        "colab": {
          "base_uri": "https://localhost:8080/",
          "height": 545
        },
        "outputId": "c118abca-e1da-4930-c88d-98aa7b0fba60"
      },
      "source": [
        "import matplotlib.pyplot as plt\n",
        "\n",
        "acc = history.history['acc']\n",
        "val_acc = history.history['val_acc']\n",
        "loss = history.history['loss']\n",
        "val_loss = history.history['val_loss']\n",
        "refined_val_acc=history_refined.history['val_acc']\n",
        "refined_acc=history_refined.history['acc']\n",
        "refined_val_loss=history_refined.history['val_loss']\n",
        "refined_loss=history_refined.history['loss']\n",
        "\n",
        "epochsrefined = [5,6,7,8]\n",
        "epochs = range(len(acc))\n",
        "\n",
        "plt.plot(epochsrefined, refined_acc,'ro', label='Finetuned Training accuracy')\n",
        "plt.plot(epochsrefined, refined_val_acc,'r', label='Finetuned validation accuracy')\n",
        "plt.plot(epochs, acc, 'bo', label='Training accuracy')\n",
        "plt.plot(epochs, val_acc, 'b', label='Validation accuracy')\n",
        "plt.title('Training and validation accuracy')\n",
        "\n",
        "plt.figure()\n",
        "\n",
        "\n",
        "plt.plot(epochsrefined, refined_loss,'ro', label='Finetuned Training loss')\n",
        "plt.plot(epochsrefined, refined_val_loss,'r', label='Finetuned validation loss')\n",
        "plt.plot(epochs, loss, 'bo', label='Training Loss')\n",
        "plt.plot(epochs, val_loss, 'b', label='Validation Loss')\n",
        "plt.plot(figsize=(10,5))\n",
        "plt.title('Training and validation loss')\n",
        "plt.legend()\n",
        "\n",
        "plt.show()"
      ],
      "execution_count": 24,
      "outputs": [
        {
          "output_type": "display_data",
          "data": {
            "image/png": "[encoded data removed]",
            "text/plain": [
              "<Figure size 432x288 with 1 Axes>"
            ]
          },
          "metadata": {
            "tags": [],
            "needs_background": "light"
          }
        },
        {
          "output_type": "display_data",
          "data": {
            "image/png": "[encoded data removed]",
            "text/plain": [
              "<Figure size 432x288 with 1 Axes>"
            ]
          },
          "metadata": {
            "tags": [],
            "needs_background": "light"
          }
        }
      ]
    },
    {
      "cell_type": "code",
      "metadata": {
        "id": "cn6M4cwTbX_P",
        "colab_type": "code",
        "colab": {}
      },
      "source": [
        "# Evaluate Model\n",
        "from sklearn.metrics import classification_report, confusion_matrix\n",
        "import numpy as np\n",
        "import random"
      ],
      "execution_count": 25,
      "outputs": []
    },
    {
      "cell_type": "code",
      "metadata": {
        "id": "gM2m9BM5ezK1",
        "colab_type": "code",
        "colab": {}
      },
      "source": [
        "# Using test generator dataset\n",
        "Y_pred = model.predict(testgenerator)\n",
        "y_pred = np.argmax(Y_pred, axis=1)\n",
        "\n",
        "actual = collections.Counter(testgenerator.classes)\n",
        "prediction = collections.Counter(y_pred)\n",
        "\n",
        "X = ['angry','disgust','fear','happy','sad','surprise']\n",
        "Y=[]\n",
        "Z=[]\n",
        "\n",
        "for i in range(len(xlabel)):\n",
        "  Y.append(actual[i])\n",
        "  Z.append(prediction[i])"
      ],
      "execution_count": 26,
      "outputs": []
    },
    {
      "cell_type": "code",
      "metadata": {
        "id": "NsbPbsYhOsoH",
        "colab_type": "code",
        "colab": {
          "base_uri": "https://localhost:8080/",
          "height": 52
        },
        "outputId": "3724bfd4-005a-4303-87a7-c49f0c982e01"
      },
      "source": [
        "print('actual:',actual)\n",
        "print('prediction:',prediction)"
      ],
      "execution_count": 27,
      "outputs": [
        {
          "output_type": "stream",
          "text": [
            "actual: Counter({3: 1825, 4: 1139, 2: 1018, 0: 960, 5: 797, 1: 111})\n",
            "prediction: Counter({3: 1944, 4: 1166, 2: 1061, 0: 964, 5: 665, 1: 50})\n"
          ],
          "name": "stdout"
        }
      ]
    },
    {
      "cell_type": "code",
      "metadata": {
        "id": "e_UTJQMn1CRj",
        "colab_type": "code",
        "colab": {}
      },
      "source": [
        "# Plot Random N Missclassified Images\n",
        "import matplotlib.pyplot as plt\n",
        "import matplotlib.image as mpimg\n",
        "\n",
        "tes1 = testgenerator.classes\n",
        "tes2 = y_pred\n",
        "diff = tes1-tes2"
      ],
      "execution_count": 28,
      "outputs": []
    },
    {
      "cell_type": "code",
      "metadata": {
        "id": "lx_rvN7kF4ND",
        "colab_type": "code",
        "colab": {}
      },
      "source": [
        "#Initiatialize\n",
        "x=[]\n",
        "y=0\n",
        "labels = ['angry','disgust','fear','happy','sad','surprise']\n",
        "#Calculate False Prediction Location (x)\n",
        "for i in range(len(diff)):\n",
        "  if diff[i]>0 or diff[i]<0:\n",
        "    x.append(i)\n",
        "    y+=1"
      ],
      "execution_count": 29,
      "outputs": []
    },
    {
      "cell_type": "code",
      "metadata": {
        "id": "H6H8D59bIrJR",
        "colab_type": "code",
        "colab": {
          "base_uri": "https://localhost:8080/",
          "height": 320
        },
        "outputId": "af3ac2f4-e8c4-486e-ad43-7343863227d4"
      },
      "source": [
        "def subcategorybar(X, vals, width=0.8):\n",
        "    n = len(vals)\n",
        "    _X = np.arange(len(X))\n",
        "    plt.figure(figsize=(10,5))\n",
        "    for i in range(n):\n",
        "        plt.bar(_X - width/2. + i/float(n)*width, vals[i], \n",
        "                width=width/float(n), align=\"edge\")   \n",
        "    plt.legend(['Actual', 'Prediction'])\n",
        "    plt.xticks(_X, X)\n",
        "    \n",
        "subcategorybar(X, [Y,Z])\n",
        "\n",
        "plt.show()"
      ],
      "execution_count": 30,
      "outputs": [
        {
          "output_type": "display_data",
          "data": {
            "image/png": "[encoded data removed]",
            "text/plain": [
              "<Figure size 720x360 with 1 Axes>"
            ]
          },
          "metadata": {
            "tags": [],
            "needs_background": "light"
          }
        }
      ]
    },
    {
      "cell_type": "code",
      "metadata": {
        "id": "mSjw8uqlm29z",
        "colab_type": "code",
        "colab": {
          "base_uri": "https://localhost:8080/",
          "height": 684
        },
        "outputId": "8c2db068-f647-43ad-8e85-ea9d95fb59b7"
      },
      "source": [
        "import seaborn as sn\n",
        "import pandas as pd\n",
        "\n",
        "print('Total Images: ',len(tes1))\n",
        "print('Number of Images Missclassified: ',y)\n",
        "print(' ')\n",
        "\n",
        "\n",
        "array= confusion_matrix(testgenerator.classes,y_pred)\n",
        "\n",
        "plt.subplots(figsize=(10,10))\n",
        "df_cm=pd.DataFrame(array, range(6),range(6))\n",
        "sn.set(font_scale=1.2)\n",
        "sn.heatmap(df_cm, annot=True, fmt='g')\n",
        "plt.title('Confusion Matrix')\n",
        "plt.xlabel('Prediction')\n",
        "plt.ylabel('Actual')\n",
        "plt.show()"
      ],
      "execution_count": 34,
      "outputs": [
        {
          "output_type": "stream",
          "text": [
            "Total Images:  5850\n",
            "Number of Images Missclassified:  1933\n",
            " \n"
          ],
          "name": "stdout"
        },
        {
          "output_type": "display_data",
          "data": {
            "image/png": "[encoded data removed]",
            "text/plain": [
              "<Figure size 720x720 with 2 Axes>"
            ]
          },
          "metadata": {
            "tags": []
          }
        }
      ]
    },
    {
      "cell_type": "code",
      "metadata": {
        "id": "MNJZyxVYhkZL",
        "colab_type": "code",
        "colab": {
          "base_uri": "https://localhost:8080/",
          "height": 242
        },
        "outputId": "ed024e16-e4b5-4890-e541-6d00d61137f1"
      },
      "source": [
        "# Classification Report\n",
        "\n",
        "target_names = ['angry','disgust','fear','happy','sad','surprise']\n",
        "print(classification_report(testgenerator.classes, y_pred, target_names=target_names))"
      ],
      "execution_count": 33,
      "outputs": [
        {
          "output_type": "stream",
          "text": [
            "              precision    recall  f1-score   support\n",
            "\n",
            "       angry       0.56      0.56      0.56       960\n",
            "     disgust       0.80      0.36      0.50       111\n",
            "        fear       0.49      0.51      0.50      1018\n",
            "       happy       0.83      0.88      0.86      1825\n",
            "         sad       0.56      0.58      0.57      1139\n",
            "    surprise       0.83      0.69      0.75       797\n",
            "\n",
            "    accuracy                           0.67      5850\n",
            "   macro avg       0.68      0.60      0.62      5850\n",
            "weighted avg       0.67      0.67      0.67      5850\n",
            "\n"
          ],
          "name": "stdout"
        }
      ]
    },
    {
      "cell_type": "code",
      "metadata": {
        "id": "cI9JpBLk80O3",
        "colab_type": "code",
        "colab": {}
      },
      "source": [
        "#Print N Random Misclassified Images (limit==N)\n",
        "limit=0\n",
        "dir = ('/tmp/dataset/images/images/validation')\n",
        "while True:\n",
        "  limit+=1\n",
        "  nomor = random.sample(x,1)\n",
        "  print(#testgenerator.filenames[(nomor[0])],\n",
        "        'actual:', labels[tes1[(nomor[0])]], '/ prediction:', labels[tes2[(nomor[0])]])\n",
        "  plt.imshow(mpimg.imread(dir+'/'+testgenerator.filenames[(nomor[0])]))\n",
        "  plt.show()\n",
        "\n",
        "  if limit == 20:\n",
        "    break"
      ],
      "execution_count": null,
      "outputs": []
    },
    {
      "cell_type": "code",
      "metadata": {
        "id": "av4DVV0jTsIY",
        "colab_type": "code",
        "colab": {}
      },
      "source": [
        "basedir = ('/tmp/dataset/images/images/validation/')\n",
        "expression = ('sad')\n",
        "nsample = 25\n",
        "import os\n",
        "listname = os.listdir(basedir+expression)\n",
        "test = random.sample(listname, nsample)\n",
        "tests=0\n",
        "for i in test:\n",
        "  plt.subplots(figsize=(4,4))\n",
        "  dir = basedir+expression+'/'+i\n",
        "  plt.imshow(mpimg.imread(dir),cmap='gray')\n",
        "plt.show()"
      ],
      "execution_count": null,
      "outputs": []
    },
    {
      "cell_type": "code",
      "metadata": {
        "id": "b2KskQJFMXYn",
        "colab_type": "code",
        "colab": {
          "base_uri": "https://localhost:8080/",
          "height": 106
        },
        "outputId": "840dd708-0fc9-42a1-e74c-1ece373c4d0b"
      },
      "source": [
        "#Save Model\n",
        "#saved_model_dir = 'save/fine_tuning'\n",
        "#tf.saved_model.save(model, saved_model_dir)\n",
        "\n",
        "#converter = tf.lite.TFLiteConverter.from_saved_model(saved_model_dir)\n",
        "#tflite_model = converter.convert()\n",
        "\n",
        "#with open('model.tflite', 'wb') as f:\n",
        "#  f.write(tflite_model)"
      ],
      "execution_count": null,
      "outputs": [
        {
          "output_type": "stream",
          "text": [
            "WARNING:tensorflow:From /usr/local/lib/python3.6/dist-packages/tensorflow/python/ops/resource_variable_ops.py:1817: calling BaseResourceVariable.__init__ (from tensorflow.python.ops.resource_variable_ops) with constraint is deprecated and will be removed in a future version.\n",
            "Instructions for updating:\n",
            "If using Keras pass *_constraint arguments to layers.\n",
            "INFO:tensorflow:Assets written to: save/fine_tuning/assets\n"
          ],
          "name": "stdout"
        }
      ]
    },
    {
      "cell_type": "code",
      "metadata": {
        "id": "y3VkIEzSMXfc",
        "colab_type": "code",
        "colab": {}
      },
      "source": [
        "#from google.colab import files\n",
        "\n",
        "#files.download('model.tflite')\n",
        "#files.download('labels.txt')"
      ],
      "execution_count": null,
      "outputs": []
    },
    {
      "cell_type": "code",
      "metadata": {
        "id": "P6Aiv8vrrMiU",
        "colab_type": "code",
        "colab": {}
      },
      "source": [
        ""
      ],
      "execution_count": null,
      "outputs": []
    },
    {
      "cell_type": "code",
      "metadata": {
        "id": "wQ0B0VU9rMrc",
        "colab_type": "code",
        "colab": {}
      },
      "source": [
        ""
      ],
      "execution_count": null,
      "outputs": []
    },
    {
      "cell_type": "code",
      "metadata": {
        "id": "bcmwjcfYrM1H",
        "colab_type": "code",
        "colab": {}
      },
      "source": [
        ""
      ],
      "execution_count": null,
      "outputs": []
    },
    {
      "cell_type": "code",
      "metadata": {
        "id": "Xz2jgmochkcT",
        "colab_type": "code",
        "colab": {}
      },
      "source": [
        "tf.keras.backend.clear_session()"
      ],
      "execution_count": 11,
      "outputs": []
    },
    {
      "cell_type": "code",
      "metadata": {
        "id": "9VQiDL3lBTV0",
        "colab_type": "code",
        "colab": {}
      },
      "source": [
        "del history"
      ],
      "execution_count": 12,
      "outputs": []
    },
    {
      "cell_type": "code",
      "metadata": {
        "id": "ZeecGR2lAf31",
        "colab_type": "code",
        "colab": {}
      },
      "source": [
        ""
      ],
      "execution_count": null,
      "outputs": []
    }
  ]
}