{
  "nbformat": 4,
  "nbformat_minor": 0,
  "metadata": {
    "colab": {
      "name": "ImageModel.ipynb",
      "provenance": [],
      "authorship_tag": "ABX9TyNQA4kl0AckxuJYwMGdXzpl",
      "include_colab_link": true
    },
    "kernelspec": {
      "name": "python3",
      "display_name": "Python 3"
    },
    "accelerator": "GPU"
  },
  "cells": [
    {
      "cell_type": "markdown",
      "metadata": {
        "id": "view-in-github",
        "colab_type": "text"
      },
      "source": [
        "<a href=\"https://colab.research.google.com/github/Ayuniarfina/Final-Project-Bangkit---JKT4-B/blob/Deni-branch/ImageModel.ipynb\" target=\"_parent\"><img src=\"https://colab.research.google.com/assets/colab-badge.svg\" alt=\"Open In Colab\"/></a>"
      ]
    },
    {
      "cell_type": "code",
      "metadata": {
        "id": "_JqLh1M2v6wo",
        "colab_type": "code",
        "colab": {}
      },
      "source": [
        "import zipfile\n",
        "import tensorflow as tf"
      ],
      "execution_count": 1,
      "outputs": []
    },
    {
      "cell_type": "code",
      "metadata": {
        "id": "HYz5_R_x_wu-",
        "colab_type": "code",
        "colab": {
          "base_uri": "https://localhost:8080/",
          "height": 118
        },
        "outputId": "2bd4c5a3-49c3-4c87-f928-ec72f83442d7"
      },
      "source": [
        "from google.colab import drive\n",
        "drive.mount('/content/gdrive')"
      ],
      "execution_count": 2,
      "outputs": [
        {
          "output_type": "stream",
          "text": [
            "Go to this URL in a browser: https://accounts.google.com/o/oauth2/auth?client_id=947318989803-6bn6qk8qdgf4n4g3pfee6491hc0brc4i.apps.googleusercontent.com&redirect_uri=urn%3aietf%3awg%3aoauth%3a2.0%3aoob&response_type=code&scope=email%20https%3a%2f%2fwww.googleapis.com%2fauth%2fdocs.test%20https%3a%2f%2fwww.googleapis.com%2fauth%2fdrive%20https%3a%2f%2fwww.googleapis.com%2fauth%2fdrive.photos.readonly%20https%3a%2f%2fwww.googleapis.com%2fauth%2fpeopleapi.readonly\n",
            "\n",
            "Enter your authorization code:\n",
            "··········\n",
            "Mounted at /content/gdrive\n"
          ],
          "name": "stdout"
        }
      ]
    },
    {
      "cell_type": "code",
      "metadata": {
        "id": "mdHeU600vOod",
        "colab_type": "code",
        "colab": {}
      },
      "source": [
        "zipref = zipfile.ZipFile('/content/gdrive/My Drive/Data Colab/faceexp.zip')\n",
        "zipref.extractall('/tmp/dataset')"
      ],
      "execution_count": 3,
      "outputs": []
    },
    {
      "cell_type": "code",
      "metadata": {
        "id": "CytLZ-K0vqRe",
        "colab_type": "code",
        "colab": {
          "base_uri": "https://localhost:8080/",
          "height": 50
        },
        "outputId": "47fb4e0c-729f-4fe6-e903-d7d912aaf545"
      },
      "source": [
        "traindir = '/tmp/dataset/images/images/train'\n",
        "valdir = '/tmp/dataset/images/images/validation'\n",
        "\n",
        "traindatagen = tf.keras.preprocessing.image.ImageDataGenerator(\n",
        "      rescale=1/255.0,\n",
        "      #rotation_range=40,\n",
        "      #width_shift_range=0.2,\n",
        "      #height_shift_range=0.2,\n",
        "      horizontal_flip=True\n",
        "      #fill_mode='nearest' \n",
        "    )\n",
        "\n",
        "#traindatagen = tf.keras.preprocessing.image.ImageDataGenerator(rescale=1/255.0, validation_split=0.2)\n",
        "\n",
        "traingenerator = traindatagen.flow_from_directory(\n",
        "    traindir,\n",
        "    target_size=(150,150),\n",
        "    batch_size=32,\n",
        "    class_mode='categorical',\n",
        "    subset='training'\n",
        ")\n",
        "\n",
        "\n",
        "valdatagen = tf.keras.preprocessing.image.ImageDataGenerator(rescale=1/255.0)\n",
        "\n",
        "valgenerator = valdatagen.flow_from_directory(\n",
        "    valdir,\n",
        "    target_size=(150,150),\n",
        "    batch_size=32,\n",
        "    class_mode='categorical'\n",
        ")\n",
        "\n",
        "# Kalau split dari dataset\n",
        "#valgenerator = traindatagen.flow_from_directory(\n",
        "#    traindir,\n",
        "#    target_size=(150,150),\n",
        "#    batch_size=32,\n",
        "#    class_mode='categorical',\n",
        "#    subset='validation'\n",
        "#)"
      ],
      "execution_count": 12,
      "outputs": [
        {
          "output_type": "stream",
          "text": [
            "Found 23060 images belonging to 7 classes.\n",
            "Found 5761 images belonging to 7 classes.\n"
          ],
          "name": "stdout"
        }
      ]
    },
    {
      "cell_type": "code",
      "metadata": {
        "id": "bwR1qe6FwW3L",
        "colab_type": "code",
        "colab": {}
      },
      "source": [
        "# Model 1\n",
        "model = tf.keras.models.Sequential([\n",
        "  tf.keras.layers.Conv2D(32,(3,3),activation='relu',input_shape=(150,150,3)),\n",
        "  tf.keras.layers.Conv2D(64,(3,3),activation='relu'),\n",
        "  tf.keras.layers.MaxPooling2D(2,2),\n",
        "  tf.keras.layers.BatchNormalization(),\n",
        "  tf.keras.layers.Dropout(0.2),\n",
        "\n",
        "  tf.keras.layers.Conv2D(32,(3,3),activation='relu'),\n",
        "  tf.keras.layers.Conv2D(64,(3,3),activation='relu'),\n",
        "  tf.keras.layers.MaxPooling2D(2,2),    \n",
        "  tf.keras.layers.BatchNormalization(),\n",
        "  tf.keras.layers.Dropout(0.2),\n",
        "\n",
        "  tf.keras.layers.Conv2D(32,(3,3),activation='relu'),\n",
        "  tf.keras.layers.Conv2D(64,(3,3),activation='relu'),\n",
        "  tf.keras.layers.MaxPooling2D(2,2),    \n",
        "  tf.keras.layers.BatchNormalization(),\n",
        "  tf.keras.layers.Dropout(0.2),\n",
        "\n",
        "  tf.keras.layers.Conv2D(32,(3,3),activation='relu'),\n",
        "  tf.keras.layers.Conv2D(64,(3,3),activation='relu'),\n",
        "  tf.keras.layers.MaxPooling2D(2,2),         \n",
        "  tf.keras.layers.BatchNormalization(),\n",
        "  tf.keras.layers.Dropout(0.2),\n",
        "  \n",
        "  tf.keras.layers.Flatten(),\n",
        "  tf.keras.layers.Dense(32, activation='relu'),\n",
        "  tf.keras.layers.Dropout(0.2),\n",
        "  tf.keras.layers.Dense(7, activation='softmax')\n",
        "])\n",
        "\n",
        "#model.summary()"
      ],
      "execution_count": 15,
      "outputs": []
    },
    {
      "cell_type": "code",
      "metadata": {
        "id": "CJXqBjIBxWxm",
        "colab_type": "code",
        "colab": {}
      },
      "source": [
        "model.compile(loss='categorical_crossentropy', optimizer='adam', metrics=['acc'])"
      ],
      "execution_count": 16,
      "outputs": []
    },
    {
      "cell_type": "code",
      "metadata": {
        "id": "OE_5dFFWxVqx",
        "colab_type": "code",
        "colab": {
          "base_uri": "https://localhost:8080/",
          "height": 342
        },
        "outputId": "fdb1a2ad-fca5-4b33-fda2-daa65d826536"
      },
      "source": [
        "history = model.fit_generator(traingenerator, epochs=10, validation_data=valgenerator)"
      ],
      "execution_count": 17,
      "outputs": [
        {
          "output_type": "stream",
          "text": [
            "Epoch 1/10\n",
            "721/721 [==============================] - 70s 97ms/step - loss: 1.8254 - acc: 0.2822 - val_loss: 2.0106 - val_acc: 0.2579\n",
            "Epoch 2/10\n",
            "721/721 [==============================] - 69s 95ms/step - loss: 1.5505 - acc: 0.3947 - val_loss: 1.4626 - val_acc: 0.4317\n",
            "Epoch 3/10\n",
            "721/721 [==============================] - 69s 96ms/step - loss: 1.4134 - acc: 0.4545 - val_loss: 1.3886 - val_acc: 0.4557\n",
            "Epoch 4/10\n",
            "721/721 [==============================] - 69s 95ms/step - loss: 1.3322 - acc: 0.4908 - val_loss: 1.3565 - val_acc: 0.4742\n",
            "Epoch 5/10\n",
            "721/721 [==============================] - 69s 95ms/step - loss: 1.2583 - acc: 0.5172 - val_loss: 1.3730 - val_acc: 0.4678\n",
            "Epoch 6/10\n",
            "721/721 [==============================] - 69s 95ms/step - loss: 1.2125 - acc: 0.5374 - val_loss: 1.2206 - val_acc: 0.5324\n",
            "Epoch 7/10\n",
            "721/721 [==============================] - 68s 95ms/step - loss: 1.1681 - acc: 0.5556 - val_loss: 1.2482 - val_acc: 0.5187\n",
            "Epoch 8/10\n",
            "721/721 [==============================] - 69s 95ms/step - loss: 1.1419 - acc: 0.5661 - val_loss: 1.2588 - val_acc: 0.5228\n",
            "Epoch 9/10\n",
            "721/721 [==============================] - 69s 95ms/step - loss: 1.1099 - acc: 0.5764 - val_loss: 1.1814 - val_acc: 0.5591\n",
            "Epoch 10/10\n",
            "721/721 [==============================] - 69s 95ms/step - loss: 1.0801 - acc: 0.5897 - val_loss: 1.1779 - val_acc: 0.5548\n"
          ],
          "name": "stdout"
        }
      ]
    },
    {
      "cell_type": "code",
      "metadata": {
        "id": "kCKfz9Y7y2NJ",
        "colab_type": "code",
        "colab": {
          "base_uri": "https://localhost:8080/",
          "height": 545
        },
        "outputId": "d4b89b1a-7383-4f31-c1ad-bfbf6af6c5f0"
      },
      "source": [
        "import matplotlib.pyplot as plt\n",
        "acc = history.history['acc']\n",
        "val_acc = history.history['val_acc']\n",
        "loss = history.history['loss']\n",
        "val_loss = history.history['val_loss']\n",
        "\n",
        "epochs = range(len(acc))\n",
        "\n",
        "plt.plot(epochs, acc, 'bo', label='Training accuracy')\n",
        "plt.plot(epochs, val_acc, 'b', label='Validation accuracy')\n",
        "plt.title('Training and validation accuracy')\n",
        "\n",
        "plt.figure()\n",
        "\n",
        "plt.plot(epochs, loss, 'bo', label='Training Loss')\n",
        "plt.plot(epochs, val_loss, 'b', label='Validation Loss')\n",
        "plt.title('Training and validation loss')\n",
        "plt.legend()\n",
        "\n",
        "plt.show()"
      ],
      "execution_count": 18,
      "outputs": [
        {
          "output_type": "display_data",
          "data": {
            "image/png": "[encoded data removed]",
            "text/plain": [
              "<Figure size 432x288 with 1 Axes>"
            ]
          },
          "metadata": {
            "tags": [],
            "needs_background": "light"
          }
        },
        {
          "output_type": "display_data",
          "data": {
            "image/png": "[encoded data removed]",
            "text/plain": [
              "<Figure size 432x288 with 1 Axes>"
            ]
          },
          "metadata": {
            "tags": [],
            "needs_background": "light"
          }
        }
      ]
    },
    {
      "cell_type": "code",
      "metadata": {
        "id": "BxYi9PlQ4wsU",
        "colab_type": "code",
        "colab": {}
      },
      "source": [
        "#del history\n",
        "#tf.keras.backend.clear_session()"
      ],
      "execution_count": 13,
      "outputs": []
    },
    {
      "cell_type": "code",
      "metadata": {
        "id": "FBBETMvp8P7d",
        "colab_type": "code",
        "colab": {
          "resources": {
            "http://localhost:8080/nbextensions/google.colab/files.js": {
              "data": "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",
              "ok": true,
              "headers": [
                [
                  "content-type",
                  "application/javascript"
                ]
              ],
              "status": 200,
              "status_text": ""
            }
          },
          "base_uri": "https://localhost:8080/",
          "height": 996
        },
        "outputId": "b9496128-f308-4cbf-d2ba-ef7399d255f6"
      },
      "source": [
        "import numpy as np\n",
        "from google.colab import files\n",
        "from keras.preprocessing import image\n",
        "\n",
        "uploaded = files.upload()\n",
        "\n",
        "for fn in uploaded.keys():\n",
        " \n",
        "  # predicting images\n",
        "  path = fn\n",
        "  img = image.load_img(path, target_size=(150, 150))\n",
        "  x = image.img_to_array(img)\n",
        "  x = np.expand_dims(x, axis=0)\n",
        "\n",
        "  images = np.vstack([x])\n",
        "  classes = model.predict(images, batch_size=10)\n",
        "  print(fn)\n",
        "  print(classes)"
      ],
      "execution_count": 19,
      "outputs": [
        {
          "output_type": "stream",
          "text": [
            "Using TensorFlow backend.\n"
          ],
          "name": "stderr"
        },
        {
          "output_type": "display_data",
          "data": {
            "text/html": [
              "\n",
              "     <input type=\"file\" id=\"files-d41649b0-af39-47ae-b3c4-90ce9e710799\" name=\"files[]\" multiple disabled\n",
              "        style=\"border:none\" />\n",
              "     <output id=\"result-d41649b0-af39-47ae-b3c4-90ce9e710799\">\n",
              "      Upload widget is only available when the cell has been executed in the\n",
              "      current browser session. Please rerun this cell to enable.\n",
              "      </output>\n",
              "      <script src=\"/nbextensions/google.colab/files.js\"></script> "
            ],
            "text/plain": [
              "<IPython.core.display.HTML object>"
            ]
          },
          "metadata": {
            "tags": []
          }
        },
        {
          "output_type": "stream",
          "text": [
            "Saving angry4.jpg to angry4.jpg\n",
            "Saving sad6.jpg to sad6.jpg\n",
            "Saving sad5.jpg to sad5.jpg\n",
            "Saving sad4.jpg to sad4.jpg\n",
            "Saving sad3.jpg to sad3.jpg\n",
            "Saving sad2.jpg to sad2.jpg\n",
            "Saving sad1.jpg to sad1.jpg\n",
            "Saving angry3.jpg to angry3.jpg\n",
            "Saving angry2.jpg to angry2.jpg\n",
            "Saving smile.jpg to smile.jpg\n",
            "Saving smile2.jpg to smile2.jpg\n",
            "Saving smile3.jpg to smile3.jpg\n",
            "Saving angry.jpg to angry.jpg\n",
            "angry4.jpg\n",
            "[[1. 0. 0. 0. 0. 0. 0.]]\n",
            "sad6.jpg\n",
            "[[1.0000000e+00 0.0000000e+00 0.0000000e+00 2.4231363e-16 0.0000000e+00\n",
            "  0.0000000e+00 0.0000000e+00]]\n",
            "sad5.jpg\n",
            "[[0. 0. 0. 1. 0. 0. 0.]]\n",
            "sad4.jpg\n",
            "[[7.0114184e-23 0.0000000e+00 1.0000000e+00 0.0000000e+00 0.0000000e+00\n",
            "  0.0000000e+00 8.0028899e-09]]\n",
            "sad3.jpg\n",
            "[[0. 0. 0. 1. 0. 0. 0.]]\n",
            "sad2.jpg\n",
            "[[0.0000000e+00 0.0000000e+00 0.0000000e+00 0.0000000e+00 6.2990296e-10\n",
            "  0.0000000e+00 1.0000000e+00]]\n",
            "sad1.jpg\n",
            "[[1.0000000e+00 0.0000000e+00 0.0000000e+00 1.7772367e-19 0.0000000e+00\n",
            "  0.0000000e+00 0.0000000e+00]]\n",
            "angry3.jpg\n",
            "[[1. 0. 0. 0. 0. 0. 0.]]\n",
            "angry2.jpg\n",
            "[[9.9919730e-01 0.0000000e+00 0.0000000e+00 8.0276304e-04 0.0000000e+00\n",
            "  0.0000000e+00 0.0000000e+00]]\n",
            "smile.jpg\n",
            "[[0. 0. 0. 1. 0. 0. 0.]]\n",
            "smile2.jpg\n",
            "[[0. 0. 0. 1. 0. 0. 0.]]\n",
            "smile3.jpg\n",
            "[[0. 0. 0. 1. 0. 0. 0.]]\n",
            "angry.jpg\n",
            "[[4.596593e-05 0.000000e+00 0.000000e+00 9.999540e-01 0.000000e+00\n",
            "  0.000000e+00 0.000000e+00]]\n"
          ],
          "name": "stdout"
        }
      ]
    },
    {
      "cell_type": "code",
      "metadata": {
        "id": "RY8lJdeD8Q-E",
        "colab_type": "code",
        "colab": {
          "base_uri": "https://localhost:8080/",
          "height": 50
        },
        "outputId": "3869ad10-270d-4b74-925b-a351cf492022"
      },
      "source": [
        "traindir = '/tmp/dataset/images/images/train'\n",
        "valdir = '/tmp/dataset/images/images/validation'\n",
        "\n",
        "traindatagen = tf.keras.preprocessing.image.ImageDataGenerator(\n",
        "      rescale=1/255.0,\n",
        "      #rotation_range=40,\n",
        "      #width_shift_range=0.2,\n",
        "      #height_shift_range=0.2,\n",
        "      horizontal_flip=True\n",
        "      #fill_mode='nearest' \n",
        "      )\n",
        "\n",
        "traingenerator = traindatagen.flow_from_directory(\n",
        "    traindir,\n",
        "    target_size=(150,150),\n",
        "    batch_size=32,\n",
        "    class_mode='categorical'\n",
        ")\n",
        "\n",
        "\n",
        "valdatagen = tf.keras.preprocessing.image.ImageDataGenerator(\n",
        "      rescale=1/255.0\n",
        ")\n",
        "\n",
        "valgenerator = valdatagen.flow_from_directory(\n",
        "    valdir,\n",
        "    target_size=(150,150),\n",
        "    batch_size=32,\n",
        "    class_mode='categorical'\n",
        ")"
      ],
      "execution_count": null,
      "outputs": [
        {
          "output_type": "stream",
          "text": [
            "Found 28821 images belonging to 7 classes.\n",
            "Found 7066 images belonging to 7 classes.\n"
          ],
          "name": "stdout"
        }
      ]
    },
    {
      "cell_type": "code",
      "metadata": {
        "id": "aDLtpXcWz0sR",
        "colab_type": "code",
        "colab": {}
      },
      "source": [
        "pre_trained_model = tf.keras.applications.inception_v3.InceptionV3(\n",
        "    include_top= False,\n",
        "    weights= 'imagenet',\n",
        "    input_shape= (150,150,3)\n",
        ")\n",
        "\n",
        "for layer in pre_trained_model.layers:\n",
        "  layer.trainable = False\n",
        "\n",
        "#pre_trained_model.summary()\n",
        "\n",
        "last_layer = pre_trained_model.get_layer('mixed7')\n",
        "last_output = last_layer.output\n",
        "\n",
        "x = tf.keras.layers.Flatten()(last_output)\n",
        "x= tf.keras.layers.Dense(256, activation='relu')(x)\n",
        "x= tf.keras.layers.Dropout(0.2)(x)\n",
        "x= tf.keras.layers.Dense( 7, activation='softmax')(x)\n",
        "\n",
        "model = tf.keras.Model(pre_trained_model.input,x)"
      ],
      "execution_count": null,
      "outputs": []
    },
    {
      "cell_type": "code",
      "metadata": {
        "id": "Xi1k-fVj12LP",
        "colab_type": "code",
        "colab": {
          "base_uri": "https://localhost:8080/",
          "height": 505
        },
        "outputId": "dea13b34-1a94-4171-a331-514b5f8e4fe8"
      },
      "source": [
        "model.compile(optimizer='adam', loss='categorical_crossentropy', metrics=['acc'])\n",
        "history = model.fit_generator(traingenerator, epochs=15, validation_data=valgenerator)"
      ],
      "execution_count": null,
      "outputs": [
        {
          "output_type": "stream",
          "text": [
            "Epoch 1/15\n",
            "901/901 [==============================] - 30s 34ms/step - loss: 1.3911 - acc: 0.4782 - val_loss: 1.1937 - val_acc: 0.5478\n",
            "Epoch 2/15\n",
            "901/901 [==============================] - 30s 33ms/step - loss: 1.1922 - acc: 0.5489 - val_loss: 1.1805 - val_acc: 0.5616\n",
            "Epoch 3/15\n",
            "901/901 [==============================] - 30s 33ms/step - loss: 1.1016 - acc: 0.5846 - val_loss: 1.1384 - val_acc: 0.5791\n",
            "Epoch 4/15\n",
            "901/901 [==============================] - 30s 33ms/step - loss: 1.0248 - acc: 0.6117 - val_loss: 1.1486 - val_acc: 0.5715\n",
            "Epoch 5/15\n",
            "901/901 [==============================] - 30s 33ms/step - loss: 0.9795 - acc: 0.6306 - val_loss: 1.1262 - val_acc: 0.5906\n",
            "Epoch 6/15\n",
            "901/901 [==============================] - 29s 33ms/step - loss: 0.9132 - acc: 0.6567 - val_loss: 1.1415 - val_acc: 0.5917\n",
            "Epoch 7/15\n",
            "901/901 [==============================] - 29s 33ms/step - loss: 0.8574 - acc: 0.6729 - val_loss: 1.1849 - val_acc: 0.5759\n",
            "Epoch 8/15\n",
            "901/901 [==============================] - 30s 33ms/step - loss: 0.8208 - acc: 0.6881 - val_loss: 1.1928 - val_acc: 0.5981\n",
            "Epoch 9/15\n",
            "901/901 [==============================] - 30s 33ms/step - loss: 0.7627 - acc: 0.7132 - val_loss: 1.1882 - val_acc: 0.5969\n",
            "Epoch 10/15\n",
            "901/901 [==============================] - 30s 33ms/step - loss: 0.7331 - acc: 0.7219 - val_loss: 1.1779 - val_acc: 0.5991\n",
            "Epoch 11/15\n",
            "901/901 [==============================] - 30s 33ms/step - loss: 0.6961 - acc: 0.7376 - val_loss: 1.2329 - val_acc: 0.5974\n",
            "Epoch 12/15\n",
            "901/901 [==============================] - 30s 33ms/step - loss: 0.6645 - acc: 0.7493 - val_loss: 1.2244 - val_acc: 0.6063\n",
            "Epoch 13/15\n",
            "901/901 [==============================] - 30s 33ms/step - loss: 0.6358 - acc: 0.7577 - val_loss: 1.2806 - val_acc: 0.5988\n",
            "Epoch 14/15\n",
            "901/901 [==============================] - 30s 33ms/step - loss: 0.5938 - acc: 0.7739 - val_loss: 1.3145 - val_acc: 0.5977\n",
            "Epoch 15/15\n",
            "901/901 [==============================] - 30s 33ms/step - loss: 0.5735 - acc: 0.7800 - val_loss: 1.3365 - val_acc: 0.5788\n"
          ],
          "name": "stdout"
        }
      ]
    },
    {
      "cell_type": "code",
      "metadata": {
        "id": "rPEzrh1M3JDQ",
        "colab_type": "code",
        "colab": {
          "base_uri": "https://localhost:8080/",
          "height": 545
        },
        "outputId": "c7cd0671-59af-46f9-a22d-bcecb3d4c1b6"
      },
      "source": [
        "import matplotlib.pyplot as plt\n",
        "acc = history.history['acc']\n",
        "val_acc = history.history['val_acc']\n",
        "loss = history.history['loss']\n",
        "val_loss = history.history['val_loss']\n",
        "\n",
        "epochs = range(len(acc))\n",
        "\n",
        "plt.plot(epochs, acc, 'bo', label='Training accuracy')\n",
        "plt.plot(epochs, val_acc, 'b', label='Validation accuracy')\n",
        "plt.title('Training and validation accuracy')\n",
        "\n",
        "plt.figure()\n",
        "\n",
        "plt.plot(epochs, loss, 'bo', label='Training Loss')\n",
        "plt.plot(epochs, val_loss, 'b', label='Validation Loss')\n",
        "plt.title('Training and validation loss')\n",
        "plt.legend()\n",
        "\n",
        "plt.show()"
      ],
      "execution_count": null,
      "outputs": [
        {
          "output_type": "display_data",
          "data": {
            "image/png": "[encoded data removed]",
            "text/plain": [
              "<Figure size 432x288 with 1 Axes>"
            ]
          },
          "metadata": {
            "tags": [],
            "needs_background": "light"
          }
        },
        {
          "output_type": "display_data",
          "data": {
            "image/png": "[encoded data removed]",
            "text/plain": [
              "<Figure size 432x288 with 1 Axes>"
            ]
          },
          "metadata": {
            "tags": [],
            "needs_background": "light"
          }
        }
      ]
    },
    {
      "cell_type": "code",
      "metadata": {
        "id": "EbwKX7YSHnHe",
        "colab_type": "code",
        "colab": {
          "base_uri": "https://localhost:8080/",
          "height": 33
        },
        "outputId": "d45cf8dd-f649-4490-8a89-3adf6ab8900a"
      },
      "source": [
        "# Fine Tuning\n",
        "for layer in pre_trained_model.layers:\n",
        "  layer.trainable = True\n",
        "\n",
        "print('Number of layers: ', len(pre_trained_model.layers))"
      ],
      "execution_count": null,
      "outputs": [
        {
          "output_type": "stream",
          "text": [
            "Number of layers:  311\n"
          ],
          "name": "stdout"
        }
      ]
    },
    {
      "cell_type": "code",
      "metadata": {
        "id": "0v-NZebhNP5s",
        "colab_type": "code",
        "colab": {}
      },
      "source": [
        "fine_tune_at = 200\n",
        "\n",
        "for layer in pre_trained_model.layers[:fine_tune_at]:\n",
        "  layer.trainable = False"
      ],
      "execution_count": null,
      "outputs": []
    },
    {
      "cell_type": "code",
      "metadata": {
        "id": "51mo0gNCNfIj",
        "colab_type": "code",
        "colab": {
          "base_uri": "https://localhost:8080/",
          "height": 212
        },
        "outputId": "b156ac7f-6973-4821-94a6-38190ed49f85"
      },
      "source": [
        "model.compile(optimizer=tf.keras.optimizers.RMSprop(lr=0.0001), loss='categorical_crossentropy', metrics=['acc'])\n",
        "history_fine = model.fit_generator(traingenerator, epochs=20,initial_epoch= history.epoch[-1], validation_data=valgenerator)"
      ],
      "execution_count": null,
      "outputs": [
        {
          "output_type": "stream",
          "text": [
            "Epoch 15/20\n",
            "901/901 [==============================] - 34s 38ms/step - loss: 0.7944 - acc: 0.7057 - val_loss: 1.4485 - val_acc: 0.6023\n",
            "Epoch 16/20\n",
            "901/901 [==============================] - 33s 37ms/step - loss: 0.6343 - acc: 0.7625 - val_loss: 1.4624 - val_acc: 0.6076\n",
            "Epoch 17/20\n",
            "901/901 [==============================] - 33s 37ms/step - loss: 0.5573 - acc: 0.7913 - val_loss: 1.5457 - val_acc: 0.6084\n",
            "Epoch 18/20\n",
            "901/901 [==============================] - 33s 37ms/step - loss: 0.5091 - acc: 0.8093 - val_loss: 1.4892 - val_acc: 0.6136\n",
            "Epoch 19/20\n",
            "901/901 [==============================] - 33s 37ms/step - loss: 0.4666 - acc: 0.8249 - val_loss: 1.6625 - val_acc: 0.6162\n",
            "Epoch 20/20\n",
            "901/901 [==============================] - 33s 37ms/step - loss: 0.4301 - acc: 0.8395 - val_loss: 1.6093 - val_acc: 0.6125\n"
          ],
          "name": "stdout"
        }
      ]
    },
    {
      "cell_type": "code",
      "metadata": {
        "id": "y8UH1NabOMTV",
        "colab_type": "code",
        "colab": {
          "base_uri": "https://localhost:8080/",
          "height": 545
        },
        "outputId": "dfba8f20-a1d0-42a5-f6f7-3bdc7cc68524"
      },
      "source": [
        "import matplotlib.pyplot as plt\n",
        "acc = history_fine.history['acc']\n",
        "val_acc = history_fine.history['val_acc']\n",
        "loss = history_fine.history['loss']\n",
        "val_loss = history_fine.history['val_loss']\n",
        "\n",
        "epochs = range(len(acc))\n",
        "\n",
        "plt.plot(epochs, acc, 'bo', label='Training accuracy')\n",
        "plt.plot(epochs, val_acc, 'b', label='Validation accuracy')\n",
        "plt.title('Training and validation accuracy')\n",
        "\n",
        "plt.figure()\n",
        "\n",
        "plt.plot(epochs, loss, 'bo', label='Training Loss')\n",
        "plt.plot(epochs, val_loss, 'b', label='Validation Loss')\n",
        "plt.title('Training and validation loss')\n",
        "plt.legend()\n",
        "\n",
        "plt.show()"
      ],
      "execution_count": null,
      "outputs": [
        {
          "output_type": "display_data",
          "data": {
            "image/png": "[encoded data removed]",
            "text/plain": [
              "<Figure size 432x288 with 1 Axes>"
            ]
          },
          "metadata": {
            "tags": [],
            "needs_background": "light"
          }
        },
        {
          "output_type": "display_data",
          "data": {
            "image/png": "[encoded data removed]",
            "text/plain": [
              "<Figure size 432x288 with 1 Axes>"
            ]
          },
          "metadata": {
            "tags": [],
            "needs_background": "light"
          }
        }
      ]
    },
    {
      "cell_type": "code",
      "metadata": {
        "id": "cvZt2OfDOMco",
        "colab_type": "code",
        "colab": {}
      },
      "source": [
        "del history\n",
        "del history_fine"
      ],
      "execution_count": null,
      "outputs": []
    },
    {
      "cell_type": "code",
      "metadata": {
        "id": "PzSbns2TOMnA",
        "colab_type": "code",
        "colab": {}
      },
      "source": [
        ""
      ],
      "execution_count": null,
      "outputs": []
    },
    {
      "cell_type": "code",
      "metadata": {
        "id": "6Dz939oROMXZ",
        "colab_type": "code",
        "colab": {}
      },
      "source": [
        ""
      ],
      "execution_count": null,
      "outputs": []
    },
    {
      "cell_type": "code",
      "metadata": {
        "id": "KBwzkbnQHnK4",
        "colab_type": "code",
        "colab": {
          "base_uri": "https://localhost:8080/",
          "height": 50
        },
        "outputId": "8351fb17-0bcf-4b17-ffd0-4a9767c142fe"
      },
      "source": [
        "# VGG19\n",
        "\n",
        "traindir = '/tmp/dataset/images/images/train'\n",
        "valdir = '/tmp/dataset/images/images/validation'\n",
        "\n",
        "traindatagen = tf.keras.preprocessing.image.ImageDataGenerator(\n",
        "      rescale=1/255.0,\n",
        "      #rotation_range=40,\n",
        "      #width_shift_range=0.2,\n",
        "      #height_shift_range=0.2,\n",
        "      horizontal_flip=True\n",
        "      #fill_mode='nearest' \n",
        "      )\n",
        "\n",
        "traingenerator = traindatagen.flow_from_directory(\n",
        "    traindir,\n",
        "    target_size=(150,150),\n",
        "    batch_size=32,\n",
        "    class_mode='categorical'\n",
        ")\n",
        "\n",
        "\n",
        "valdatagen = tf.keras.preprocessing.image.ImageDataGenerator(\n",
        "      rescale=1/255.0\n",
        ")\n",
        "\n",
        "valgenerator = valdatagen.flow_from_directory(\n",
        "    valdir,\n",
        "    target_size=(150,150),\n",
        "    batch_size=32,\n",
        "    class_mode='categorical'\n",
        ")"
      ],
      "execution_count": null,
      "outputs": [
        {
          "output_type": "stream",
          "text": [
            "Found 28821 images belonging to 7 classes.\n",
            "Found 7066 images belonging to 7 classes.\n"
          ],
          "name": "stdout"
        }
      ]
    },
    {
      "cell_type": "code",
      "metadata": {
        "id": "SW-qRppX8qAX",
        "colab_type": "code",
        "colab": {}
      },
      "source": [
        "pre_trained_model = tf.keras.applications.VGG19(\n",
        "    include_top= False,\n",
        "    weights= 'imagenet',\n",
        "    input_shape= (150,150,3)\n",
        ")\n",
        "\n",
        "for layer in pre_trained_model.layers:\n",
        "  layer.trainable = False\n",
        "\n",
        "#pre_trained_model.summary()\n",
        "\n",
        "last_layer = pre_trained_model.get_layer('block5_pool')\n",
        "last_output = last_layer.output\n",
        "\n",
        "x = tf.keras.layers.Flatten()(last_output)\n",
        "x= tf.keras.layers.Dense(256, activation='relu')(x)\n",
        "x= tf.keras.layers.Dropout(0.2)(x)\n",
        "x= tf.keras.layers.Dense( 7, activation='softmax')(x)\n",
        "\n",
        "model = tf.keras.Model(pre_trained_model.input,x)"
      ],
      "execution_count": null,
      "outputs": []
    },
    {
      "cell_type": "code",
      "metadata": {
        "id": "uXF5PQLNV-aC",
        "colab_type": "code",
        "colab": {
          "base_uri": "https://localhost:8080/",
          "height": 342
        },
        "outputId": "b8f92729-1250-4533-a7c1-1d76624422c8"
      },
      "source": [
        "model.compile(optimizer='adam', loss='categorical_crossentropy', metrics=['acc'])\n",
        "history = model.fit_generator(traingenerator, epochs=10, validation_data=valgenerator)"
      ],
      "execution_count": null,
      "outputs": [
        {
          "output_type": "stream",
          "text": [
            "Epoch 1/10\n",
            "901/901 [==============================] - 57s 63ms/step - loss: 1.5861 - acc: 0.3858 - val_loss: 1.4324 - val_acc: 0.4509\n",
            "Epoch 2/10\n",
            "901/901 [==============================] - 56s 62ms/step - loss: 1.4566 - acc: 0.4386 - val_loss: 1.5128 - val_acc: 0.4063\n",
            "Epoch 3/10\n",
            "901/901 [==============================] - 56s 62ms/step - loss: 1.3983 - acc: 0.4659 - val_loss: 1.3135 - val_acc: 0.4993\n",
            "Epoch 4/10\n",
            "901/901 [==============================] - 56s 63ms/step - loss: 1.3743 - acc: 0.4721 - val_loss: 1.3164 - val_acc: 0.5031\n",
            "Epoch 5/10\n",
            "901/901 [==============================] - 56s 63ms/step - loss: 1.3387 - acc: 0.4885 - val_loss: 1.2714 - val_acc: 0.5119\n",
            "Epoch 6/10\n",
            "901/901 [==============================] - 56s 62ms/step - loss: 1.3268 - acc: 0.4909 - val_loss: 1.2975 - val_acc: 0.5144\n",
            "Epoch 7/10\n",
            "901/901 [==============================] - 56s 62ms/step - loss: 1.3163 - acc: 0.4939 - val_loss: 1.3110 - val_acc: 0.5000\n",
            "Epoch 8/10\n",
            "901/901 [==============================] - 56s 62ms/step - loss: 1.3003 - acc: 0.4981 - val_loss: 1.3165 - val_acc: 0.5113\n",
            "Epoch 9/10\n",
            "901/901 [==============================] - 56s 62ms/step - loss: 1.2838 - acc: 0.5080 - val_loss: 1.3016 - val_acc: 0.5061\n",
            "Epoch 10/10\n",
            "901/901 [==============================] - 56s 62ms/step - loss: 1.2715 - acc: 0.5115 - val_loss: 1.2820 - val_acc: 0.5113\n"
          ],
          "name": "stdout"
        }
      ]
    },
    {
      "cell_type": "code",
      "metadata": {
        "id": "wDX1czEiYt6-",
        "colab_type": "code",
        "colab": {
          "base_uri": "https://localhost:8080/",
          "height": 375
        },
        "outputId": "0387f139-8137-4edb-c109-105e67cd0d26"
      },
      "source": [
        "model.compile(optimizer='adam', loss='categorical_crossentropy', metrics=['acc'])\n",
        "history = model.fit_generator(traingenerator, epochs=20,initial_epoch= history.epoch[-1], validation_data=valgenerator)"
      ],
      "execution_count": null,
      "outputs": [
        {
          "output_type": "stream",
          "text": [
            "Epoch 10/20\n",
            "901/901 [==============================] - 56s 62ms/step - loss: 1.2565 - acc: 0.5141 - val_loss: 1.2665 - val_acc: 0.5229\n",
            "Epoch 11/20\n",
            "901/901 [==============================] - 56s 62ms/step - loss: 1.2370 - acc: 0.5200 - val_loss: 1.2896 - val_acc: 0.5074\n",
            "Epoch 12/20\n",
            "901/901 [==============================] - 56s 62ms/step - loss: 1.2275 - acc: 0.5238 - val_loss: 1.2596 - val_acc: 0.5204\n",
            "Epoch 13/20\n",
            "901/901 [==============================] - 56s 62ms/step - loss: 1.2175 - acc: 0.5301 - val_loss: 1.2786 - val_acc: 0.5156\n",
            "Epoch 14/20\n",
            "901/901 [==============================] - 56s 62ms/step - loss: 1.2082 - acc: 0.5304 - val_loss: 1.2968 - val_acc: 0.5013\n",
            "Epoch 15/20\n",
            "901/901 [==============================] - 56s 62ms/step - loss: 1.1983 - acc: 0.5353 - val_loss: 1.2601 - val_acc: 0.5113\n",
            "Epoch 16/20\n",
            "901/901 [==============================] - 56s 62ms/step - loss: 1.1901 - acc: 0.5415 - val_loss: 1.2675 - val_acc: 0.5177\n",
            "Epoch 17/20\n",
            "901/901 [==============================] - 56s 62ms/step - loss: 1.1788 - acc: 0.5447 - val_loss: 1.2675 - val_acc: 0.5209\n",
            "Epoch 18/20\n",
            "901/901 [==============================] - 56s 62ms/step - loss: 1.1698 - acc: 0.5474 - val_loss: 1.2436 - val_acc: 0.5335\n",
            "Epoch 19/20\n",
            "901/901 [==============================] - 56s 62ms/step - loss: 1.1689 - acc: 0.5477 - val_loss: 1.3177 - val_acc: 0.5038\n",
            "Epoch 20/20\n",
            "901/901 [==============================] - 56s 62ms/step - loss: 1.1751 - acc: 0.5464 - val_loss: 1.2893 - val_acc: 0.5262\n"
          ],
          "name": "stdout"
        }
      ]
    },
    {
      "cell_type": "code",
      "metadata": {
        "id": "ueaRXiWGWaMd",
        "colab_type": "code",
        "colab": {
          "base_uri": "https://localhost:8080/",
          "height": 545
        },
        "outputId": "2c2ee3bd-21f6-469e-e3e3-a954acb81fa1"
      },
      "source": [
        "import matplotlib.pyplot as plt\n",
        "acc = history.history['acc']\n",
        "val_acc = history.history['val_acc']\n",
        "loss = history.history['loss']\n",
        "val_loss = history.history['val_loss']\n",
        "\n",
        "epochs = range(len(acc))\n",
        "\n",
        "plt.plot(epochs, acc, 'bo', label='Training accuracy')\n",
        "plt.plot(epochs, val_acc, 'b', label='Validation accuracy')\n",
        "plt.title('Training and validation accuracy')\n",
        "\n",
        "plt.figure()\n",
        "\n",
        "plt.plot(epochs, loss, 'bo', label='Training Loss')\n",
        "plt.plot(epochs, val_loss, 'b', label='Validation Loss')\n",
        "plt.title('Training and validation loss')\n",
        "plt.legend()\n",
        "\n",
        "plt.show()"
      ],
      "execution_count": null,
      "outputs": [
        {
          "output_type": "display_data",
          "data": {
            "image/png": "[encoded data removed]",
            "text/plain": [
              "<Figure size 432x288 with 1 Axes>"
            ]
          },
          "metadata": {
            "tags": [],
            "needs_background": "light"
          }
        },
        {
          "output_type": "display_data",
          "data": {
            "image/png": "[encoded data removed]",
            "text/plain": [
              "<Figure size 432x288 with 1 Axes>"
            ]
          },
          "metadata": {
            "tags": [],
            "needs_background": "light"
          }
        }
      ]
    },
    {
      "cell_type": "code",
      "metadata": {
        "id": "OUnHMAJZWaO6",
        "colab_type": "code",
        "colab": {}
      },
      "source": [
        "# Fine Tuning\n",
        "for layer in pre_trained_model.layers:\n",
        "  layer.trainable = True\n",
        "\n",
        "print('Number of layers: ', len(pre_trained_model.layers))"
      ],
      "execution_count": null,
      "outputs": []
    },
    {
      "cell_type": "code",
      "metadata": {
        "id": "sViieLG9Wtew",
        "colab_type": "code",
        "colab": {}
      },
      "source": [
        "fine_tune_at = 200\n",
        "\n",
        "for layer in pre_trained_model.layers[:fine_tune_at]:\n",
        "  layer.trainable = False"
      ],
      "execution_count": null,
      "outputs": []
    },
    {
      "cell_type": "code",
      "metadata": {
        "id": "sdeKhCmXY1i-",
        "colab_type": "code",
        "colab": {}
      },
      "source": [
        "model.compile(optimizer=tf.keras.optimizers.RMSprop(lr=0.0001), loss='categorical_crossentropy', metrics=['acc'])\n",
        "history_fine = model.fit_generator(traingenerator, epochs=20,initial_epoch= history.epoch[-1], validation_data=valgenerator)"
      ],
      "execution_count": null,
      "outputs": []
    },
    {
      "cell_type": "code",
      "metadata": {
        "id": "cnw0hTglW369",
        "colab_type": "code",
        "colab": {}
      },
      "source": [
        "import matplotlib.pyplot as plt\n",
        "acc = history_fine.history['acc']\n",
        "val_acc = history_fine.history['val_acc']\n",
        "loss = history_fine.history['loss']\n",
        "val_loss = history_fine.history['val_loss']\n",
        "\n",
        "epochs = range(len(acc))\n",
        "\n",
        "plt.plot(epochs, acc, 'bo', label='Training accuracy')\n",
        "plt.plot(epochs, val_acc, 'b', label='Validation accuracy')\n",
        "plt.title('Training and validation accuracy')\n",
        "\n",
        "plt.figure()\n",
        "\n",
        "plt.plot(epochs, loss, 'bo', label='Training Loss')\n",
        "plt.plot(epochs, val_loss, 'b', label='Validation Loss')\n",
        "plt.title('Training and validation loss')\n",
        "plt.legend()\n",
        "\n",
        "plt.show()"
      ],
      "execution_count": null,
      "outputs": []
    }
  ]
}