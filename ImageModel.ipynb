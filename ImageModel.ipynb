{
  "nbformat": 4,
  "nbformat_minor": 0,
  "metadata": {
    "colab": {
      "name": "ImageModel.ipynb",
      "provenance": [],
      "authorship_tag": "ABX9TyPI7FRnLVp8hbSqmzpyNOj+",
      "include_colab_link": true
    },
    "kernelspec": {
      "name": "python3",
      "display_name": "Python 3"
    },
    "accelerator": "GPU"
  },
  "cells": [
    {
      "cell_type": "markdown",
      "metadata": {
        "id": "view-in-github",
        "colab_type": "text"
      },
      "source": [
        "<a href=\"https://colab.research.google.com/github/Ayuniarfina/Final-Project-Bangkit---JKT4-B/blob/Deni-branch/ImageModel.ipynb\" target=\"_parent\"><img src=\"https://colab.research.google.com/assets/colab-badge.svg\" alt=\"Open In Colab\"/></a>"
      ]
    },
    {
      "cell_type": "code",
      "metadata": {
        "id": "_JqLh1M2v6wo",
        "colab_type": "code",
        "colab": {}
      },
      "source": [
        "import zipfile\n",
        "import tensorflow as tf"
      ],
      "execution_count": 0,
      "outputs": []
    },
    {
      "cell_type": "code",
      "metadata": {
        "id": "HYz5_R_x_wu-",
        "colab_type": "code",
        "colab": {
          "base_uri": "https://localhost:8080/",
          "height": 118
        },
        "outputId": "2251cbc6-5d2b-446b-aeb6-6a7ae2532d09"
      },
      "source": [
        "from google.colab import drive\n",
        "drive.mount('/content/gdrive')"
      ],
      "execution_count": 2,
      "outputs": [
        {
          "output_type": "stream",
          "text": [
            "Go to this URL in a browser: https://accounts.google.com/o/oauth2/auth?client_id=947318989803-6bn6qk8qdgf4n4g3pfee6491hc0brc4i.apps.googleusercontent.com&redirect_uri=urn%3aietf%3awg%3aoauth%3a2.0%3aoob&response_type=code&scope=email%20https%3a%2f%2fwww.googleapis.com%2fauth%2fdocs.test%20https%3a%2f%2fwww.googleapis.com%2fauth%2fdrive%20https%3a%2f%2fwww.googleapis.com%2fauth%2fdrive.photos.readonly%20https%3a%2f%2fwww.googleapis.com%2fauth%2fpeopleapi.readonly\n",
            "\n",
            "Enter your authorization code:\n",
            "··········\n",
            "Mounted at /content/gdrive\n"
          ],
          "name": "stdout"
        }
      ]
    },
    {
      "cell_type": "code",
      "metadata": {
        "id": "mdHeU600vOod",
        "colab_type": "code",
        "colab": {}
      },
      "source": [
        "zipref = zipfile.ZipFile('/content/gdrive/My Drive/Data Colab/faceexp.zip')\n",
        "zipref.extractall('/tmp/dataset')"
      ],
      "execution_count": 0,
      "outputs": []
    },
    {
      "cell_type": "code",
      "metadata": {
        "id": "CytLZ-K0vqRe",
        "colab_type": "code",
        "colab": {
          "base_uri": "https://localhost:8080/",
          "height": 50
        },
        "outputId": "01026098-088e-4c49-a742-6783daeecb6d"
      },
      "source": [
        "traindir = '/tmp/dataset/images/images/train'\n",
        "valdir = '/tmp/dataset/images/images/validation'\n",
        "\n",
        "traindatagen = tf.keras.preprocessing.image.ImageDataGenerator(\n",
        "      rescale=1/255.0,\n",
        "      #rotation_range=40,\n",
        "      #width_shift_range=0.2,\n",
        "      #height_shift_range=0.2,\n",
        "      horizontal_flip=True\n",
        "      #fill_mode='nearest' \n",
        "      )\n",
        "\n",
        "traingenerator = traindatagen.flow_from_directory(\n",
        "    traindir,\n",
        "    target_size=(150,150),\n",
        "    batch_size=32,\n",
        "    class_mode='categorical'\n",
        ")\n",
        "\n",
        "\n",
        "valdatagen = tf.keras.preprocessing.image.ImageDataGenerator(\n",
        "      rescale=1/255.0\n",
        ")\n",
        "\n",
        "valgenerator = valdatagen.flow_from_directory(\n",
        "    valdir,\n",
        "    target_size=(150,150),\n",
        "    batch_size=32,\n",
        "    class_mode='categorical'\n",
        ")"
      ],
      "execution_count": 4,
      "outputs": [
        {
          "output_type": "stream",
          "text": [
            "Found 28821 images belonging to 7 classes.\n",
            "Found 7066 images belonging to 7 classes.\n"
          ],
          "name": "stdout"
        }
      ]
    },
    {
      "cell_type": "code",
      "metadata": {
        "id": "bwR1qe6FwW3L",
        "colab_type": "code",
        "colab": {
          "base_uri": "https://localhost:8080/",
          "height": 960
        },
        "outputId": "3d56c817-1fdc-4bfa-a203-645697d172d8"
      },
      "source": [
        "# Model 1\n",
        "model = tf.keras.models.Sequential([\n",
        "  tf.keras.layers.Conv2D(32,(3,3),activation='relu',input_shape=(150,150,3)),\n",
        "  tf.keras.layers.BatchNormalization(),\n",
        "  tf.keras.layers.Conv2D(64,(3,3),activation='relu'),\n",
        "  tf.keras.layers.BatchNormalization(),\n",
        "  tf.keras.layers.MaxPooling2D(2,2),\n",
        "  tf.keras.layers.Conv2D(32,(3,3),activation='relu'),\n",
        "  tf.keras.layers.BatchNormalization(),\n",
        "  tf.keras.layers.Conv2D(64,(3,3),activation='relu'),\n",
        "  tf.keras.layers.BatchNormalization(),\n",
        "  tf.keras.layers.MaxPooling2D(2,2),     \n",
        "  tf.keras.layers.Conv2D(32,(3,3),activation='relu'),\n",
        "  tf.keras.layers.BatchNormalization(),\n",
        "  tf.keras.layers.Conv2D(64,(3,3),activation='relu'),\n",
        "  tf.keras.layers.BatchNormalization(),\n",
        "  tf.keras.layers.MaxPooling2D(2,2),    \n",
        "  tf.keras.layers.Conv2D(32,(3,3),activation='relu'),\n",
        "  tf.keras.layers.BatchNormalization(),\n",
        "  tf.keras.layers.Conv2D(64,(3,3),activation='relu'),\n",
        "  tf.keras.layers.BatchNormalization(),\n",
        "  tf.keras.layers.MaxPooling2D(2,2),         \n",
        "  tf.keras.layers.Flatten(),\n",
        "  tf.keras.layers.Dense(32, activation='relu'),\n",
        "  tf.keras.layers.BatchNormalization(),\n",
        "  tf.keras.layers.Dropout(0.5),\n",
        "  tf.keras.layers.Dense(7, activation='softmax')\n",
        "])\n",
        "\n",
        "model.summary()"
      ],
      "execution_count": 5,
      "outputs": [
        {
          "output_type": "stream",
          "text": [
            "Model: \"sequential\"\n",
            "_________________________________________________________________\n",
            "Layer (type)                 Output Shape              Param #   \n",
            "=================================================================\n",
            "conv2d (Conv2D)              (None, 148, 148, 32)      896       \n",
            "_________________________________________________________________\n",
            "batch_normalization (BatchNo (None, 148, 148, 32)      128       \n",
            "_________________________________________________________________\n",
            "conv2d_1 (Conv2D)            (None, 146, 146, 64)      18496     \n",
            "_________________________________________________________________\n",
            "batch_normalization_1 (Batch (None, 146, 146, 64)      256       \n",
            "_________________________________________________________________\n",
            "max_pooling2d (MaxPooling2D) (None, 73, 73, 64)        0         \n",
            "_________________________________________________________________\n",
            "conv2d_2 (Conv2D)            (None, 71, 71, 32)        18464     \n",
            "_________________________________________________________________\n",
            "batch_normalization_2 (Batch (None, 71, 71, 32)        128       \n",
            "_________________________________________________________________\n",
            "conv2d_3 (Conv2D)            (None, 69, 69, 64)        18496     \n",
            "_________________________________________________________________\n",
            "batch_normalization_3 (Batch (None, 69, 69, 64)        256       \n",
            "_________________________________________________________________\n",
            "max_pooling2d_1 (MaxPooling2 (None, 34, 34, 64)        0         \n",
            "_________________________________________________________________\n",
            "conv2d_4 (Conv2D)            (None, 32, 32, 32)        18464     \n",
            "_________________________________________________________________\n",
            "batch_normalization_4 (Batch (None, 32, 32, 32)        128       \n",
            "_________________________________________________________________\n",
            "conv2d_5 (Conv2D)            (None, 30, 30, 64)        18496     \n",
            "_________________________________________________________________\n",
            "batch_normalization_5 (Batch (None, 30, 30, 64)        256       \n",
            "_________________________________________________________________\n",
            "max_pooling2d_2 (MaxPooling2 (None, 15, 15, 64)        0         \n",
            "_________________________________________________________________\n",
            "conv2d_6 (Conv2D)            (None, 13, 13, 32)        18464     \n",
            "_________________________________________________________________\n",
            "batch_normalization_6 (Batch (None, 13, 13, 32)        128       \n",
            "_________________________________________________________________\n",
            "conv2d_7 (Conv2D)            (None, 11, 11, 64)        18496     \n",
            "_________________________________________________________________\n",
            "batch_normalization_7 (Batch (None, 11, 11, 64)        256       \n",
            "_________________________________________________________________\n",
            "max_pooling2d_3 (MaxPooling2 (None, 5, 5, 64)          0         \n",
            "_________________________________________________________________\n",
            "flatten (Flatten)            (None, 1600)              0         \n",
            "_________________________________________________________________\n",
            "dense (Dense)                (None, 32)                51232     \n",
            "_________________________________________________________________\n",
            "batch_normalization_8 (Batch (None, 32)                128       \n",
            "_________________________________________________________________\n",
            "dropout (Dropout)            (None, 32)                0         \n",
            "_________________________________________________________________\n",
            "dense_1 (Dense)              (None, 7)                 231       \n",
            "=================================================================\n",
            "Total params: 183,399\n",
            "Trainable params: 182,567\n",
            "Non-trainable params: 832\n",
            "_________________________________________________________________\n"
          ],
          "name": "stdout"
        }
      ]
    },
    {
      "cell_type": "code",
      "metadata": {
        "id": "CJXqBjIBxWxm",
        "colab_type": "code",
        "colab": {}
      },
      "source": [
        "model.compile(loss='categorical_crossentropy', optimizer='adam', metrics=['acc'])"
      ],
      "execution_count": 0,
      "outputs": []
    },
    {
      "cell_type": "code",
      "metadata": {
        "id": "OE_5dFFWxVqx",
        "colab_type": "code",
        "colab": {
          "base_uri": "https://localhost:8080/",
          "height": 553
        },
        "outputId": "4de57b34-8d22-43b2-ac9f-38e123f4338d"
      },
      "source": [
        "history = model.fit_generator(traingenerator, epochs=15, validation_data=valgenerator)"
      ],
      "execution_count": 7,
      "outputs": [
        {
          "output_type": "stream",
          "text": [
            "WARNING:tensorflow:From <ipython-input-7-47507d96dc8c>:1: Model.fit_generator (from tensorflow.python.keras.engine.training) is deprecated and will be removed in a future version.\n",
            "Instructions for updating:\n",
            "Please use Model.fit, which supports generators.\n",
            "Epoch 1/15\n",
            "901/901 [==============================] - 44s 49ms/step - loss: 1.8631 - acc: 0.3032 - val_loss: 1.7191 - val_acc: 0.2914\n",
            "Epoch 2/15\n",
            "901/901 [==============================] - 43s 48ms/step - loss: 1.4677 - acc: 0.4393 - val_loss: 1.3820 - val_acc: 0.4724\n",
            "Epoch 3/15\n",
            "901/901 [==============================] - 43s 48ms/step - loss: 1.3745 - acc: 0.4791 - val_loss: 1.3796 - val_acc: 0.4633\n",
            "Epoch 4/15\n",
            "901/901 [==============================] - 43s 48ms/step - loss: 1.2999 - acc: 0.5071 - val_loss: 1.3086 - val_acc: 0.5021\n",
            "Epoch 5/15\n",
            "901/901 [==============================] - 43s 48ms/step - loss: 1.2592 - acc: 0.5302 - val_loss: 1.2291 - val_acc: 0.5371\n",
            "Epoch 6/15\n",
            "901/901 [==============================] - 43s 48ms/step - loss: 1.2208 - acc: 0.5457 - val_loss: 1.1785 - val_acc: 0.5517\n",
            "Epoch 7/15\n",
            "901/901 [==============================] - 43s 48ms/step - loss: 1.1929 - acc: 0.5541 - val_loss: 1.2259 - val_acc: 0.5402\n",
            "Epoch 8/15\n",
            "901/901 [==============================] - 43s 48ms/step - loss: 1.1758 - acc: 0.5636 - val_loss: 1.1160 - val_acc: 0.5859\n",
            "Epoch 9/15\n",
            "901/901 [==============================] - 43s 48ms/step - loss: 1.1427 - acc: 0.5799 - val_loss: 1.1352 - val_acc: 0.5749\n",
            "Epoch 10/15\n",
            "901/901 [==============================] - 43s 48ms/step - loss: 1.1217 - acc: 0.5859 - val_loss: 1.1210 - val_acc: 0.5835\n",
            "Epoch 11/15\n",
            "901/901 [==============================] - 43s 48ms/step - loss: 1.1014 - acc: 0.5958 - val_loss: 1.1121 - val_acc: 0.5845\n",
            "Epoch 12/15\n",
            "901/901 [==============================] - 43s 48ms/step - loss: 1.0791 - acc: 0.5998 - val_loss: 1.0761 - val_acc: 0.5940\n",
            "Epoch 13/15\n",
            "901/901 [==============================] - 43s 48ms/step - loss: 1.0640 - acc: 0.6094 - val_loss: 1.1744 - val_acc: 0.5579\n",
            "Epoch 14/15\n",
            "901/901 [==============================] - 43s 48ms/step - loss: 1.0415 - acc: 0.6160 - val_loss: 1.0833 - val_acc: 0.5969\n",
            "Epoch 15/15\n",
            "901/901 [==============================] - 43s 48ms/step - loss: 1.0234 - acc: 0.6267 - val_loss: 1.0856 - val_acc: 0.5917\n"
          ],
          "name": "stdout"
        }
      ]
    },
    {
      "cell_type": "code",
      "metadata": {
        "id": "kCKfz9Y7y2NJ",
        "colab_type": "code",
        "colab": {
          "base_uri": "https://localhost:8080/",
          "height": 545
        },
        "outputId": "d221a621-92e5-4eb7-eecb-e9c86825b08a"
      },
      "source": [
        "import matplotlib.pyplot as plt\n",
        "acc = history.history['acc']\n",
        "val_acc = history.history['val_acc']\n",
        "loss = history.history['loss']\n",
        "val_loss = history.history['val_loss']\n",
        "\n",
        "epochs = range(len(acc))\n",
        "\n",
        "plt.plot(epochs, acc, 'bo', label='Training accuracy')\n",
        "plt.plot(epochs, val_acc, 'b', label='Validation accuracy')\n",
        "plt.title('Training and validation accuracy')\n",
        "\n",
        "plt.figure()\n",
        "\n",
        "plt.plot(epochs, loss, 'bo', label='Training Loss')\n",
        "plt.plot(epochs, val_loss, 'b', label='Validation Loss')\n",
        "plt.title('Training and validation loss')\n",
        "plt.legend()\n",
        "\n",
        "plt.show()"
      ],
      "execution_count": 8,
      "outputs": [
        {
          "output_type": "display_data",
          "data": {
            "image/png": "[encoded data removed]",
            "text/plain": [
              "<Figure size 432x288 with 1 Axes>"
            ]
          },
          "metadata": {
            "tags": [],
            "needs_background": "light"
          }
        },
        {
          "output_type": "display_data",
          "data": {
            "image/png": "[encoded data removed]",
            "text/plain": [
              "<Figure size 432x288 with 1 Axes>"
            ]
          },
          "metadata": {
            "tags": [],
            "needs_background": "light"
          }
        }
      ]
    },
    {
      "cell_type": "code",
      "metadata": {
        "id": "BxYi9PlQ4wsU",
        "colab_type": "code",
        "colab": {
          "base_uri": "https://localhost:8080/",
          "height": 158
        },
        "outputId": "2c768a69-d048-455c-ba9f-9c2d265e5c7d"
      },
      "source": [
        "del history"
      ],
      "execution_count": 24,
      "outputs": [
        {
          "output_type": "error",
          "ename": "NameError",
          "evalue": "ignored",
          "traceback": [
            "\u001b[0;31m---------------------------------------------------------------------------\u001b[0m",
            "\u001b[0;31mNameError\u001b[0m                                 Traceback (most recent call last)",
            "\u001b[0;32m<ipython-input-24-01a91f02a772>\u001b[0m in \u001b[0;36m<module>\u001b[0;34m()\u001b[0m\n\u001b[0;32m----> 1\u001b[0;31m \u001b[0;32mdel\u001b[0m \u001b[0mhistory\u001b[0m\u001b[0;34m\u001b[0m\u001b[0;34m\u001b[0m\u001b[0m\n\u001b[0m",
            "\u001b[0;31mNameError\u001b[0m: name 'history' is not defined"
          ]
        }
      ]
    },
    {
      "cell_type": "code",
      "metadata": {
        "id": "FBBETMvp8P7d",
        "colab_type": "code",
        "colab": {
          "base_uri": "https://localhost:8080/",
          "height": 126
        },
        "outputId": "cbd22114-2f0e-4876-e0c6-d16a4aa546e0"
      },
      "source": [
        "|"
      ],
      "execution_count": 25,
      "outputs": [
        {
          "output_type": "error",
          "ename": "SyntaxError",
          "evalue": "ignored",
          "traceback": [
            "\u001b[0;36m  File \u001b[0;32m\"<ipython-input-25-4b37ef281455>\"\u001b[0;36m, line \u001b[0;32m1\u001b[0m\n\u001b[0;31m    |\u001b[0m\n\u001b[0m    ^\u001b[0m\n\u001b[0;31mSyntaxError\u001b[0m\u001b[0;31m:\u001b[0m invalid syntax\n"
          ]
        }
      ]
    },
    {
      "cell_type": "code",
      "metadata": {
        "id": "RY8lJdeD8Q-E",
        "colab_type": "code",
        "colab": {
          "base_uri": "https://localhost:8080/",
          "height": 50
        },
        "outputId": "3869ad10-270d-4b74-925b-a351cf492022"
      },
      "source": [
        "traindir = '/tmp/dataset/images/images/train'\n",
        "valdir = '/tmp/dataset/images/images/validation'\n",
        "\n",
        "traindatagen = tf.keras.preprocessing.image.ImageDataGenerator(\n",
        "      rescale=1/255.0,\n",
        "      #rotation_range=40,\n",
        "      #width_shift_range=0.2,\n",
        "      #height_shift_range=0.2,\n",
        "      horizontal_flip=True\n",
        "      #fill_mode='nearest' \n",
        "      )\n",
        "\n",
        "traingenerator = traindatagen.flow_from_directory(\n",
        "    traindir,\n",
        "    target_size=(150,150),\n",
        "    batch_size=32,\n",
        "    class_mode='categorical'\n",
        ")\n",
        "\n",
        "\n",
        "valdatagen = tf.keras.preprocessing.image.ImageDataGenerator(\n",
        "      rescale=1/255.0\n",
        ")\n",
        "\n",
        "valgenerator = valdatagen.flow_from_directory(\n",
        "    valdir,\n",
        "    target_size=(150,150),\n",
        "    batch_size=32,\n",
        "    class_mode='categorical'\n",
        ")"
      ],
      "execution_count": 26,
      "outputs": [
        {
          "output_type": "stream",
          "text": [
            "Found 28821 images belonging to 7 classes.\n",
            "Found 7066 images belonging to 7 classes.\n"
          ],
          "name": "stdout"
        }
      ]
    },
    {
      "cell_type": "code",
      "metadata": {
        "id": "aDLtpXcWz0sR",
        "colab_type": "code",
        "colab": {}
      },
      "source": [
        "pre_trained_model = tf.keras.applications.inception_v3.InceptionV3(\n",
        "    include_top= False,\n",
        "    weights= 'imagenet',\n",
        "    input_shape= (150,150,3)\n",
        ")\n",
        "\n",
        "for layer in pre_trained_model.layers:\n",
        "  layer.trainable = False\n",
        "\n",
        "#pre_trained_model.summary()\n",
        "\n",
        "last_layer = pre_trained_model.get_layer('mixed7')\n",
        "last_output = last_layer.output\n",
        "\n",
        "x = tf.keras.layers.Flatten()(last_output)\n",
        "x= tf.keras.layers.Dense(256, activation='relu')(x)\n",
        "x= tf.keras.layers.Dropout(0.2)(x)\n",
        "x= tf.keras.layers.Dense( 7, activation='softmax')(x)\n",
        "\n",
        "model = tf.keras.Model(pre_trained_model.input,x)"
      ],
      "execution_count": 0,
      "outputs": []
    },
    {
      "cell_type": "code",
      "metadata": {
        "id": "Xi1k-fVj12LP",
        "colab_type": "code",
        "colab": {
          "base_uri": "https://localhost:8080/",
          "height": 505
        },
        "outputId": "dea13b34-1a94-4171-a331-514b5f8e4fe8"
      },
      "source": [
        "model.compile(optimizer='adam', loss='categorical_crossentropy', metrics=['acc'])\n",
        "history = model.fit_generator(traingenerator, epochs=15, validation_data=valgenerator)"
      ],
      "execution_count": 28,
      "outputs": [
        {
          "output_type": "stream",
          "text": [
            "Epoch 1/15\n",
            "901/901 [==============================] - 30s 34ms/step - loss: 1.3911 - acc: 0.4782 - val_loss: 1.1937 - val_acc: 0.5478\n",
            "Epoch 2/15\n",
            "901/901 [==============================] - 30s 33ms/step - loss: 1.1922 - acc: 0.5489 - val_loss: 1.1805 - val_acc: 0.5616\n",
            "Epoch 3/15\n",
            "901/901 [==============================] - 30s 33ms/step - loss: 1.1016 - acc: 0.5846 - val_loss: 1.1384 - val_acc: 0.5791\n",
            "Epoch 4/15\n",
            "901/901 [==============================] - 30s 33ms/step - loss: 1.0248 - acc: 0.6117 - val_loss: 1.1486 - val_acc: 0.5715\n",
            "Epoch 5/15\n",
            "901/901 [==============================] - 30s 33ms/step - loss: 0.9795 - acc: 0.6306 - val_loss: 1.1262 - val_acc: 0.5906\n",
            "Epoch 6/15\n",
            "901/901 [==============================] - 29s 33ms/step - loss: 0.9132 - acc: 0.6567 - val_loss: 1.1415 - val_acc: 0.5917\n",
            "Epoch 7/15\n",
            "901/901 [==============================] - 29s 33ms/step - loss: 0.8574 - acc: 0.6729 - val_loss: 1.1849 - val_acc: 0.5759\n",
            "Epoch 8/15\n",
            "901/901 [==============================] - 30s 33ms/step - loss: 0.8208 - acc: 0.6881 - val_loss: 1.1928 - val_acc: 0.5981\n",
            "Epoch 9/15\n",
            "901/901 [==============================] - 30s 33ms/step - loss: 0.7627 - acc: 0.7132 - val_loss: 1.1882 - val_acc: 0.5969\n",
            "Epoch 10/15\n",
            "901/901 [==============================] - 30s 33ms/step - loss: 0.7331 - acc: 0.7219 - val_loss: 1.1779 - val_acc: 0.5991\n",
            "Epoch 11/15\n",
            "901/901 [==============================] - 30s 33ms/step - loss: 0.6961 - acc: 0.7376 - val_loss: 1.2329 - val_acc: 0.5974\n",
            "Epoch 12/15\n",
            "901/901 [==============================] - 30s 33ms/step - loss: 0.6645 - acc: 0.7493 - val_loss: 1.2244 - val_acc: 0.6063\n",
            "Epoch 13/15\n",
            "901/901 [==============================] - 30s 33ms/step - loss: 0.6358 - acc: 0.7577 - val_loss: 1.2806 - val_acc: 0.5988\n",
            "Epoch 14/15\n",
            "901/901 [==============================] - 30s 33ms/step - loss: 0.5938 - acc: 0.7739 - val_loss: 1.3145 - val_acc: 0.5977\n",
            "Epoch 15/15\n",
            "901/901 [==============================] - 30s 33ms/step - loss: 0.5735 - acc: 0.7800 - val_loss: 1.3365 - val_acc: 0.5788\n"
          ],
          "name": "stdout"
        }
      ]
    },
    {
      "cell_type": "code",
      "metadata": {
        "id": "rPEzrh1M3JDQ",
        "colab_type": "code",
        "colab": {
          "base_uri": "https://localhost:8080/",
          "height": 545
        },
        "outputId": "c7cd0671-59af-46f9-a22d-bcecb3d4c1b6"
      },
      "source": [
        "import matplotlib.pyplot as plt\n",
        "acc = history.history['acc']\n",
        "val_acc = history.history['val_acc']\n",
        "loss = history.history['loss']\n",
        "val_loss = history.history['val_loss']\n",
        "\n",
        "epochs = range(len(acc))\n",
        "\n",
        "plt.plot(epochs, acc, 'bo', label='Training accuracy')\n",
        "plt.plot(epochs, val_acc, 'b', label='Validation accuracy')\n",
        "plt.title('Training and validation accuracy')\n",
        "\n",
        "plt.figure()\n",
        "\n",
        "plt.plot(epochs, loss, 'bo', label='Training Loss')\n",
        "plt.plot(epochs, val_loss, 'b', label='Validation Loss')\n",
        "plt.title('Training and validation loss')\n",
        "plt.legend()\n",
        "\n",
        "plt.show()"
      ],
      "execution_count": 29,
      "outputs": [
        {
          "output_type": "display_data",
          "data": {
            "image/png": "[encoded data removed]",
            "text/plain": [
              "<Figure size 432x288 with 1 Axes>"
            ]
          },
          "metadata": {
            "tags": [],
            "needs_background": "light"
          }
        },
        {
          "output_type": "display_data",
          "data": {
            "image/png": "[encoded data removed]",
            "text/plain": [
              "<Figure size 432x288 with 1 Axes>"
            ]
          },
          "metadata": {
            "tags": [],
            "needs_background": "light"
          }
        }
      ]
    },
    {
      "cell_type": "code",
      "metadata": {
        "id": "EbwKX7YSHnHe",
        "colab_type": "code",
        "colab": {
          "base_uri": "https://localhost:8080/",
          "height": 33
        },
        "outputId": "d45cf8dd-f649-4490-8a89-3adf6ab8900a"
      },
      "source": [
        "# Fine Tuning\n",
        "for layer in pre_trained_model.layers:\n",
        "  layer.trainable = True\n",
        "\n",
        "print('Number of layers: ', len(pre_trained_model.layers))"
      ],
      "execution_count": 30,
      "outputs": [
        {
          "output_type": "stream",
          "text": [
            "Number of layers:  311\n"
          ],
          "name": "stdout"
        }
      ]
    },
    {
      "cell_type": "code",
      "metadata": {
        "id": "0v-NZebhNP5s",
        "colab_type": "code",
        "colab": {}
      },
      "source": [
        "fine_tune_at = 200\n",
        "\n",
        "for layer in pre_trained_model.layers[:fine_tune_at]:\n",
        "  layer.trainable = False"
      ],
      "execution_count": 0,
      "outputs": []
    },
    {
      "cell_type": "code",
      "metadata": {
        "id": "51mo0gNCNfIj",
        "colab_type": "code",
        "colab": {
          "base_uri": "https://localhost:8080/",
          "height": 212
        },
        "outputId": "b156ac7f-6973-4821-94a6-38190ed49f85"
      },
      "source": [
        "model.compile(optimizer=tf.keras.optimizers.RMSprop(lr=0.0001), loss='categorical_crossentropy', metrics=['acc'])\n",
        "history_fine = model.fit_generator(traingenerator, epochs=20,initial_epoch= history.epoch[-1], validation_data=valgenerator)"
      ],
      "execution_count": 32,
      "outputs": [
        {
          "output_type": "stream",
          "text": [
            "Epoch 15/20\n",
            "901/901 [==============================] - 34s 38ms/step - loss: 0.7944 - acc: 0.7057 - val_loss: 1.4485 - val_acc: 0.6023\n",
            "Epoch 16/20\n",
            "901/901 [==============================] - 33s 37ms/step - loss: 0.6343 - acc: 0.7625 - val_loss: 1.4624 - val_acc: 0.6076\n",
            "Epoch 17/20\n",
            "901/901 [==============================] - 33s 37ms/step - loss: 0.5573 - acc: 0.7913 - val_loss: 1.5457 - val_acc: 0.6084\n",
            "Epoch 18/20\n",
            "901/901 [==============================] - 33s 37ms/step - loss: 0.5091 - acc: 0.8093 - val_loss: 1.4892 - val_acc: 0.6136\n",
            "Epoch 19/20\n",
            "901/901 [==============================] - 33s 37ms/step - loss: 0.4666 - acc: 0.8249 - val_loss: 1.6625 - val_acc: 0.6162\n",
            "Epoch 20/20\n",
            "901/901 [==============================] - 33s 37ms/step - loss: 0.4301 - acc: 0.8395 - val_loss: 1.6093 - val_acc: 0.6125\n"
          ],
          "name": "stdout"
        }
      ]
    },
    {
      "cell_type": "code",
      "metadata": {
        "id": "y8UH1NabOMTV",
        "colab_type": "code",
        "colab": {
          "base_uri": "https://localhost:8080/",
          "height": 545
        },
        "outputId": "dfba8f20-a1d0-42a5-f6f7-3bdc7cc68524"
      },
      "source": [
        "import matplotlib.pyplot as plt\n",
        "acc = history_fine.history['acc']\n",
        "val_acc = history_fine.history['val_acc']\n",
        "loss = history_fine.history['loss']\n",
        "val_loss = history_fine.history['val_loss']\n",
        "\n",
        "epochs = range(len(acc))\n",
        "\n",
        "plt.plot(epochs, acc, 'bo', label='Training accuracy')\n",
        "plt.plot(epochs, val_acc, 'b', label='Validation accuracy')\n",
        "plt.title('Training and validation accuracy')\n",
        "\n",
        "plt.figure()\n",
        "\n",
        "plt.plot(epochs, loss, 'bo', label='Training Loss')\n",
        "plt.plot(epochs, val_loss, 'b', label='Validation Loss')\n",
        "plt.title('Training and validation loss')\n",
        "plt.legend()\n",
        "\n",
        "plt.show()"
      ],
      "execution_count": 33,
      "outputs": [
        {
          "output_type": "display_data",
          "data": {
            "image/png": "[encoded data removed]",
            "text/plain": [
              "<Figure size 432x288 with 1 Axes>"
            ]
          },
          "metadata": {
            "tags": [],
            "needs_background": "light"
          }
        },
        {
          "output_type": "display_data",
          "data": {
            "image/png": "[encoded data removed]",
            "text/plain": [
              "<Figure size 432x288 with 1 Axes>"
            ]
          },
          "metadata": {
            "tags": [],
            "needs_background": "light"
          }
        }
      ]
    },
    {
      "cell_type": "code",
      "metadata": {
        "id": "cvZt2OfDOMco",
        "colab_type": "code",
        "colab": {}
      },
      "source": [
        "del history\n",
        "del history_fine"
      ],
      "execution_count": 0,
      "outputs": []
    },
    {
      "cell_type": "code",
      "metadata": {
        "id": "PzSbns2TOMnA",
        "colab_type": "code",
        "colab": {}
      },
      "source": [
        ""
      ],
      "execution_count": 0,
      "outputs": []
    },
    {
      "cell_type": "code",
      "metadata": {
        "id": "6Dz939oROMXZ",
        "colab_type": "code",
        "colab": {}
      },
      "source": [
        ""
      ],
      "execution_count": 0,
      "outputs": []
    },
    {
      "cell_type": "code",
      "metadata": {
        "id": "KBwzkbnQHnK4",
        "colab_type": "code",
        "colab": {
          "base_uri": "https://localhost:8080/",
          "height": 50
        },
        "outputId": "8351fb17-0bcf-4b17-ffd0-4a9767c142fe"
      },
      "source": [
        "# VGG19\n",
        "\n",
        "traindir = '/tmp/dataset/images/images/train'\n",
        "valdir = '/tmp/dataset/images/images/validation'\n",
        "\n",
        "traindatagen = tf.keras.preprocessing.image.ImageDataGenerator(\n",
        "      rescale=1/255.0,\n",
        "      #rotation_range=40,\n",
        "      #width_shift_range=0.2,\n",
        "      #height_shift_range=0.2,\n",
        "      horizontal_flip=True\n",
        "      #fill_mode='nearest' \n",
        "      )\n",
        "\n",
        "traingenerator = traindatagen.flow_from_directory(\n",
        "    traindir,\n",
        "    target_size=(150,150),\n",
        "    batch_size=32,\n",
        "    class_mode='categorical'\n",
        ")\n",
        "\n",
        "\n",
        "valdatagen = tf.keras.preprocessing.image.ImageDataGenerator(\n",
        "      rescale=1/255.0\n",
        ")\n",
        "\n",
        "valgenerator = valdatagen.flow_from_directory(\n",
        "    valdir,\n",
        "    target_size=(150,150),\n",
        "    batch_size=32,\n",
        "    class_mode='categorical'\n",
        ")"
      ],
      "execution_count": 35,
      "outputs": [
        {
          "output_type": "stream",
          "text": [
            "Found 28821 images belonging to 7 classes.\n",
            "Found 7066 images belonging to 7 classes.\n"
          ],
          "name": "stdout"
        }
      ]
    },
    {
      "cell_type": "code",
      "metadata": {
        "id": "SW-qRppX8qAX",
        "colab_type": "code",
        "colab": {}
      },
      "source": [
        "pre_trained_model = tf.keras.applications.VGG19(\n",
        "    include_top= False,\n",
        "    weights= 'imagenet',\n",
        "    input_shape= (150,150,3)\n",
        ")\n",
        "\n",
        "for layer in pre_trained_model.layers:\n",
        "  layer.trainable = False\n",
        "\n",
        "#pre_trained_model.summary()\n",
        "\n",
        "last_layer = pre_trained_model.get_layer('block5_pool')\n",
        "last_output = last_layer.output\n",
        "\n",
        "x = tf.keras.layers.Flatten()(last_output)\n",
        "x= tf.keras.layers.Dense(256, activation='relu')(x)\n",
        "x= tf.keras.layers.Dropout(0.2)(x)\n",
        "x= tf.keras.layers.Dense( 7, activation='softmax')(x)\n",
        "\n",
        "model = tf.keras.Model(pre_trained_model.input,x)"
      ],
      "execution_count": 0,
      "outputs": []
    },
    {
      "cell_type": "code",
      "metadata": {
        "id": "uXF5PQLNV-aC",
        "colab_type": "code",
        "colab": {
          "base_uri": "https://localhost:8080/",
          "height": 342
        },
        "outputId": "b8f92729-1250-4533-a7c1-1d76624422c8"
      },
      "source": [
        "model.compile(optimizer='adam', loss='categorical_crossentropy', metrics=['acc'])\n",
        "history = model.fit_generator(traingenerator, epochs=10, validation_data=valgenerator)"
      ],
      "execution_count": 38,
      "outputs": [
        {
          "output_type": "stream",
          "text": [
            "Epoch 1/10\n",
            "901/901 [==============================] - 57s 63ms/step - loss: 1.5861 - acc: 0.3858 - val_loss: 1.4324 - val_acc: 0.4509\n",
            "Epoch 2/10\n",
            "901/901 [==============================] - 56s 62ms/step - loss: 1.4566 - acc: 0.4386 - val_loss: 1.5128 - val_acc: 0.4063\n",
            "Epoch 3/10\n",
            "901/901 [==============================] - 56s 62ms/step - loss: 1.3983 - acc: 0.4659 - val_loss: 1.3135 - val_acc: 0.4993\n",
            "Epoch 4/10\n",
            "901/901 [==============================] - 56s 63ms/step - loss: 1.3743 - acc: 0.4721 - val_loss: 1.3164 - val_acc: 0.5031\n",
            "Epoch 5/10\n",
            "901/901 [==============================] - 56s 63ms/step - loss: 1.3387 - acc: 0.4885 - val_loss: 1.2714 - val_acc: 0.5119\n",
            "Epoch 6/10\n",
            "901/901 [==============================] - 56s 62ms/step - loss: 1.3268 - acc: 0.4909 - val_loss: 1.2975 - val_acc: 0.5144\n",
            "Epoch 7/10\n",
            "901/901 [==============================] - 56s 62ms/step - loss: 1.3163 - acc: 0.4939 - val_loss: 1.3110 - val_acc: 0.5000\n",
            "Epoch 8/10\n",
            "901/901 [==============================] - 56s 62ms/step - loss: 1.3003 - acc: 0.4981 - val_loss: 1.3165 - val_acc: 0.5113\n",
            "Epoch 9/10\n",
            "901/901 [==============================] - 56s 62ms/step - loss: 1.2838 - acc: 0.5080 - val_loss: 1.3016 - val_acc: 0.5061\n",
            "Epoch 10/10\n",
            "901/901 [==============================] - 56s 62ms/step - loss: 1.2715 - acc: 0.5115 - val_loss: 1.2820 - val_acc: 0.5113\n"
          ],
          "name": "stdout"
        }
      ]
    },
    {
      "cell_type": "code",
      "metadata": {
        "id": "wDX1czEiYt6-",
        "colab_type": "code",
        "colab": {
          "base_uri": "https://localhost:8080/",
          "height": 375
        },
        "outputId": "0387f139-8137-4edb-c109-105e67cd0d26"
      },
      "source": [
        "model.compile(optimizer='adam', loss='categorical_crossentropy', metrics=['acc'])\n",
        "history = model.fit_generator(traingenerator, epochs=20,initial_epoch= history.epoch[-1], validation_data=valgenerator)"
      ],
      "execution_count": 41,
      "outputs": [
        {
          "output_type": "stream",
          "text": [
            "Epoch 10/20\n",
            "901/901 [==============================] - 56s 62ms/step - loss: 1.2565 - acc: 0.5141 - val_loss: 1.2665 - val_acc: 0.5229\n",
            "Epoch 11/20\n",
            "901/901 [==============================] - 56s 62ms/step - loss: 1.2370 - acc: 0.5200 - val_loss: 1.2896 - val_acc: 0.5074\n",
            "Epoch 12/20\n",
            "901/901 [==============================] - 56s 62ms/step - loss: 1.2275 - acc: 0.5238 - val_loss: 1.2596 - val_acc: 0.5204\n",
            "Epoch 13/20\n",
            "901/901 [==============================] - 56s 62ms/step - loss: 1.2175 - acc: 0.5301 - val_loss: 1.2786 - val_acc: 0.5156\n",
            "Epoch 14/20\n",
            "901/901 [==============================] - 56s 62ms/step - loss: 1.2082 - acc: 0.5304 - val_loss: 1.2968 - val_acc: 0.5013\n",
            "Epoch 15/20\n",
            "901/901 [==============================] - 56s 62ms/step - loss: 1.1983 - acc: 0.5353 - val_loss: 1.2601 - val_acc: 0.5113\n",
            "Epoch 16/20\n",
            "901/901 [==============================] - 56s 62ms/step - loss: 1.1901 - acc: 0.5415 - val_loss: 1.2675 - val_acc: 0.5177\n",
            "Epoch 17/20\n",
            "901/901 [==============================] - 56s 62ms/step - loss: 1.1788 - acc: 0.5447 - val_loss: 1.2675 - val_acc: 0.5209\n",
            "Epoch 18/20\n",
            "901/901 [==============================] - 56s 62ms/step - loss: 1.1698 - acc: 0.5474 - val_loss: 1.2436 - val_acc: 0.5335\n",
            "Epoch 19/20\n",
            "901/901 [==============================] - 56s 62ms/step - loss: 1.1689 - acc: 0.5477 - val_loss: 1.3177 - val_acc: 0.5038\n",
            "Epoch 20/20\n",
            "901/901 [==============================] - 56s 62ms/step - loss: 1.1751 - acc: 0.5464 - val_loss: 1.2893 - val_acc: 0.5262\n"
          ],
          "name": "stdout"
        }
      ]
    },
    {
      "cell_type": "code",
      "metadata": {
        "id": "ueaRXiWGWaMd",
        "colab_type": "code",
        "colab": {
          "base_uri": "https://localhost:8080/",
          "height": 545
        },
        "outputId": "2c2ee3bd-21f6-469e-e3e3-a954acb81fa1"
      },
      "source": [
        "import matplotlib.pyplot as plt\n",
        "acc = history.history['acc']\n",
        "val_acc = history.history['val_acc']\n",
        "loss = history.history['loss']\n",
        "val_loss = history.history['val_loss']\n",
        "\n",
        "epochs = range(len(acc))\n",
        "\n",
        "plt.plot(epochs, acc, 'bo', label='Training accuracy')\n",
        "plt.plot(epochs, val_acc, 'b', label='Validation accuracy')\n",
        "plt.title('Training and validation accuracy')\n",
        "\n",
        "plt.figure()\n",
        "\n",
        "plt.plot(epochs, loss, 'bo', label='Training Loss')\n",
        "plt.plot(epochs, val_loss, 'b', label='Validation Loss')\n",
        "plt.title('Training and validation loss')\n",
        "plt.legend()\n",
        "\n",
        "plt.show()"
      ],
      "execution_count": 42,
      "outputs": [
        {
          "output_type": "display_data",
          "data": {
            "image/png": "[encoded data removed]",
            "text/plain": [
              "<Figure size 432x288 with 1 Axes>"
            ]
          },
          "metadata": {
            "tags": [],
            "needs_background": "light"
          }
        },
        {
          "output_type": "display_data",
          "data": {
            "image/png": "[encoded data removed]",
            "text/plain": [
              "<Figure size 432x288 with 1 Axes>"
            ]
          },
          "metadata": {
            "tags": [],
            "needs_background": "light"
          }
        }
      ]
    },
    {
      "cell_type": "code",
      "metadata": {
        "id": "OUnHMAJZWaO6",
        "colab_type": "code",
        "colab": {}
      },
      "source": [
        "# Fine Tuning\n",
        "for layer in pre_trained_model.layers:\n",
        "  layer.trainable = True\n",
        "\n",
        "print('Number of layers: ', len(pre_trained_model.layers))"
      ],
      "execution_count": 0,
      "outputs": []
    },
    {
      "cell_type": "code",
      "metadata": {
        "id": "sViieLG9Wtew",
        "colab_type": "code",
        "colab": {}
      },
      "source": [
        "fine_tune_at = 200\n",
        "\n",
        "for layer in pre_trained_model.layers[:fine_tune_at]:\n",
        "  layer.trainable = False"
      ],
      "execution_count": 0,
      "outputs": []
    },
    {
      "cell_type": "code",
      "metadata": {
        "id": "sdeKhCmXY1i-",
        "colab_type": "code",
        "colab": {}
      },
      "source": [
        "model.compile(optimizer=tf.keras.optimizers.RMSprop(lr=0.0001), loss='categorical_crossentropy', metrics=['acc'])\n",
        "history_fine = model.fit_generator(traingenerator, epochs=20,initial_epoch= history.epoch[-1], validation_data=valgenerator)"
      ],
      "execution_count": 0,
      "outputs": []
    },
    {
      "cell_type": "code",
      "metadata": {
        "id": "cnw0hTglW369",
        "colab_type": "code",
        "colab": {}
      },
      "source": [
        "import matplotlib.pyplot as plt\n",
        "acc = history_fine.history['acc']\n",
        "val_acc = history_fine.history['val_acc']\n",
        "loss = history_fine.history['loss']\n",
        "val_loss = history_fine.history['val_loss']\n",
        "\n",
        "epochs = range(len(acc))\n",
        "\n",
        "plt.plot(epochs, acc, 'bo', label='Training accuracy')\n",
        "plt.plot(epochs, val_acc, 'b', label='Validation accuracy')\n",
        "plt.title('Training and validation accuracy')\n",
        "\n",
        "plt.figure()\n",
        "\n",
        "plt.plot(epochs, loss, 'bo', label='Training Loss')\n",
        "plt.plot(epochs, val_loss, 'b', label='Validation Loss')\n",
        "plt.title('Training and validation loss')\n",
        "plt.legend()\n",
        "\n",
        "plt.show()"
      ],
      "execution_count": 0,
      "outputs": []
    }
  ]
}