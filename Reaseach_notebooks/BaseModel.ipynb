{
  "nbformat": 4,
  "nbformat_minor": 0,
  "metadata": {
    "colab": {
      "name": "BaseModel.ipynb",
      "provenance": [],
      "include_colab_link": true
    },
    "kernelspec": {
      "name": "python3",
      "display_name": "Python 3"
    },
    "accelerator": "GPU"
  },
  "cells": [
    {
      "cell_type": "markdown",
      "metadata": {
        "id": "view-in-github",
        "colab_type": "text"
      },
      "source": [
        "<a href=\"https://colab.research.google.com/github/Ayuniarfina/Final-Project-Bangkit---JKT4-B/blob/Ayuni-branch/BaseModel.ipynb\" target=\"_parent\"><img src=\"https://colab.research.google.com/assets/colab-badge.svg\" alt=\"Open In Colab\"/></a>"
      ]
    },
    {
      "cell_type": "code",
      "metadata": {
        "id": "_JqLh1M2v6wo",
        "colab_type": "code",
        "colab": {}
      },
      "source": [
        "import zipfile\n",
        "import tensorflow as tf\n",
        "from tensorflow.keras.optimizers import RMSprop\n",
        "from tensorflow.keras.preprocessing.image import ImageDataGenerator"
      ],
      "execution_count": null,
      "outputs": []
    },
    {
      "cell_type": "code",
      "metadata": {
        "id": "HYz5_R_x_wu-",
        "colab_type": "code",
        "colab": {
          "base_uri": "https://localhost:8080/",
          "height": 121
        },
        "outputId": "bd60c315-d14b-4f49-8afd-b13763488763"
      },
      "source": [
        "from google.colab import drive\n",
        "drive.mount('/content/gdrive')"
      ],
      "execution_count": null,
      "outputs": [
        {
          "output_type": "stream",
          "text": [
            "Go to this URL in a browser: https://accounts.google.com/o/oauth2/auth?client_id=947318989803-6bn6qk8qdgf4n4g3pfee6491hc0brc4i.apps.googleusercontent.com&redirect_uri=urn%3aietf%3awg%3aoauth%3a2.0%3aoob&response_type=code&scope=email%20https%3a%2f%2fwww.googleapis.com%2fauth%2fdocs.test%20https%3a%2f%2fwww.googleapis.com%2fauth%2fdrive%20https%3a%2f%2fwww.googleapis.com%2fauth%2fdrive.photos.readonly%20https%3a%2f%2fwww.googleapis.com%2fauth%2fpeopleapi.readonly\n",
            "\n",
            "Enter your authorization code:\n",
            "··········\n",
            "Mounted at /content/gdrive\n"
          ],
          "name": "stdout"
        }
      ]
    },
    {
      "cell_type": "code",
      "metadata": {
        "id": "mdHeU600vOod",
        "colab_type": "code",
        "colab": {}
      },
      "source": [
        "zipref = zipfile.ZipFile('/content/gdrive/My Drive/Bangkit Assignment/Final Project/datasets_faceExpressions.zip')\n",
        "zipref.extractall('/tmp/dataset')"
      ],
      "execution_count": null,
      "outputs": []
    },
    {
      "cell_type": "code",
      "metadata": {
        "id": "bwR1qe6FwW3L",
        "colab_type": "code",
        "colab": {
          "base_uri": "https://localhost:8080/",
          "height": 50
        },
        "outputId": "bc0d7052-7cbf-433a-bd59-d64a2f8adc6f"
      },
      "source": [
        "traindir = '/tmp/dataset/images/images/train'\n",
        "valdir = '/tmp/dataset/images/images/validation'\n",
        "\n",
        "train_datagen = tf.keras.preprocessing.image.ImageDataGenerator(rescale=1/255.0)\n",
        "\n",
        "traingenerator = train_datagen.flow_from_directory(\n",
        "    traindir,\n",
        "    target_size=(150,150),\n",
        "    batch_size=80,\n",
        "    class_mode='categorical',\n",
        "    subset='training'\n",
        ")\n",
        " \n",
        "val_datagen = tf.keras.preprocessing.image.ImageDataGenerator(rescale=1/255.0)\n",
        "\n",
        "valgenerator = val_datagen.flow_from_directory(\n",
        "    valdir,\n",
        "    target_size=(150,150),\n",
        "    batch_size=80,\n",
        "    class_mode='categorical'\n",
        ")\n"
      ],
      "execution_count": null,
      "outputs": [
        {
          "output_type": "stream",
          "text": [
            "Found 28821 images belonging to 7 classes.\n",
            "Found 7066 images belonging to 7 classes.\n"
          ],
          "name": "stdout"
        }
      ]
    },
    {
      "cell_type": "code",
      "metadata": {
        "id": "177IUi9zcBl2",
        "colab_type": "code",
        "colab": {}
      },
      "source": [
        "# Basic Model\n",
        "model = tf.keras.models.Sequential([\n",
        "    tf.keras.layers.Conv2D(32, (3,3), activation='relu', input_shape=(150, 150, 3)),\n",
        "    tf.keras.layers.MaxPooling2D(2, 2),\n",
        "    tf.keras.layers.Conv2D(64, (3,3), activation='relu'),\n",
        "    tf.keras.layers.MaxPooling2D(2,2),\n",
        "    tf.keras.layers.Conv2D(128, (3,3), activation='relu'),\n",
        "    tf.keras.layers.MaxPooling2D(2,2),\n",
        "    tf.keras.layers.Conv2D(128, (3,3), activation='relu'),\n",
        "    tf.keras.layers.MaxPooling2D(2,2),\n",
        "    tf.keras.layers.Flatten(),\n",
        "    tf.keras.layers.Dense(512, activation='relu'),\n",
        "    tf.keras.layers.Dense(7, activation='softmax')\n",
        "])\n",
        "\n",
        "model.compile(loss='categorical_crossentropy', optimizer='adam', metrics=['acc'])"
      ],
      "execution_count": null,
      "outputs": []
    },
    {
      "cell_type": "code",
      "metadata": {
        "id": "L4dV1nxqbrDF",
        "colab_type": "code",
        "colab": {
          "base_uri": "https://localhost:8080/",
          "height": 373
        },
        "outputId": "64716baa-48ba-4d33-f323-47cf317bd8b4"
      },
      "source": [
        "history = model.fit_generator(train_generator, epochs=10, validation_data=validation_generator)"
      ],
      "execution_count": null,
      "outputs": [
        {
          "output_type": "stream",
          "text": [
            "Epoch 1/10\n",
            "1442/1442 [==============================] - 27s 19ms/step - loss: 1.6117 - acc: 0.3546 - val_loss: 1.4080 - val_acc: 0.4604\n",
            "Epoch 2/10\n",
            "1442/1442 [==============================] - 27s 19ms/step - loss: 1.3014 - acc: 0.5007 - val_loss: 1.2496 - val_acc: 0.5224\n",
            "Epoch 3/10\n",
            "1442/1442 [==============================] - 27s 19ms/step - loss: 1.1426 - acc: 0.5651 - val_loss: 1.2108 - val_acc: 0.5365\n",
            "Epoch 4/10\n",
            "1442/1442 [==============================] - 26s 18ms/step - loss: 0.9779 - acc: 0.6312 - val_loss: 1.2187 - val_acc: 0.5559\n",
            "Epoch 5/10\n",
            "1442/1442 [==============================] - 26s 18ms/step - loss: 0.7879 - acc: 0.7075 - val_loss: 1.3334 - val_acc: 0.5521\n",
            "Epoch 6/10\n",
            "1442/1442 [==============================] - 26s 18ms/step - loss: 0.5803 - acc: 0.7873 - val_loss: 1.5011 - val_acc: 0.5545\n",
            "Epoch 7/10\n",
            "1442/1442 [==============================] - 26s 18ms/step - loss: 0.4063 - acc: 0.8552 - val_loss: 1.8761 - val_acc: 0.5501\n",
            "Epoch 8/10\n",
            "1442/1442 [==============================] - 25s 18ms/step - loss: 0.2854 - acc: 0.8996 - val_loss: 2.2220 - val_acc: 0.5525\n",
            "Epoch 9/10\n",
            "1442/1442 [==============================] - 25s 18ms/step - loss: 0.2204 - acc: 0.9268 - val_loss: 2.5709 - val_acc: 0.5480\n",
            "Epoch 10/10\n",
            "1442/1442 [==============================] - 25s 18ms/step - loss: 0.1682 - acc: 0.9450 - val_loss: 2.9922 - val_acc: 0.5442\n"
          ],
          "name": "stdout"
        }
      ]
    },
    {
      "cell_type": "code",
      "metadata": {
        "id": "kCKfz9Y7y2NJ",
        "colab_type": "code",
        "colab": {
          "base_uri": "https://localhost:8080/",
          "height": 545
        },
        "outputId": "56eab992-9430-4ce3-bd81-f10ac88fea77"
      },
      "source": [
        "import matplotlib.pyplot as plt\n",
        "acc = history.history['acc']\n",
        "val_acc = history.history['val_acc']\n",
        "loss = history.history['loss']\n",
        "val_loss = history.history['val_loss']\n",
        "\n",
        "epochs = range(len(acc))\n",
        "\n",
        "plt.plot(epochs, acc, 'bo', label='Training accuracy')\n",
        "plt.plot(epochs, val_acc, 'b', label='Validation accuracy')\n",
        "plt.title('Training and validation accuracy')\n",
        "\n",
        "plt.figure()\n",
        "\n",
        "plt.plot(epochs, loss, 'bo', label='Training Loss')\n",
        "plt.plot(epochs, val_loss, 'b', label='Validation Loss')\n",
        "plt.title('Training and validation loss')\n",
        "plt.legend()\n",
        "\n",
        "plt.show()"
      ],
      "execution_count": null,
      "outputs": [
        {
          "output_type": "display_data",
          "data": {
            "image/png": "[encoded data removed]",
            "text/plain": [
              "<Figure size 432x288 with 1 Axes>"
            ]
          },
          "metadata": {
            "tags": [],
            "needs_background": "light"
          }
        },
        {
          "output_type": "display_data",
          "data": {
            "image/png": "[encoded data removed]",
            "text/plain": [
              "<Figure size 432x288 with 1 Axes>"
            ]
          },
          "metadata": {
            "tags": [],
            "needs_background": "light"
          }
        }
      ]
    },
    {
      "cell_type": "code",
      "metadata": {
        "id": "dqgef3g5iqL8",
        "colab_type": "code",
        "colab": {}
      },
      "source": [
        "model.compile(loss='categorical_crossentropy', optimizer=RMSprop(lr=1e-4), metrics=['acc'])"
      ],
      "execution_count": null,
      "outputs": []
    },
    {
      "cell_type": "code",
      "metadata": {
        "id": "R0OpMDUZjshL",
        "colab_type": "code",
        "colab": {
          "base_uri": "https://localhost:8080/",
          "height": 373
        },
        "outputId": "628405eb-490f-4b4d-b6f0-f86664690bcd"
      },
      "source": [
        "history = model.fit_generator(train_generator, epochs=10, validation_data=validation_generator)"
      ],
      "execution_count": null,
      "outputs": [
        {
          "output_type": "stream",
          "text": [
            "Epoch 1/10\n",
            "1442/1442 [==============================] - 26s 18ms/step - loss: 0.0621 - acc: 0.9846 - val_loss: 3.5676 - val_acc: 0.5645\n",
            "Epoch 2/10\n",
            "1442/1442 [==============================] - 26s 18ms/step - loss: 0.0363 - acc: 0.9921 - val_loss: 4.0129 - val_acc: 0.5634\n",
            "Epoch 3/10\n",
            "1442/1442 [==============================] - 26s 18ms/step - loss: 0.0268 - acc: 0.9944 - val_loss: 4.3754 - val_acc: 0.5682\n",
            "Epoch 4/10\n",
            "1442/1442 [==============================] - 26s 18ms/step - loss: 0.0213 - acc: 0.9954 - val_loss: 4.7480 - val_acc: 0.5671\n",
            "Epoch 5/10\n",
            "1442/1442 [==============================] - 26s 18ms/step - loss: 0.0187 - acc: 0.9957 - val_loss: 4.9454 - val_acc: 0.5658\n",
            "Epoch 6/10\n",
            "1442/1442 [==============================] - 26s 18ms/step - loss: 0.0166 - acc: 0.9964 - val_loss: 5.1880 - val_acc: 0.5689\n",
            "Epoch 7/10\n",
            "1442/1442 [==============================] - 26s 18ms/step - loss: 0.0147 - acc: 0.9964 - val_loss: 5.3478 - val_acc: 0.5655\n",
            "Epoch 8/10\n",
            "1442/1442 [==============================] - 26s 18ms/step - loss: 0.0140 - acc: 0.9968 - val_loss: 5.4519 - val_acc: 0.5678\n",
            "Epoch 9/10\n",
            "1442/1442 [==============================] - 26s 18ms/step - loss: 0.0126 - acc: 0.9970 - val_loss: 5.6702 - val_acc: 0.5682\n",
            "Epoch 10/10\n",
            "1442/1442 [==============================] - 26s 18ms/step - loss: 0.0131 - acc: 0.9969 - val_loss: 5.7460 - val_acc: 0.5716\n"
          ],
          "name": "stdout"
        }
      ]
    }
  ]
}