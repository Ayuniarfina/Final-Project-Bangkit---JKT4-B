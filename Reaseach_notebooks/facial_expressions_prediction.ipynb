{
 "cells": [
  {
   "cell_type": "code",
   "execution_count": 1,
   "metadata": {},
   "outputs": [],
   "source": [
    "import os\n",
    "import tensorflow as tf\n",
    "from tensorflow.keras import layers\n",
    "from tensorflow.keras import Model\n",
    "from os import getcwd"
   ]
  },
  {
   "cell_type": "code",
   "execution_count": 2,
   "metadata": {},
   "outputs": [
    {
     "name": "stdout",
     "output_type": "stream",
     "text": [
      "Requirement already satisfied: tensorflow==2.0.0b1 in c:\\users\\admin\\anaconda3\\lib\\site-packages (2.0.0b1)\n",
      "Requirement already satisfied: keras-preprocessing>=1.0.5 in c:\\users\\admin\\appdata\\roaming\\python\\python37\\site-packages (from tensorflow==2.0.0b1) (1.1.0)\n",
      "Requirement already satisfied: astor>=0.6.0 in c:\\users\\admin\\appdata\\roaming\\python\\python37\\site-packages (from tensorflow==2.0.0b1) (0.8.1)\n",
      "Requirement already satisfied: numpy<2.0,>=1.14.5 in c:\\users\\admin\\anaconda3\\lib\\site-packages (from tensorflow==2.0.0b1) (1.16.5)\n",
      "Requirement already satisfied: absl-py>=0.7.0 in c:\\users\\admin\\appdata\\roaming\\python\\python37\\site-packages (from tensorflow==2.0.0b1) (0.9.0)\n",
      "Requirement already satisfied: gast>=0.2.0 in c:\\users\\admin\\appdata\\roaming\\python\\python37\\site-packages (from tensorflow==2.0.0b1) (0.2.2)\n",
      "Requirement already satisfied: termcolor>=1.1.0 in c:\\users\\admin\\appdata\\roaming\\python\\python37\\site-packages (from tensorflow==2.0.0b1) (1.1.0)\n",
      "Requirement already satisfied: tb-nightly<1.14.0a20190604,>=1.14.0a20190603 in c:\\users\\admin\\anaconda3\\lib\\site-packages (from tensorflow==2.0.0b1) (1.14.0a20190603)\n",
      "Requirement already satisfied: protobuf>=3.6.1 in c:\\users\\admin\\appdata\\roaming\\python\\python37\\site-packages (from tensorflow==2.0.0b1) (3.11.3)\n",
      "Requirement already satisfied: tf-estimator-nightly<1.14.0.dev2019060502,>=1.14.0.dev2019060501 in c:\\users\\admin\\anaconda3\\lib\\site-packages (from tensorflow==2.0.0b1) (1.14.0.dev2019060501)\n",
      "Requirement already satisfied: grpcio>=1.8.6 in c:\\users\\admin\\appdata\\roaming\\python\\python37\\site-packages (from tensorflow==2.0.0b1) (1.27.2)\n",
      "Requirement already satisfied: wheel>=0.26 in c:\\users\\admin\\anaconda3\\lib\\site-packages (from tensorflow==2.0.0b1) (0.33.6)\n",
      "Requirement already satisfied: keras-applications>=1.0.6 in c:\\users\\admin\\appdata\\roaming\\python\\python37\\site-packages (from tensorflow==2.0.0b1) (1.0.8)\n",
      "Requirement already satisfied: google-pasta>=0.1.6 in c:\\users\\admin\\appdata\\roaming\\python\\python37\\site-packages (from tensorflow==2.0.0b1) (0.2.0)\n",
      "Requirement already satisfied: six>=1.10.0 in c:\\users\\admin\\appdata\\roaming\\python\\python37\\site-packages (from tensorflow==2.0.0b1) (1.12.0)\n",
      "Requirement already satisfied: wrapt>=1.11.1 in c:\\users\\admin\\appdata\\roaming\\python\\python37\\site-packages (from tensorflow==2.0.0b1) (1.11.2)\n",
      "Requirement already satisfied: markdown>=2.6.8 in c:\\users\\admin\\appdata\\roaming\\python\\python37\\site-packages (from tb-nightly<1.14.0a20190604,>=1.14.0a20190603->tensorflow==2.0.0b1) (3.2.1)\n",
      "Requirement already satisfied: werkzeug>=0.11.15 in c:\\users\\admin\\anaconda3\\lib\\site-packages (from tb-nightly<1.14.0a20190604,>=1.14.0a20190603->tensorflow==2.0.0b1) (0.16.0)\n",
      "Requirement already satisfied: setuptools>=41.0.0 in c:\\users\\admin\\anaconda3\\lib\\site-packages (from tb-nightly<1.14.0a20190604,>=1.14.0a20190603->tensorflow==2.0.0b1) (41.4.0)\n",
      "Requirement already satisfied: h5py in c:\\users\\admin\\anaconda3\\lib\\site-packages (from keras-applications>=1.0.6->tensorflow==2.0.0b1) (2.9.0)\n",
      "Note: you may need to restart the kernel to use updated packages.\n"
     ]
    }
   ],
   "source": [
    "pip install tensorflow==2.0.0b1"
   ]
  },
  {
   "cell_type": "code",
   "execution_count": 2,
   "metadata": {},
   "outputs": [],
   "source": [
    "import keras_preprocessing\n",
    "from keras_preprocessing import image\n",
    "from keras_preprocessing.image import ImageDataGenerator\n",
    "\n"
   ]
  },
  {
   "cell_type": "code",
   "execution_count": 4,
   "metadata": {},
   "outputs": [
    {
     "name": "stdout",
     "output_type": "stream",
     "text": [
      "Found 28385 images belonging to 6 classes.\n",
      "Found 6955 images belonging to 6 classes.\n",
      "Model: \"sequential_1\"\n",
      "_________________________________________________________________\n",
      "Layer (type)                 Output Shape              Param #   \n",
      "=================================================================\n",
      "conv2d_4 (Conv2D)            (None, 46, 46, 64)        1792      \n",
      "_________________________________________________________________\n",
      "max_pooling2d_4 (MaxPooling2 (None, 23, 23, 64)        0         \n",
      "_________________________________________________________________\n",
      "conv2d_5 (Conv2D)            (None, 21, 21, 64)        36928     \n",
      "_________________________________________________________________\n",
      "max_pooling2d_5 (MaxPooling2 (None, 10, 10, 64)        0         \n",
      "_________________________________________________________________\n",
      "conv2d_6 (Conv2D)            (None, 8, 8, 128)         73856     \n",
      "_________________________________________________________________\n",
      "max_pooling2d_6 (MaxPooling2 (None, 4, 4, 128)         0         \n",
      "_________________________________________________________________\n",
      "conv2d_7 (Conv2D)            (None, 2, 2, 128)         147584    \n",
      "_________________________________________________________________\n",
      "max_pooling2d_7 (MaxPooling2 (None, 1, 1, 128)         0         \n",
      "_________________________________________________________________\n",
      "flatten_1 (Flatten)          (None, 128)               0         \n",
      "_________________________________________________________________\n",
      "dropout_1 (Dropout)          (None, 128)               0         \n",
      "_________________________________________________________________\n",
      "dense_2 (Dense)              (None, 512)               66048     \n",
      "_________________________________________________________________\n",
      "dense_3 (Dense)              (None, 6)                 3078      \n",
      "=================================================================\n",
      "Total params: 329,286\n",
      "Trainable params: 329,286\n",
      "Non-trainable params: 0\n",
      "_________________________________________________________________\n",
      "Epoch 1/10\n",
      "400/400 [==============================] - 113s 282ms/step - loss: 1.7485 - accuracy: 0.2552 - val_loss: 1.6856 - val_accuracy: 0.2900\n",
      "Epoch 2/10\n",
      "400/400 [==============================] - 119s 299ms/step - loss: 1.7024 - accuracy: 0.2748 - val_loss: 1.6157 - val_accuracy: 0.3346\n",
      "Epoch 3/10\n",
      "400/400 [==============================] - 123s 307ms/step - loss: 1.6611 - accuracy: 0.3068 - val_loss: 1.4786 - val_accuracy: 0.4080\n",
      "Epoch 4/10\n",
      "400/400 [==============================] - 122s 305ms/step - loss: 1.5927 - accuracy: 0.3462 - val_loss: 1.3798 - val_accuracy: 0.4543\n",
      "Epoch 5/10\n",
      "400/400 [==============================] - 127s 317ms/step - loss: 1.5154 - accuracy: 0.3884 - val_loss: 1.3951 - val_accuracy: 0.4508\n",
      "Epoch 6/10\n",
      "400/400 [==============================] - 171s 428ms/step - loss: 1.4651 - accuracy: 0.4125 - val_loss: 1.2942 - val_accuracy: 0.4906\n",
      "Epoch 7/10\n",
      "400/400 [==============================] - 177s 442ms/step - loss: 1.4288 - accuracy: 0.4345 - val_loss: 1.2729 - val_accuracy: 0.5106\n",
      "Epoch 8/10\n",
      "400/400 [==============================] - 172s 431ms/step - loss: 1.4046 - accuracy: 0.4413 - val_loss: 1.2932 - val_accuracy: 0.4869\n",
      "Epoch 9/10\n",
      "400/400 [==============================] - 194s 486ms/step - loss: 1.3800 - accuracy: 0.4524 - val_loss: 1.1919 - val_accuracy: 0.5342\n",
      "Epoch 10/10\n",
      "400/400 [==============================] - 199s 496ms/step - loss: 1.3593 - accuracy: 0.4634 - val_loss: 1.1764 - val_accuracy: 0.5524\n"
     ]
    }
   ],
   "source": [
    "TRAINING_DIR = \"temp2/images/images_filter/train/\"\n",
    "training_datagen = ImageDataGenerator(\n",
    "        rescale = 1./255,\n",
    "        rotation_range=40,\n",
    "        width_shift_range=0.2,\n",
    "        height_shift_range=0.2,\n",
    "        shear_range=0.2,\n",
    "        zoom_range=0.2,\n",
    "        horizontal_flip=True)\n",
    "\n",
    "VALIDATION_DIR = \"temp2/images/images_filter/validation/\"\n",
    "validation_datagen = ImageDataGenerator(rescale = 1./255)\n",
    "\n",
    "train_generator = training_datagen.flow_from_directory(\n",
    "        TRAINING_DIR,\n",
    "        target_size=(48, 48),\n",
    "        class_mode='categorical',\n",
    "        batch_size=75\n",
    ")\n",
    "\n",
    "validation_generator = validation_datagen.flow_from_directory(\n",
    "        VALIDATION_DIR,\n",
    "        target_size=(48, 48),\n",
    "        class_mode='categorical',\n",
    "        batch_size=75\n",
    ")\n",
    "\n",
    "model = tf.keras.models.Sequential([\n",
    "    # Note the input shape is the desired size of the image 150x150 with 3 bytes color\n",
    "    # This is the first convolution\n",
    "    tf.keras.layers.Conv2D(64, (3,3), activation='relu', input_shape=(48, 48, 3)),\n",
    "    tf.keras.layers.MaxPooling2D(2, 2),\n",
    "    # The second convolution\n",
    "    tf.keras.layers.Conv2D(64, (3,3), activation='relu'),\n",
    "    tf.keras.layers.MaxPooling2D(2,2),\n",
    "    # The third convolution\n",
    "    tf.keras.layers.Conv2D(128, (3,3), activation='relu'),\n",
    "    tf.keras.layers.MaxPooling2D(2,2),\n",
    "    # The fourth convolution\n",
    "    tf.keras.layers.Conv2D(128, (3,3), activation='relu'),\n",
    "    tf.keras.layers.MaxPooling2D(2,2),\n",
    "    # Flatten the results to feed into a DNN\n",
    "    tf.keras.layers.Flatten(),\n",
    "    tf.keras.layers.Dropout(0.2),\n",
    "    # 512 neuron hidden layer\n",
    "    tf.keras.layers.Dense(512, activation='relu'),\n",
    "    tf.keras.layers.Dense(6, activation='softmax')\n",
    "])\n",
    "\n",
    "\n",
    "model.summary()\n",
    "\n",
    "model.compile(loss = 'categorical_crossentropy', optimizer='rmsprop', metrics=['accuracy'])\n",
    "\n",
    "history = model.fit(train_generator, epochs=10, steps_per_epoch=400, validation_data = validation_generator, verbose = 1, validation_steps=400)"
   ]
  },
  {
   "cell_type": "code",
   "execution_count": 5,
   "metadata": {},
   "outputs": [
    {
     "name": "stdout",
     "output_type": "stream",
     "text": [
      "INFO:tensorflow:Assets written to: save_model/assets\n",
      "INFO:tensorflow:Converted 12 variables to const ops.\n"
     ]
    }
   ],
   "source": [
    "saved_model_dir = 'save_model/'\n",
    "tf.saved_model.save(model, saved_model_dir)\n",
    "\n",
    "converter = tf.lite.TFLiteConverter.from_saved_model(saved_model_dir)\n",
    "tflite_model = converter.convert()\n",
    "\n",
    "with open('model.tflite', 'wb') as f:\n",
    "  f.write(tflite_model)"
   ]
  },
  {
   "cell_type": "code",
   "execution_count": 6,
   "metadata": {},
   "outputs": [
    {
     "data": {
      "image/png": "[encoded data removed]",
      "text/plain": [
       "<Figure size 432x288 with 1 Axes>"
      ]
     },
     "metadata": {
      "needs_background": "light"
     },
     "output_type": "display_data"
    },
    {
     "data": {
      "text/plain": [
       "<Figure size 432x288 with 0 Axes>"
      ]
     },
     "metadata": {},
     "output_type": "display_data"
    }
   ],
   "source": [
    "%matplotlib inline\n",
    "import matplotlib.pyplot as plt\n",
    "acc = history.history['accuracy']\n",
    "val_acc = history.history['val_accuracy']\n",
    "loss = history.history['loss']\n",
    "val_loss = history.history['val_loss']\n",
    "\n",
    "epochs = range(len(acc))\n",
    "\n",
    "plt.plot(epochs, acc, 'r', label='Training accuracy')\n",
    "plt.plot(epochs, val_acc, 'b', label='Validation accuracy')\n",
    "plt.title('Training and validation accuracy')\n",
    "plt.legend(loc=0)\n",
    "plt.figure()\n",
    "\n",
    "\n",
    "plt.show()"
   ]
  },
  {
   "cell_type": "code",
   "execution_count": null,
   "metadata": {},
   "outputs": [],
   "source": [
    "import numpy as np\n",
    "from google.colab import files\n",
    "from keras.preprocessing import image\n",
    "\n",
    "uploaded = files.upload()\n",
    "\n",
    "for fn in uploaded.keys():\n",
    " \n",
    "  # predicting images\n",
    "  path = fn\n",
    "  img = image.load_img(path, target_size=(48, 48))\n",
    "  x = image.img_to_array(img)\n",
    "  x = np.expand_dims(x, axis=0)\n",
    "\n",
    "  images = np.vstack([x])\n",
    "  classes = model.predict(images, batch_size=10)\n",
    "  print(fn)\n",
    "  print(classes)"
   ]
  },
  {
   "cell_type": "code",
   "execution_count": null,
   "metadata": {},
   "outputs": [],
   "source": []
  }
 ],
 "metadata": {
  "kernelspec": {
   "display_name": "Python 3",
   "language": "python",
   "name": "python3"
  },
  "language_info": {
   "codemirror_mode": {
    "name": "ipython",
    "version": 3
   },
   "file_extension": ".py",
   "mimetype": "text/x-python",
   "name": "python",
   "nbconvert_exporter": "python",
   "pygments_lexer": "ipython3",
   "version": "3.7.4"
  }
 },
 "nbformat": 4,
 "nbformat_minor": 2
}
